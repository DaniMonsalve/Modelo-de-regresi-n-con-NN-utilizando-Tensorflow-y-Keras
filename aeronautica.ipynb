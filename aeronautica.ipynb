{
  "nbformat": 4,
  "nbformat_minor": 0,
  "metadata": {
    "colab": {
      "name": "aeronautica.ipynb",
      "provenance": [],
      "collapsed_sections": [],
      "authorship_tag": "ABX9TyOcQOLovxjejhxOdJehh/6X"
    },
    "kernelspec": {
      "name": "python3",
      "display_name": "Python 3"
    },
    "language_info": {
      "name": "python"
    },
    "accelerator": "GPU"
  },
  "cells": [
    {
      "cell_type": "code",
      "execution_count": 111,
      "metadata": {
        "colab": {
          "base_uri": "https://localhost:8080/"
        },
        "id": "KnyyE-rl9XwB",
        "outputId": "29fd9ec5-7cec-4c86-8722-134137e43493"
      },
      "outputs": [
        {
          "output_type": "stream",
          "name": "stdout",
          "text": [
            "Drive already mounted at /content/gdrive; to attempt to forcibly remount, call drive.mount(\"/content/gdrive\", force_remount=True).\n"
          ]
        }
      ],
      "source": [
        "from google.colab import drive\n",
        "\n",
        "drive.mount('/content/gdrive')\n"
      ]
    },
    {
      "cell_type": "markdown",
      "source": [
        "# Nueva sección"
      ],
      "metadata": {
        "id": "8vIdkQv8jQ2p"
      }
    },
    {
      "cell_type": "markdown",
      "source": [
        "Se trata de un problema de regresión"
      ],
      "metadata": {
        "id": "nKm1Z42NBrih"
      }
    },
    {
      "cell_type": "code",
      "source": [
        "#LIBRERIAS:\n",
        "\n",
        "import pandas as pd\n",
        "import numpy as np\n",
        "import seaborn as sns\n",
        "import matplotlib.pyplot as plt\n",
        "from sklearn.preprocessing import StandardScaler\n",
        "import tensorflow as tf\n",
        "from tensorflow import keras\n",
        "from tensorflow.keras import layers\n",
        "from sklearn.model_selection import train_test_split\n",
        "from sklearn.ensemble import RandomForestRegressor\n",
        "from sklearn.model_selection import GridSearchCV\n",
        "from sklearn.linear_model import Ridge\n",
        "from sklearn import metrics\n",
        "from sklearn.metrics import mean_squared_error"
      ],
      "metadata": {
        "id": "gIVm7pbE_0RA"
      },
      "execution_count": 112,
      "outputs": []
    },
    {
      "cell_type": "code",
      "source": [
        "#Comprobar conexion GPU\n",
        "tf.test.gpu_device_name()\n"
      ],
      "metadata": {
        "colab": {
          "base_uri": "https://localhost:8080/",
          "height": 36
        },
        "id": "bQwRnwSdjvKZ",
        "outputId": "03526708-775a-40b0-969b-a265bfbe6569"
      },
      "execution_count": 113,
      "outputs": [
        {
          "output_type": "execute_result",
          "data": {
            "text/plain": [
              "'/device:GPU:0'"
            ],
            "application/vnd.google.colaboratory.intrinsic+json": {
              "type": "string"
            }
          },
          "metadata": {},
          "execution_count": 113
        }
      ]
    },
    {
      "cell_type": "code",
      "source": [
        "\n",
        "ruta_train = \"/content/gdrive/MyDrive/Colab Notebooks/train.csv\"\n",
        "df_train = pd.read_csv(ruta_train)\n",
        "\n",
        "ruta_test='/content/gdrive/MyDrive/Colab Notebooks/test.csv'\n",
        "df_test=pd.read_csv(ruta_test)"
      ],
      "metadata": {
        "id": "YOhkBjH6_k5o"
      },
      "execution_count": 114,
      "outputs": []
    },
    {
      "cell_type": "code",
      "source": [
        "#Análisis exploratorio:\n",
        "print(u'- Número de registros: {}'.format(df_train.shape[0]))\n",
        "print(u'- Número de variables: {}'.format(df_train.shape[1]))\n",
        "print(u'- Nombres de las variables independientes: {}'.format(list(df_train.columns.difference(['PesoTotalTARGET']))),'\\n\\n')\n",
        "df_train.head(4)"
      ],
      "metadata": {
        "colab": {
          "base_uri": "https://localhost:8080/",
          "height": 269
        },
        "id": "8COthI6vCBaG",
        "outputId": "c9a9c785-9854-45a1-9b67-eb741e659869"
      },
      "execution_count": 115,
      "outputs": [
        {
          "output_type": "stream",
          "name": "stdout",
          "text": [
            "- Número de registros: 29731\n",
            "- Número de variables: 14\n",
            "- Nombres de las variables independientes: ['AeropuertoLlegada', 'AeropuertoSalida', 'AnioSalida', 'DiaSalida', 'FechaSalida', 'FuelTotal', 'Maletas', 'MesSalida', 'NumeroVuelo', 'Pasajeros', 'PesoMaletas', 'Ruta', 'TiempoVuelo'] \n",
            "\n",
            "\n"
          ]
        },
        {
          "output_type": "execute_result",
          "data": {
            "text/plain": [
              "  FechaSalida  AnioSalida  MesSalida  DiaSalida  NumeroVuelo AeropuertoSalida  \\\n",
              "0  01/10/2016        2016         10          1         1145              MAN   \n",
              "1  01/10/2016        2016         10          1         1160              CTA   \n",
              "2  01/10/2016        2016         10          1         1183              LGW   \n",
              "3  01/10/2016        2016         10          1         1220              ATH   \n",
              "\n",
              "  AeropuertoLlegada     Ruta  TiempoVuelo  FuelTotal Pasajeros Maletas  \\\n",
              "0               SXF  MAN-SXF           91       3660       175      61   \n",
              "1               FCO  CTA-FCO           68       3280       182      27   \n",
              "2               SNN  LGW-SNN           64       2720       127  (null)   \n",
              "3               CHQ  ATH-CHQ           35       1682       163      12   \n",
              "\n",
              "  PesoMaletas PesoTotalTARGET  \n",
              "0         440           64016  \n",
              "1         350           66138  \n",
              "2      (null)           58447  \n",
              "3         150           60587  "
            ],
            "text/html": [
              "\n",
              "  <div id=\"df-d953b720-6080-4514-8727-ff5c6e18db47\">\n",
              "    <div class=\"colab-df-container\">\n",
              "      <div>\n",
              "<style scoped>\n",
              "    .dataframe tbody tr th:only-of-type {\n",
              "        vertical-align: middle;\n",
              "    }\n",
              "\n",
              "    .dataframe tbody tr th {\n",
              "        vertical-align: top;\n",
              "    }\n",
              "\n",
              "    .dataframe thead th {\n",
              "        text-align: right;\n",
              "    }\n",
              "</style>\n",
              "<table border=\"1\" class=\"dataframe\">\n",
              "  <thead>\n",
              "    <tr style=\"text-align: right;\">\n",
              "      <th></th>\n",
              "      <th>FechaSalida</th>\n",
              "      <th>AnioSalida</th>\n",
              "      <th>MesSalida</th>\n",
              "      <th>DiaSalida</th>\n",
              "      <th>NumeroVuelo</th>\n",
              "      <th>AeropuertoSalida</th>\n",
              "      <th>AeropuertoLlegada</th>\n",
              "      <th>Ruta</th>\n",
              "      <th>TiempoVuelo</th>\n",
              "      <th>FuelTotal</th>\n",
              "      <th>Pasajeros</th>\n",
              "      <th>Maletas</th>\n",
              "      <th>PesoMaletas</th>\n",
              "      <th>PesoTotalTARGET</th>\n",
              "    </tr>\n",
              "  </thead>\n",
              "  <tbody>\n",
              "    <tr>\n",
              "      <th>0</th>\n",
              "      <td>01/10/2016</td>\n",
              "      <td>2016</td>\n",
              "      <td>10</td>\n",
              "      <td>1</td>\n",
              "      <td>1145</td>\n",
              "      <td>MAN</td>\n",
              "      <td>SXF</td>\n",
              "      <td>MAN-SXF</td>\n",
              "      <td>91</td>\n",
              "      <td>3660</td>\n",
              "      <td>175</td>\n",
              "      <td>61</td>\n",
              "      <td>440</td>\n",
              "      <td>64016</td>\n",
              "    </tr>\n",
              "    <tr>\n",
              "      <th>1</th>\n",
              "      <td>01/10/2016</td>\n",
              "      <td>2016</td>\n",
              "      <td>10</td>\n",
              "      <td>1</td>\n",
              "      <td>1160</td>\n",
              "      <td>CTA</td>\n",
              "      <td>FCO</td>\n",
              "      <td>CTA-FCO</td>\n",
              "      <td>68</td>\n",
              "      <td>3280</td>\n",
              "      <td>182</td>\n",
              "      <td>27</td>\n",
              "      <td>350</td>\n",
              "      <td>66138</td>\n",
              "    </tr>\n",
              "    <tr>\n",
              "      <th>2</th>\n",
              "      <td>01/10/2016</td>\n",
              "      <td>2016</td>\n",
              "      <td>10</td>\n",
              "      <td>1</td>\n",
              "      <td>1183</td>\n",
              "      <td>LGW</td>\n",
              "      <td>SNN</td>\n",
              "      <td>LGW-SNN</td>\n",
              "      <td>64</td>\n",
              "      <td>2720</td>\n",
              "      <td>127</td>\n",
              "      <td>(null)</td>\n",
              "      <td>(null)</td>\n",
              "      <td>58447</td>\n",
              "    </tr>\n",
              "    <tr>\n",
              "      <th>3</th>\n",
              "      <td>01/10/2016</td>\n",
              "      <td>2016</td>\n",
              "      <td>10</td>\n",
              "      <td>1</td>\n",
              "      <td>1220</td>\n",
              "      <td>ATH</td>\n",
              "      <td>CHQ</td>\n",
              "      <td>ATH-CHQ</td>\n",
              "      <td>35</td>\n",
              "      <td>1682</td>\n",
              "      <td>163</td>\n",
              "      <td>12</td>\n",
              "      <td>150</td>\n",
              "      <td>60587</td>\n",
              "    </tr>\n",
              "  </tbody>\n",
              "</table>\n",
              "</div>\n",
              "      <button class=\"colab-df-convert\" onclick=\"convertToInteractive('df-d953b720-6080-4514-8727-ff5c6e18db47')\"\n",
              "              title=\"Convert this dataframe to an interactive table.\"\n",
              "              style=\"display:none;\">\n",
              "        \n",
              "  <svg xmlns=\"http://www.w3.org/2000/svg\" height=\"24px\"viewBox=\"0 0 24 24\"\n",
              "       width=\"24px\">\n",
              "    <path d=\"M0 0h24v24H0V0z\" fill=\"none\"/>\n",
              "    <path d=\"M18.56 5.44l.94 2.06.94-2.06 2.06-.94-2.06-.94-.94-2.06-.94 2.06-2.06.94zm-11 1L8.5 8.5l.94-2.06 2.06-.94-2.06-.94L8.5 2.5l-.94 2.06-2.06.94zm10 10l.94 2.06.94-2.06 2.06-.94-2.06-.94-.94-2.06-.94 2.06-2.06.94z\"/><path d=\"M17.41 7.96l-1.37-1.37c-.4-.4-.92-.59-1.43-.59-.52 0-1.04.2-1.43.59L10.3 9.45l-7.72 7.72c-.78.78-.78 2.05 0 2.83L4 21.41c.39.39.9.59 1.41.59.51 0 1.02-.2 1.41-.59l7.78-7.78 2.81-2.81c.8-.78.8-2.07 0-2.86zM5.41 20L4 18.59l7.72-7.72 1.47 1.35L5.41 20z\"/>\n",
              "  </svg>\n",
              "      </button>\n",
              "      \n",
              "  <style>\n",
              "    .colab-df-container {\n",
              "      display:flex;\n",
              "      flex-wrap:wrap;\n",
              "      gap: 12px;\n",
              "    }\n",
              "\n",
              "    .colab-df-convert {\n",
              "      background-color: #E8F0FE;\n",
              "      border: none;\n",
              "      border-radius: 50%;\n",
              "      cursor: pointer;\n",
              "      display: none;\n",
              "      fill: #1967D2;\n",
              "      height: 32px;\n",
              "      padding: 0 0 0 0;\n",
              "      width: 32px;\n",
              "    }\n",
              "\n",
              "    .colab-df-convert:hover {\n",
              "      background-color: #E2EBFA;\n",
              "      box-shadow: 0px 1px 2px rgba(60, 64, 67, 0.3), 0px 1px 3px 1px rgba(60, 64, 67, 0.15);\n",
              "      fill: #174EA6;\n",
              "    }\n",
              "\n",
              "    [theme=dark] .colab-df-convert {\n",
              "      background-color: #3B4455;\n",
              "      fill: #D2E3FC;\n",
              "    }\n",
              "\n",
              "    [theme=dark] .colab-df-convert:hover {\n",
              "      background-color: #434B5C;\n",
              "      box-shadow: 0px 1px 3px 1px rgba(0, 0, 0, 0.15);\n",
              "      filter: drop-shadow(0px 1px 2px rgba(0, 0, 0, 0.3));\n",
              "      fill: #FFFFFF;\n",
              "    }\n",
              "  </style>\n",
              "\n",
              "      <script>\n",
              "        const buttonEl =\n",
              "          document.querySelector('#df-d953b720-6080-4514-8727-ff5c6e18db47 button.colab-df-convert');\n",
              "        buttonEl.style.display =\n",
              "          google.colab.kernel.accessAllowed ? 'block' : 'none';\n",
              "\n",
              "        async function convertToInteractive(key) {\n",
              "          const element = document.querySelector('#df-d953b720-6080-4514-8727-ff5c6e18db47');\n",
              "          const dataTable =\n",
              "            await google.colab.kernel.invokeFunction('convertToInteractive',\n",
              "                                                     [key], {});\n",
              "          if (!dataTable) return;\n",
              "\n",
              "          const docLinkHtml = 'Like what you see? Visit the ' +\n",
              "            '<a target=\"_blank\" href=https://colab.research.google.com/notebooks/data_table.ipynb>data table notebook</a>'\n",
              "            + ' to learn more about interactive tables.';\n",
              "          element.innerHTML = '';\n",
              "          dataTable['output_type'] = 'display_data';\n",
              "          await google.colab.output.renderOutput(dataTable, element);\n",
              "          const docLink = document.createElement('div');\n",
              "          docLink.innerHTML = docLinkHtml;\n",
              "          element.appendChild(docLink);\n",
              "        }\n",
              "      </script>\n",
              "    </div>\n",
              "  </div>\n",
              "  "
            ]
          },
          "metadata": {},
          "execution_count": 115
        }
      ]
    },
    {
      "cell_type": "code",
      "source": [
        "df_train.dtypes"
      ],
      "metadata": {
        "colab": {
          "base_uri": "https://localhost:8080/"
        },
        "id": "eTl8jGCDAdPY",
        "outputId": "d2ecea80-20bc-4f4e-e3d1-9fbeac6d6fbb"
      },
      "execution_count": 116,
      "outputs": [
        {
          "output_type": "execute_result",
          "data": {
            "text/plain": [
              "FechaSalida          object\n",
              "AnioSalida            int64\n",
              "MesSalida             int64\n",
              "DiaSalida             int64\n",
              "NumeroVuelo           int64\n",
              "AeropuertoSalida     object\n",
              "AeropuertoLlegada    object\n",
              "Ruta                 object\n",
              "TiempoVuelo           int64\n",
              "FuelTotal             int64\n",
              "Pasajeros            object\n",
              "Maletas              object\n",
              "PesoMaletas          object\n",
              "PesoTotalTARGET      object\n",
              "dtype: object"
            ]
          },
          "metadata": {},
          "execution_count": 116
        }
      ]
    },
    {
      "cell_type": "code",
      "source": [
        "#transformo algunas de las variables que aparecen como object en int64\n",
        "\n",
        "# primero utilizo la función 'coerce' para transformar los valores que aparecen como '(null)' en NaN\n",
        "df_train['Pasajeros'] = pd.to_numeric(df_train['Pasajeros'], errors='coerce')\n",
        "df_train['Maletas'] = pd.to_numeric(df_train['Maletas'], errors='coerce')\n",
        "df_train['PesoMaletas'] = pd.to_numeric(df_train['PesoMaletas'], errors='coerce')\n",
        "df_train['PesoTotalTARGET'] = pd.to_numeric(df_train['PesoTotalTARGET'], errors='coerce')\n",
        "\n",
        "\n",
        "df_train['Pasajeros'] = df_train['Pasajeros'].astype('Int64')\n",
        "df_train['Maletas'] = df_train['Maletas'].astype('Int64')\n",
        "df_train['PesoMaletas'] = df_train['PesoMaletas'].astype('Int64')\n",
        "df_train['PesoTotalTARGET'] = df_train['PesoTotalTARGET'].astype('Int64')\n",
        "\n",
        "#Tranformo la variable \"NumeroVuelo\" a object\n",
        "df_train['NumeroVuelo'] = df_train['NumeroVuelo'].astype('object')\n",
        "\n",
        "#Repito lo mismo para el conjunto test:\n",
        "df_test['Pasajeros'] = pd.to_numeric(df_test['Pasajeros'], errors='coerce')\n",
        "df_test['Maletas'] = pd.to_numeric(df_test['Maletas'], errors='coerce')\n",
        "df_test['PesoMaletas'] = pd.to_numeric(df_test['PesoMaletas'], errors='coerce')\n",
        "\n",
        "df_test['Pasajeros'] = df_test['Pasajeros'].astype('Int64')\n",
        "df_test['Maletas'] = df_test['Maletas'].astype('Int64')\n",
        "df_test['PesoMaletas'] = df_test['PesoMaletas'].astype('Int64')\n",
        "\n",
        "df_test['NumeroVuelo'] = df_test['NumeroVuelo'].astype('object')"
      ],
      "metadata": {
        "id": "_vnnHi6KHLDo"
      },
      "execution_count": 117,
      "outputs": []
    },
    {
      "cell_type": "code",
      "source": [
        "#Análisis de los valores faltantes:\n",
        "print(pd.DataFrame({'Número de valores NaN': df_train.isna().sum(), 'proporción de NaN (%)': (df_train.isna().sum() / df_train.shape[0]) * 100}).sort_values(by='Número de valores NaN', ascending=False),'\\n\\n')\n",
        "print('Número de valores faltantes de todo el dataframe: ', df_train.isnull().sum().sum())\n",
        "print('Porcentaje de valores faltantes de todo el dataframe: ', df_train.isnull().mean().mean())\n",
        "print('Número de filas con valores nulos: ',df_train.isnull().any(axis=1).sum())\n",
        "print('porcentaje de filas con algún valor faltante en el dataset: ', (df_train.shape[0])/df_train.isnull().any(axis=1).sum())\n",
        "print('Número de registros duplicados: ',df_train.duplicated().sum())\n"
      ],
      "metadata": {
        "colab": {
          "base_uri": "https://localhost:8080/"
        },
        "id": "11l1eX6nO8kQ",
        "outputId": "e9ef03bb-a0cc-4626-cdc0-b13abe6b5c9f"
      },
      "execution_count": 118,
      "outputs": [
        {
          "output_type": "stream",
          "name": "stdout",
          "text": [
            "                   Número de valores NaN  proporción de NaN (%)\n",
            "PesoMaletas                         2478               8.334735\n",
            "Maletas                             2284               7.682217\n",
            "PesoTotalTARGET                      433               1.456392\n",
            "Pasajeros                             95               0.319532\n",
            "FechaSalida                            0               0.000000\n",
            "AnioSalida                             0               0.000000\n",
            "MesSalida                              0               0.000000\n",
            "DiaSalida                              0               0.000000\n",
            "NumeroVuelo                            0               0.000000\n",
            "AeropuertoSalida                       0               0.000000\n",
            "AeropuertoLlegada                      0               0.000000\n",
            "Ruta                                   0               0.000000\n",
            "TiempoVuelo                            0               0.000000\n",
            "FuelTotal                              0               0.000000 \n",
            "\n",
            "\n",
            "Número de valores faltantes de todo el dataframe:  5290\n",
            "Porcentaje de valores faltantes de todo el dataframe:  0.01270919723040405\n",
            "Número de filas con valores nulos:  2931\n",
            "porcentaje de filas con algún valor faltante en el dataset:  10.143636983964518\n",
            "Número de registros duplicados:  0\n"
          ]
        }
      ]
    },
    {
      "cell_type": "markdown",
      "source": [
        "# **Visualizaciones y correlaciones:**"
      ],
      "metadata": {
        "id": "TtB-Nefz2xIs"
      }
    },
    {
      "cell_type": "markdown",
      "source": [
        "**Descriptivos básicos:**"
      ],
      "metadata": {
        "id": "fQFbnLFg26Zq"
      }
    },
    {
      "cell_type": "code",
      "source": [
        "df_train.describe()"
      ],
      "metadata": {
        "colab": {
          "base_uri": "https://localhost:8080/",
          "height": 300
        },
        "id": "LJejOO2m3Oxs",
        "outputId": "7d15da4a-f2ca-48bc-e68b-2ec0f1a89208"
      },
      "execution_count": 119,
      "outputs": [
        {
          "output_type": "execute_result",
          "data": {
            "text/plain": [
              "       AnioSalida  MesSalida     DiaSalida   TiempoVuelo     FuelTotal  \\\n",
              "count     29731.0    29731.0  29731.000000  29731.000000  29731.000000   \n",
              "mean       2016.0       10.0      7.987723    110.069221   4782.483536   \n",
              "std           0.0        0.0      4.313351     52.457470   2069.865460   \n",
              "min        2016.0       10.0      1.000000      2.000000    600.000000   \n",
              "25%        2016.0       10.0      4.000000     73.000000   3210.000000   \n",
              "50%        2016.0       10.0      8.000000    105.000000   4530.000000   \n",
              "75%        2016.0       10.0     12.000000    140.000000   6010.000000   \n",
              "max        2016.0       10.0     15.000000   1504.000000  17890.000000   \n",
              "\n",
              "          Pasajeros       Maletas   PesoMaletas  PesoTotalTARGET  \n",
              "count  29636.000000  27447.000000  27253.000000     29298.000000  \n",
              "mean     167.268626     45.417022    573.618464     65031.246638  \n",
              "std       20.177527     32.797217    376.524581      3339.385728  \n",
              "min        4.000000      1.000000      3.000000     42991.000000  \n",
              "25%      163.000000     23.000000    300.000000     63127.000000  \n",
              "50%      173.000000     39.000000    490.000000     65122.000000  \n",
              "75%      179.000000     62.000000    780.000000     67154.000000  \n",
              "max      189.000000   1180.000000  10530.000000     74283.000000  "
            ],
            "text/html": [
              "\n",
              "  <div id=\"df-f506a60f-2ab5-4ac9-bfdf-20ef8e0149a4\">\n",
              "    <div class=\"colab-df-container\">\n",
              "      <div>\n",
              "<style scoped>\n",
              "    .dataframe tbody tr th:only-of-type {\n",
              "        vertical-align: middle;\n",
              "    }\n",
              "\n",
              "    .dataframe tbody tr th {\n",
              "        vertical-align: top;\n",
              "    }\n",
              "\n",
              "    .dataframe thead th {\n",
              "        text-align: right;\n",
              "    }\n",
              "</style>\n",
              "<table border=\"1\" class=\"dataframe\">\n",
              "  <thead>\n",
              "    <tr style=\"text-align: right;\">\n",
              "      <th></th>\n",
              "      <th>AnioSalida</th>\n",
              "      <th>MesSalida</th>\n",
              "      <th>DiaSalida</th>\n",
              "      <th>TiempoVuelo</th>\n",
              "      <th>FuelTotal</th>\n",
              "      <th>Pasajeros</th>\n",
              "      <th>Maletas</th>\n",
              "      <th>PesoMaletas</th>\n",
              "      <th>PesoTotalTARGET</th>\n",
              "    </tr>\n",
              "  </thead>\n",
              "  <tbody>\n",
              "    <tr>\n",
              "      <th>count</th>\n",
              "      <td>29731.0</td>\n",
              "      <td>29731.0</td>\n",
              "      <td>29731.000000</td>\n",
              "      <td>29731.000000</td>\n",
              "      <td>29731.000000</td>\n",
              "      <td>29636.000000</td>\n",
              "      <td>27447.000000</td>\n",
              "      <td>27253.000000</td>\n",
              "      <td>29298.000000</td>\n",
              "    </tr>\n",
              "    <tr>\n",
              "      <th>mean</th>\n",
              "      <td>2016.0</td>\n",
              "      <td>10.0</td>\n",
              "      <td>7.987723</td>\n",
              "      <td>110.069221</td>\n",
              "      <td>4782.483536</td>\n",
              "      <td>167.268626</td>\n",
              "      <td>45.417022</td>\n",
              "      <td>573.618464</td>\n",
              "      <td>65031.246638</td>\n",
              "    </tr>\n",
              "    <tr>\n",
              "      <th>std</th>\n",
              "      <td>0.0</td>\n",
              "      <td>0.0</td>\n",
              "      <td>4.313351</td>\n",
              "      <td>52.457470</td>\n",
              "      <td>2069.865460</td>\n",
              "      <td>20.177527</td>\n",
              "      <td>32.797217</td>\n",
              "      <td>376.524581</td>\n",
              "      <td>3339.385728</td>\n",
              "    </tr>\n",
              "    <tr>\n",
              "      <th>min</th>\n",
              "      <td>2016.0</td>\n",
              "      <td>10.0</td>\n",
              "      <td>1.000000</td>\n",
              "      <td>2.000000</td>\n",
              "      <td>600.000000</td>\n",
              "      <td>4.000000</td>\n",
              "      <td>1.000000</td>\n",
              "      <td>3.000000</td>\n",
              "      <td>42991.000000</td>\n",
              "    </tr>\n",
              "    <tr>\n",
              "      <th>25%</th>\n",
              "      <td>2016.0</td>\n",
              "      <td>10.0</td>\n",
              "      <td>4.000000</td>\n",
              "      <td>73.000000</td>\n",
              "      <td>3210.000000</td>\n",
              "      <td>163.000000</td>\n",
              "      <td>23.000000</td>\n",
              "      <td>300.000000</td>\n",
              "      <td>63127.000000</td>\n",
              "    </tr>\n",
              "    <tr>\n",
              "      <th>50%</th>\n",
              "      <td>2016.0</td>\n",
              "      <td>10.0</td>\n",
              "      <td>8.000000</td>\n",
              "      <td>105.000000</td>\n",
              "      <td>4530.000000</td>\n",
              "      <td>173.000000</td>\n",
              "      <td>39.000000</td>\n",
              "      <td>490.000000</td>\n",
              "      <td>65122.000000</td>\n",
              "    </tr>\n",
              "    <tr>\n",
              "      <th>75%</th>\n",
              "      <td>2016.0</td>\n",
              "      <td>10.0</td>\n",
              "      <td>12.000000</td>\n",
              "      <td>140.000000</td>\n",
              "      <td>6010.000000</td>\n",
              "      <td>179.000000</td>\n",
              "      <td>62.000000</td>\n",
              "      <td>780.000000</td>\n",
              "      <td>67154.000000</td>\n",
              "    </tr>\n",
              "    <tr>\n",
              "      <th>max</th>\n",
              "      <td>2016.0</td>\n",
              "      <td>10.0</td>\n",
              "      <td>15.000000</td>\n",
              "      <td>1504.000000</td>\n",
              "      <td>17890.000000</td>\n",
              "      <td>189.000000</td>\n",
              "      <td>1180.000000</td>\n",
              "      <td>10530.000000</td>\n",
              "      <td>74283.000000</td>\n",
              "    </tr>\n",
              "  </tbody>\n",
              "</table>\n",
              "</div>\n",
              "      <button class=\"colab-df-convert\" onclick=\"convertToInteractive('df-f506a60f-2ab5-4ac9-bfdf-20ef8e0149a4')\"\n",
              "              title=\"Convert this dataframe to an interactive table.\"\n",
              "              style=\"display:none;\">\n",
              "        \n",
              "  <svg xmlns=\"http://www.w3.org/2000/svg\" height=\"24px\"viewBox=\"0 0 24 24\"\n",
              "       width=\"24px\">\n",
              "    <path d=\"M0 0h24v24H0V0z\" fill=\"none\"/>\n",
              "    <path d=\"M18.56 5.44l.94 2.06.94-2.06 2.06-.94-2.06-.94-.94-2.06-.94 2.06-2.06.94zm-11 1L8.5 8.5l.94-2.06 2.06-.94-2.06-.94L8.5 2.5l-.94 2.06-2.06.94zm10 10l.94 2.06.94-2.06 2.06-.94-2.06-.94-.94-2.06-.94 2.06-2.06.94z\"/><path d=\"M17.41 7.96l-1.37-1.37c-.4-.4-.92-.59-1.43-.59-.52 0-1.04.2-1.43.59L10.3 9.45l-7.72 7.72c-.78.78-.78 2.05 0 2.83L4 21.41c.39.39.9.59 1.41.59.51 0 1.02-.2 1.41-.59l7.78-7.78 2.81-2.81c.8-.78.8-2.07 0-2.86zM5.41 20L4 18.59l7.72-7.72 1.47 1.35L5.41 20z\"/>\n",
              "  </svg>\n",
              "      </button>\n",
              "      \n",
              "  <style>\n",
              "    .colab-df-container {\n",
              "      display:flex;\n",
              "      flex-wrap:wrap;\n",
              "      gap: 12px;\n",
              "    }\n",
              "\n",
              "    .colab-df-convert {\n",
              "      background-color: #E8F0FE;\n",
              "      border: none;\n",
              "      border-radius: 50%;\n",
              "      cursor: pointer;\n",
              "      display: none;\n",
              "      fill: #1967D2;\n",
              "      height: 32px;\n",
              "      padding: 0 0 0 0;\n",
              "      width: 32px;\n",
              "    }\n",
              "\n",
              "    .colab-df-convert:hover {\n",
              "      background-color: #E2EBFA;\n",
              "      box-shadow: 0px 1px 2px rgba(60, 64, 67, 0.3), 0px 1px 3px 1px rgba(60, 64, 67, 0.15);\n",
              "      fill: #174EA6;\n",
              "    }\n",
              "\n",
              "    [theme=dark] .colab-df-convert {\n",
              "      background-color: #3B4455;\n",
              "      fill: #D2E3FC;\n",
              "    }\n",
              "\n",
              "    [theme=dark] .colab-df-convert:hover {\n",
              "      background-color: #434B5C;\n",
              "      box-shadow: 0px 1px 3px 1px rgba(0, 0, 0, 0.15);\n",
              "      filter: drop-shadow(0px 1px 2px rgba(0, 0, 0, 0.3));\n",
              "      fill: #FFFFFF;\n",
              "    }\n",
              "  </style>\n",
              "\n",
              "      <script>\n",
              "        const buttonEl =\n",
              "          document.querySelector('#df-f506a60f-2ab5-4ac9-bfdf-20ef8e0149a4 button.colab-df-convert');\n",
              "        buttonEl.style.display =\n",
              "          google.colab.kernel.accessAllowed ? 'block' : 'none';\n",
              "\n",
              "        async function convertToInteractive(key) {\n",
              "          const element = document.querySelector('#df-f506a60f-2ab5-4ac9-bfdf-20ef8e0149a4');\n",
              "          const dataTable =\n",
              "            await google.colab.kernel.invokeFunction('convertToInteractive',\n",
              "                                                     [key], {});\n",
              "          if (!dataTable) return;\n",
              "\n",
              "          const docLinkHtml = 'Like what you see? Visit the ' +\n",
              "            '<a target=\"_blank\" href=https://colab.research.google.com/notebooks/data_table.ipynb>data table notebook</a>'\n",
              "            + ' to learn more about interactive tables.';\n",
              "          element.innerHTML = '';\n",
              "          dataTable['output_type'] = 'display_data';\n",
              "          await google.colab.output.renderOutput(dataTable, element);\n",
              "          const docLink = document.createElement('div');\n",
              "          docLink.innerHTML = docLinkHtml;\n",
              "          element.appendChild(docLink);\n",
              "        }\n",
              "      </script>\n",
              "    </div>\n",
              "  </div>\n",
              "  "
            ]
          },
          "metadata": {},
          "execution_count": 119
        }
      ]
    },
    {
      "cell_type": "code",
      "source": [
        "df_test.describe()"
      ],
      "metadata": {
        "colab": {
          "base_uri": "https://localhost:8080/",
          "height": 300
        },
        "id": "yRFMGaORiUG5",
        "outputId": "63366ed9-d9ff-4571-b4ae-e2772c8ebe55"
      },
      "execution_count": 120,
      "outputs": [
        {
          "output_type": "execute_result",
          "data": {
            "text/plain": [
              "       AnioSalida  MesSalida  DiaSalida  TiempoVuelo     FuelTotal  \\\n",
              "count      1916.0     1916.0     1916.0  1916.000000   1916.000000   \n",
              "mean       2016.0       10.0       15.0   112.551670   4880.154489   \n",
              "std           0.0        0.0        0.0    59.131221   2161.970258   \n",
              "min        2016.0       10.0       15.0    22.000000   1090.000000   \n",
              "25%        2016.0       10.0       15.0    74.000000   3280.000000   \n",
              "50%        2016.0       10.0       15.0   107.000000   4600.000000   \n",
              "75%        2016.0       10.0       15.0   141.000000   6107.750000   \n",
              "max        2016.0       10.0       15.0  1440.000000  14550.000000   \n",
              "\n",
              "         Pasajeros      Maletas  PesoMaletas  \n",
              "count  1910.000000  1776.000000  1769.000000  \n",
              "mean    172.176963    53.591779   658.972301  \n",
              "std      13.176526    50.598686   454.532352  \n",
              "min      67.000000     1.000000     6.000000  \n",
              "25%     168.000000    27.000000   340.000000  \n",
              "50%     175.000000    46.000000   570.000000  \n",
              "75%     181.000000    73.000000   910.000000  \n",
              "max     189.000000  1180.000000  9100.000000  "
            ],
            "text/html": [
              "\n",
              "  <div id=\"df-574bfa36-c878-4fa3-a80f-0054349ab527\">\n",
              "    <div class=\"colab-df-container\">\n",
              "      <div>\n",
              "<style scoped>\n",
              "    .dataframe tbody tr th:only-of-type {\n",
              "        vertical-align: middle;\n",
              "    }\n",
              "\n",
              "    .dataframe tbody tr th {\n",
              "        vertical-align: top;\n",
              "    }\n",
              "\n",
              "    .dataframe thead th {\n",
              "        text-align: right;\n",
              "    }\n",
              "</style>\n",
              "<table border=\"1\" class=\"dataframe\">\n",
              "  <thead>\n",
              "    <tr style=\"text-align: right;\">\n",
              "      <th></th>\n",
              "      <th>AnioSalida</th>\n",
              "      <th>MesSalida</th>\n",
              "      <th>DiaSalida</th>\n",
              "      <th>TiempoVuelo</th>\n",
              "      <th>FuelTotal</th>\n",
              "      <th>Pasajeros</th>\n",
              "      <th>Maletas</th>\n",
              "      <th>PesoMaletas</th>\n",
              "    </tr>\n",
              "  </thead>\n",
              "  <tbody>\n",
              "    <tr>\n",
              "      <th>count</th>\n",
              "      <td>1916.0</td>\n",
              "      <td>1916.0</td>\n",
              "      <td>1916.0</td>\n",
              "      <td>1916.000000</td>\n",
              "      <td>1916.000000</td>\n",
              "      <td>1910.000000</td>\n",
              "      <td>1776.000000</td>\n",
              "      <td>1769.000000</td>\n",
              "    </tr>\n",
              "    <tr>\n",
              "      <th>mean</th>\n",
              "      <td>2016.0</td>\n",
              "      <td>10.0</td>\n",
              "      <td>15.0</td>\n",
              "      <td>112.551670</td>\n",
              "      <td>4880.154489</td>\n",
              "      <td>172.176963</td>\n",
              "      <td>53.591779</td>\n",
              "      <td>658.972301</td>\n",
              "    </tr>\n",
              "    <tr>\n",
              "      <th>std</th>\n",
              "      <td>0.0</td>\n",
              "      <td>0.0</td>\n",
              "      <td>0.0</td>\n",
              "      <td>59.131221</td>\n",
              "      <td>2161.970258</td>\n",
              "      <td>13.176526</td>\n",
              "      <td>50.598686</td>\n",
              "      <td>454.532352</td>\n",
              "    </tr>\n",
              "    <tr>\n",
              "      <th>min</th>\n",
              "      <td>2016.0</td>\n",
              "      <td>10.0</td>\n",
              "      <td>15.0</td>\n",
              "      <td>22.000000</td>\n",
              "      <td>1090.000000</td>\n",
              "      <td>67.000000</td>\n",
              "      <td>1.000000</td>\n",
              "      <td>6.000000</td>\n",
              "    </tr>\n",
              "    <tr>\n",
              "      <th>25%</th>\n",
              "      <td>2016.0</td>\n",
              "      <td>10.0</td>\n",
              "      <td>15.0</td>\n",
              "      <td>74.000000</td>\n",
              "      <td>3280.000000</td>\n",
              "      <td>168.000000</td>\n",
              "      <td>27.000000</td>\n",
              "      <td>340.000000</td>\n",
              "    </tr>\n",
              "    <tr>\n",
              "      <th>50%</th>\n",
              "      <td>2016.0</td>\n",
              "      <td>10.0</td>\n",
              "      <td>15.0</td>\n",
              "      <td>107.000000</td>\n",
              "      <td>4600.000000</td>\n",
              "      <td>175.000000</td>\n",
              "      <td>46.000000</td>\n",
              "      <td>570.000000</td>\n",
              "    </tr>\n",
              "    <tr>\n",
              "      <th>75%</th>\n",
              "      <td>2016.0</td>\n",
              "      <td>10.0</td>\n",
              "      <td>15.0</td>\n",
              "      <td>141.000000</td>\n",
              "      <td>6107.750000</td>\n",
              "      <td>181.000000</td>\n",
              "      <td>73.000000</td>\n",
              "      <td>910.000000</td>\n",
              "    </tr>\n",
              "    <tr>\n",
              "      <th>max</th>\n",
              "      <td>2016.0</td>\n",
              "      <td>10.0</td>\n",
              "      <td>15.0</td>\n",
              "      <td>1440.000000</td>\n",
              "      <td>14550.000000</td>\n",
              "      <td>189.000000</td>\n",
              "      <td>1180.000000</td>\n",
              "      <td>9100.000000</td>\n",
              "    </tr>\n",
              "  </tbody>\n",
              "</table>\n",
              "</div>\n",
              "      <button class=\"colab-df-convert\" onclick=\"convertToInteractive('df-574bfa36-c878-4fa3-a80f-0054349ab527')\"\n",
              "              title=\"Convert this dataframe to an interactive table.\"\n",
              "              style=\"display:none;\">\n",
              "        \n",
              "  <svg xmlns=\"http://www.w3.org/2000/svg\" height=\"24px\"viewBox=\"0 0 24 24\"\n",
              "       width=\"24px\">\n",
              "    <path d=\"M0 0h24v24H0V0z\" fill=\"none\"/>\n",
              "    <path d=\"M18.56 5.44l.94 2.06.94-2.06 2.06-.94-2.06-.94-.94-2.06-.94 2.06-2.06.94zm-11 1L8.5 8.5l.94-2.06 2.06-.94-2.06-.94L8.5 2.5l-.94 2.06-2.06.94zm10 10l.94 2.06.94-2.06 2.06-.94-2.06-.94-.94-2.06-.94 2.06-2.06.94z\"/><path d=\"M17.41 7.96l-1.37-1.37c-.4-.4-.92-.59-1.43-.59-.52 0-1.04.2-1.43.59L10.3 9.45l-7.72 7.72c-.78.78-.78 2.05 0 2.83L4 21.41c.39.39.9.59 1.41.59.51 0 1.02-.2 1.41-.59l7.78-7.78 2.81-2.81c.8-.78.8-2.07 0-2.86zM5.41 20L4 18.59l7.72-7.72 1.47 1.35L5.41 20z\"/>\n",
              "  </svg>\n",
              "      </button>\n",
              "      \n",
              "  <style>\n",
              "    .colab-df-container {\n",
              "      display:flex;\n",
              "      flex-wrap:wrap;\n",
              "      gap: 12px;\n",
              "    }\n",
              "\n",
              "    .colab-df-convert {\n",
              "      background-color: #E8F0FE;\n",
              "      border: none;\n",
              "      border-radius: 50%;\n",
              "      cursor: pointer;\n",
              "      display: none;\n",
              "      fill: #1967D2;\n",
              "      height: 32px;\n",
              "      padding: 0 0 0 0;\n",
              "      width: 32px;\n",
              "    }\n",
              "\n",
              "    .colab-df-convert:hover {\n",
              "      background-color: #E2EBFA;\n",
              "      box-shadow: 0px 1px 2px rgba(60, 64, 67, 0.3), 0px 1px 3px 1px rgba(60, 64, 67, 0.15);\n",
              "      fill: #174EA6;\n",
              "    }\n",
              "\n",
              "    [theme=dark] .colab-df-convert {\n",
              "      background-color: #3B4455;\n",
              "      fill: #D2E3FC;\n",
              "    }\n",
              "\n",
              "    [theme=dark] .colab-df-convert:hover {\n",
              "      background-color: #434B5C;\n",
              "      box-shadow: 0px 1px 3px 1px rgba(0, 0, 0, 0.15);\n",
              "      filter: drop-shadow(0px 1px 2px rgba(0, 0, 0, 0.3));\n",
              "      fill: #FFFFFF;\n",
              "    }\n",
              "  </style>\n",
              "\n",
              "      <script>\n",
              "        const buttonEl =\n",
              "          document.querySelector('#df-574bfa36-c878-4fa3-a80f-0054349ab527 button.colab-df-convert');\n",
              "        buttonEl.style.display =\n",
              "          google.colab.kernel.accessAllowed ? 'block' : 'none';\n",
              "\n",
              "        async function convertToInteractive(key) {\n",
              "          const element = document.querySelector('#df-574bfa36-c878-4fa3-a80f-0054349ab527');\n",
              "          const dataTable =\n",
              "            await google.colab.kernel.invokeFunction('convertToInteractive',\n",
              "                                                     [key], {});\n",
              "          if (!dataTable) return;\n",
              "\n",
              "          const docLinkHtml = 'Like what you see? Visit the ' +\n",
              "            '<a target=\"_blank\" href=https://colab.research.google.com/notebooks/data_table.ipynb>data table notebook</a>'\n",
              "            + ' to learn more about interactive tables.';\n",
              "          element.innerHTML = '';\n",
              "          dataTable['output_type'] = 'display_data';\n",
              "          await google.colab.output.renderOutput(dataTable, element);\n",
              "          const docLink = document.createElement('div');\n",
              "          docLink.innerHTML = docLinkHtml;\n",
              "          element.appendChild(docLink);\n",
              "        }\n",
              "      </script>\n",
              "    </div>\n",
              "  </div>\n",
              "  "
            ]
          },
          "metadata": {},
          "execution_count": 120
        }
      ]
    },
    {
      "cell_type": "code",
      "source": [
        "#Teniendo en cuenta que el año y el mes es siempre el mismo, elimino las columnas 'fechaSalida', 'AnioSalida' y 'MesSalida' para train y test, quedandome únicamente con la columna día.\n",
        "\n",
        "df_train=df_train.drop([ 'AnioSalida', 'FechaSalida', 'MesSalida'],axis=1) \n",
        "df_test=df_test.drop([ 'AnioSalida', 'FechaSalida', 'MesSalida'],axis=1) "
      ],
      "metadata": {
        "id": "NSssOAKSCQxR"
      },
      "execution_count": 121,
      "outputs": []
    },
    {
      "cell_type": "markdown",
      "source": [
        "**Boxplots:**"
      ],
      "metadata": {
        "id": "MVTeiUJy3r2U"
      }
    },
    {
      "cell_type": "code",
      "source": [
        "#Elimino los registros con valores faltantes para el conjunto train (10% de los registros del conjunto train)\n",
        "df_train=df_train.dropna() "
      ],
      "metadata": {
        "id": "RvRE091QHMEE"
      },
      "execution_count": 122,
      "outputs": []
    },
    {
      "cell_type": "code",
      "source": [
        "df_test.isnull().sum()"
      ],
      "metadata": {
        "colab": {
          "base_uri": "https://localhost:8080/"
        },
        "id": "LVx-vWbiJ73g",
        "outputId": "d939acac-e202-4aa1-cf92-be6f35a26d06"
      },
      "execution_count": 123,
      "outputs": [
        {
          "output_type": "execute_result",
          "data": {
            "text/plain": [
              "DiaSalida              0\n",
              "NumeroVuelo            0\n",
              "AeropuertoSalida       0\n",
              "AeropuertoLlegada      0\n",
              "Ruta                   0\n",
              "TiempoVuelo            0\n",
              "FuelTotal              0\n",
              "Pasajeros              6\n",
              "Maletas              140\n",
              "PesoMaletas          147\n",
              "dtype: int64"
            ]
          },
          "metadata": {},
          "execution_count": 123
        }
      ]
    },
    {
      "cell_type": "code",
      "source": [
        "df_test.dtypes\n"
      ],
      "metadata": {
        "colab": {
          "base_uri": "https://localhost:8080/"
        },
        "id": "IHe2WOlCKQla",
        "outputId": "927dfcb9-2f8f-4378-e0d8-d6afefd875f8"
      },
      "execution_count": 124,
      "outputs": [
        {
          "output_type": "execute_result",
          "data": {
            "text/plain": [
              "DiaSalida             int64\n",
              "NumeroVuelo          object\n",
              "AeropuertoSalida     object\n",
              "AeropuertoLlegada    object\n",
              "Ruta                 object\n",
              "TiempoVuelo           int64\n",
              "FuelTotal             int64\n",
              "Pasajeros             Int64\n",
              "Maletas               Int64\n",
              "PesoMaletas           Int64\n",
              "dtype: object"
            ]
          },
          "metadata": {},
          "execution_count": 124
        }
      ]
    },
    {
      "cell_type": "code",
      "source": [
        "#Represento la dispersión de las variables predict continuas (normalizadas)\n",
        "\n",
        "\n",
        "continuas=df_train.drop(['AeropuertoLlegada', 'AeropuertoSalida', 'DiaSalida', 'NumeroVuelo', 'Ruta'],axis=1) \n",
        "\n",
        "continuas_normalizado = (continuas-continuas.mean())/continuas.std()\n",
        "\n",
        "\n",
        "plt.figure(figsize=(25,8))\n",
        "sns.boxplot(data=continuas_normalizado)\n",
        "plt.title(u'Representación de cajas de las variables independientes X')\n",
        "_ = plt.xlabel('')"
      ],
      "metadata": {
        "colab": {
          "base_uri": "https://localhost:8080/",
          "height": 499
        },
        "id": "rReKMi3dDzhN",
        "outputId": "857bf648-7144-4ad3-844f-068c15c0058b"
      },
      "execution_count": 125,
      "outputs": [
        {
          "output_type": "display_data",
          "data": {
            "text/plain": [
              "<Figure size 1800x576 with 1 Axes>"
            ],
            "image/png": "[encoded data removed]"
          },
          "metadata": {
            "needs_background": "light"
          }
        }
      ]
    },
    {
      "cell_type": "code",
      "source": [
        "import matplotlib.pyplot as plt\n",
        "for column in continuas:\n",
        "  plt.figure()\n",
        "  continuas.boxplot([column])\n"
      ],
      "metadata": {
        "colab": {
          "base_uri": "https://localhost:8080/",
          "height": 1000
        },
        "id": "0EECDZAZOgO8",
        "outputId": "6e01fc7c-bfac-4a3e-a997-a007589a96b6"
      },
      "execution_count": 126,
      "outputs": [
        {
          "output_type": "display_data",
          "data": {
            "text/plain": [
              "<Figure size 432x288 with 1 Axes>"
            ],
            "image/png": "[encoded data removed]"
          },
          "metadata": {
            "needs_background": "light"
          }
        },
        {
          "output_type": "display_data",
          "data": {
            "text/plain": [
              "<Figure size 432x288 with 1 Axes>"
            ],
            "image/png": "[encoded data removed]"
          },
          "metadata": {
            "needs_background": "light"
          }
        },
        {
          "output_type": "display_data",
          "data": {
            "text/plain": [
              "<Figure size 432x288 with 1 Axes>"
            ],
            "image/png": "[encoded data removed]"
          },
          "metadata": {
            "needs_background": "light"
          }
        },
        {
          "output_type": "display_data",
          "data": {
            "text/plain": [
              "<Figure size 432x288 with 1 Axes>"
            ],
            "image/png": "[encoded data removed]"
          },
          "metadata": {
            "needs_background": "light"
          }
        },
        {
          "output_type": "display_data",
          "data": {
            "text/plain": [
              "<Figure size 432x288 with 1 Axes>"
            ],
            "image/png": "[encoded data removed]"
          },
          "metadata": {
            "needs_background": "light"
          }
        },
        {
          "output_type": "display_data",
          "data": {
            "text/plain": [
              "<Figure size 432x288 with 1 Axes>"
            ],
            "image/png": "[encoded data removed]"
          },
          "metadata": {
            "needs_background": "light"
          }
        }
      ]
    },
    {
      "cell_type": "code",
      "source": [
        "con_nulos=df_train.shape"
      ],
      "metadata": {
        "id": "-8noUEdS5JCK"
      },
      "execution_count": 127,
      "outputs": []
    },
    {
      "cell_type": "code",
      "source": [
        "#He decido eliminar algunos de los registros en los que sus valores para las variables 'TiempoVuelo', 'Maletas' y 'PesoMaletas' tenían el riesgo de ser atípicos\n",
        "\n",
        "# Position de los Outliers que voy a eliminar:\n",
        "print(np.where(df_train['TiempoVuelo']>800))\n",
        "print(np.where(df_train['Maletas']>400))\n",
        "print(np.where(df_train['PesoMaletas']>4000))\n",
        "\n",
        "df_train = df_train.drop(df_train[df_train['TiempoVuelo']>800].index|df_train[df_train['Maletas']>400].index|df_train[df_train['PesoMaletas']>4000].index)\n"
      ],
      "metadata": {
        "colab": {
          "base_uri": "https://localhost:8080/"
        },
        "id": "_F4KcJAzPFp6",
        "outputId": "b41956cc-22d1-471e-e93d-8651014205ab"
      },
      "execution_count": 128,
      "outputs": [
        {
          "output_type": "stream",
          "name": "stdout",
          "text": [
            "(array([15083, 17664, 24070, 25961]),)\n",
            "(array([ 5369,  6647, 15130, 15139, 16263, 16870, 18416, 25455, 26004,\n",
            "       26052]),)\n",
            "(array([  149, 10519, 15868, 17083, 26004]),)\n"
          ]
        },
        {
          "output_type": "stream",
          "name": "stderr",
          "text": [
            "/usr/local/lib/python3.7/dist-packages/ipykernel_launcher.py:8: FutureWarning: Index.__or__ operating as a set operation is deprecated, in the future this will be a logical operation matching Series.__or__.  Use index.union(other) instead\n",
            "  \n",
            "/usr/local/lib/python3.7/dist-packages/ipykernel_launcher.py:8: FutureWarning: Index.__or__ operating as a set operation is deprecated, in the future this will be a logical operation matching Series.__or__.  Use index.union(other) instead\n",
            "  \n"
          ]
        }
      ]
    },
    {
      "cell_type": "code",
      "source": [
        "\n",
        "print('dimensión de train antes de eliminal los nulos: ',con_nulos)\n",
        "print('dimension de train después de eliminal los nulos: ',df_train.shape)"
      ],
      "metadata": {
        "colab": {
          "base_uri": "https://localhost:8080/"
        },
        "id": "yhFITZLsSSpZ",
        "outputId": "2d92bf71-d583-4b17-e44e-de08b3384487"
      },
      "execution_count": 129,
      "outputs": [
        {
          "output_type": "stream",
          "name": "stdout",
          "text": [
            "dimensión de train antes de eliminal los nulos:  (26800, 11)\n",
            "dimension de train después de eliminal los nulos:  (26782, 11)\n"
          ]
        }
      ]
    },
    {
      "cell_type": "code",
      "source": [
        "#Antes de eliminar los valores extremos\n",
        "plt.figure(figsize=(18,20))\n",
        "for i, column in enumerate(continuas.columns):\n",
        "    plt.subplot(4, 4, i+1)\n",
        "    sns.distplot(continuas[column], bins=30)\n",
        "    plt.title('Distribución var {}'.format(column))\n",
        "plt.show()"
      ],
      "metadata": {
        "colab": {
          "base_uri": "https://localhost:8080/",
          "height": 824
        },
        "id": "wTSNDyI8qu13",
        "outputId": "4f25d330-7d3d-4faa-c40e-12cb3a1ce42a"
      },
      "execution_count": 130,
      "outputs": [
        {
          "output_type": "stream",
          "name": "stderr",
          "text": [
            "/usr/local/lib/python3.7/dist-packages/seaborn/distributions.py:2619: FutureWarning: `distplot` is a deprecated function and will be removed in a future version. Please adapt your code to use either `displot` (a figure-level function with similar flexibility) or `histplot` (an axes-level function for histograms).\n",
            "  warnings.warn(msg, FutureWarning)\n",
            "/usr/local/lib/python3.7/dist-packages/seaborn/distributions.py:2619: FutureWarning: `distplot` is a deprecated function and will be removed in a future version. Please adapt your code to use either `displot` (a figure-level function with similar flexibility) or `histplot` (an axes-level function for histograms).\n",
            "  warnings.warn(msg, FutureWarning)\n",
            "/usr/local/lib/python3.7/dist-packages/seaborn/distributions.py:2619: FutureWarning: `distplot` is a deprecated function and will be removed in a future version. Please adapt your code to use either `displot` (a figure-level function with similar flexibility) or `histplot` (an axes-level function for histograms).\n",
            "  warnings.warn(msg, FutureWarning)\n",
            "/usr/local/lib/python3.7/dist-packages/seaborn/distributions.py:2619: FutureWarning: `distplot` is a deprecated function and will be removed in a future version. Please adapt your code to use either `displot` (a figure-level function with similar flexibility) or `histplot` (an axes-level function for histograms).\n",
            "  warnings.warn(msg, FutureWarning)\n",
            "/usr/local/lib/python3.7/dist-packages/seaborn/distributions.py:2619: FutureWarning: `distplot` is a deprecated function and will be removed in a future version. Please adapt your code to use either `displot` (a figure-level function with similar flexibility) or `histplot` (an axes-level function for histograms).\n",
            "  warnings.warn(msg, FutureWarning)\n",
            "/usr/local/lib/python3.7/dist-packages/seaborn/distributions.py:2619: FutureWarning: `distplot` is a deprecated function and will be removed in a future version. Please adapt your code to use either `displot` (a figure-level function with similar flexibility) or `histplot` (an axes-level function for histograms).\n",
            "  warnings.warn(msg, FutureWarning)\n"
          ]
        },
        {
          "output_type": "display_data",
          "data": {
            "text/plain": [
              "<Figure size 1296x1440 with 6 Axes>"
            ],
            "image/png": "[encoded data removed]"
          },
          "metadata": {
            "needs_background": "light"
          }
        }
      ]
    },
    {
      "cell_type": "code",
      "source": [
        "#Mejora después de eliminar valores extremos\n",
        "continuas=df_train.drop(['AeropuertoLlegada', 'AeropuertoSalida', 'DiaSalida', 'NumeroVuelo', 'Ruta'],axis=1) \n",
        "plt.figure(figsize=(18,20))\n",
        "for i, column in enumerate(continuas.columns):\n",
        "    plt.subplot(4, 4, i+1)\n",
        "    sns.distplot(continuas[column], bins=30)\n",
        "    plt.title('Distribución var {}'.format(column))\n",
        "plt.show()"
      ],
      "metadata": {
        "colab": {
          "base_uri": "https://localhost:8080/",
          "height": 824
        },
        "id": "Qc4SBegRqDYo",
        "outputId": "9d874e24-a7bd-4e40-f3a3-e6508f386e96"
      },
      "execution_count": 131,
      "outputs": [
        {
          "output_type": "stream",
          "name": "stderr",
          "text": [
            "/usr/local/lib/python3.7/dist-packages/seaborn/distributions.py:2619: FutureWarning: `distplot` is a deprecated function and will be removed in a future version. Please adapt your code to use either `displot` (a figure-level function with similar flexibility) or `histplot` (an axes-level function for histograms).\n",
            "  warnings.warn(msg, FutureWarning)\n",
            "/usr/local/lib/python3.7/dist-packages/seaborn/distributions.py:2619: FutureWarning: `distplot` is a deprecated function and will be removed in a future version. Please adapt your code to use either `displot` (a figure-level function with similar flexibility) or `histplot` (an axes-level function for histograms).\n",
            "  warnings.warn(msg, FutureWarning)\n",
            "/usr/local/lib/python3.7/dist-packages/seaborn/distributions.py:2619: FutureWarning: `distplot` is a deprecated function and will be removed in a future version. Please adapt your code to use either `displot` (a figure-level function with similar flexibility) or `histplot` (an axes-level function for histograms).\n",
            "  warnings.warn(msg, FutureWarning)\n",
            "/usr/local/lib/python3.7/dist-packages/seaborn/distributions.py:2619: FutureWarning: `distplot` is a deprecated function and will be removed in a future version. Please adapt your code to use either `displot` (a figure-level function with similar flexibility) or `histplot` (an axes-level function for histograms).\n",
            "  warnings.warn(msg, FutureWarning)\n",
            "/usr/local/lib/python3.7/dist-packages/seaborn/distributions.py:2619: FutureWarning: `distplot` is a deprecated function and will be removed in a future version. Please adapt your code to use either `displot` (a figure-level function with similar flexibility) or `histplot` (an axes-level function for histograms).\n",
            "  warnings.warn(msg, FutureWarning)\n",
            "/usr/local/lib/python3.7/dist-packages/seaborn/distributions.py:2619: FutureWarning: `distplot` is a deprecated function and will be removed in a future version. Please adapt your code to use either `displot` (a figure-level function with similar flexibility) or `histplot` (an axes-level function for histograms).\n",
            "  warnings.warn(msg, FutureWarning)\n"
          ]
        },
        {
          "output_type": "display_data",
          "data": {
            "text/plain": [
              "<Figure size 1296x1440 with 6 Axes>"
            ],
            "image/png": "[encoded data removed]"
          },
          "metadata": {
            "needs_background": "light"
          }
        }
      ]
    },
    {
      "cell_type": "markdown",
      "source": [
        "**Correlaciones vs target:**"
      ],
      "metadata": {
        "id": "-CSEtcTMibhS"
      }
    },
    {
      "cell_type": "code",
      "source": [
        "#Divido df_train entre las variables predictoras y la target\n",
        "\n",
        "X_train = df_train.drop('PesoTotalTARGET', axis=1)\n",
        "Y_train = df_train.loc[: , [\"PesoTotalTARGET\"]]\n"
      ],
      "metadata": {
        "id": "YS1eXes3XKyo"
      },
      "execution_count": 132,
      "outputs": []
    },
    {
      "cell_type": "code",
      "source": [
        "# Función que representa gráficos de dispersión de las variables en X en función a la variable Y\n",
        "\n",
        "def relaciones_vs_target_reg(X, Y, return_type='axes'):\n",
        "    fig_tot = (len(X.columns))\n",
        "    fig_por_fila = 4.\n",
        "    tamanio_fig = 5.\n",
        "    num_filas = int( np.ceil(fig_tot/fig_por_fila) )    \n",
        "    plt.figure( figsize=( fig_por_fila*tamanio_fig+6, num_filas*tamanio_fig+6 ) )\n",
        "    c = 0 \n",
        "    for i, col in enumerate(X.columns):\n",
        "        plt.subplot(num_filas, fig_por_fila, i+1)\n",
        "        sns.regplot(x=X[col], y=Y)\n",
        "        plt.title( '%s vs %s' % (col, 'target') )\n",
        "        plt.ylabel('Target')\n",
        "        plt.xlabel(col)\n",
        "    plt.show()"
      ],
      "metadata": {
        "id": "dJLJG0cQrRTR"
      },
      "execution_count": 133,
      "outputs": []
    },
    {
      "cell_type": "code",
      "source": [
        "corr_matrix = df_train.corr(method='pearson')\n"
      ],
      "metadata": {
        "id": "XZB5CK5Cg6Kp"
      },
      "execution_count": 134,
      "outputs": []
    },
    {
      "cell_type": "code",
      "source": [
        "fig, ax = plt.subplots(nrows=1, ncols=1, figsize=(10, 10))\n",
        "\n",
        "sns.heatmap(\n",
        "    corr_matrix,\n",
        "    annot     = True,\n",
        "    cbar      = False,\n",
        "    annot_kws = {\"size\": 9},\n",
        "    vmin      = -1,\n",
        "    vmax      = 1,\n",
        "    center    = 0,\n",
        "    cmap      = sns.diverging_palette(20, 220, n=200),\n",
        "    square    = True,\n",
        "    ax        = ax\n",
        ")\n",
        "\n",
        "ax.set_xticklabels(\n",
        "    ax.get_xticklabels(),\n",
        "    rotation = 45,\n",
        "    horizontalalignment = 'right',\n",
        ")\n",
        "\n",
        "ax.tick_params(labelsize = 10)"
      ],
      "metadata": {
        "id": "Z1YoNL8HgozZ",
        "colab": {
          "base_uri": "https://localhost:8080/",
          "height": 649
        },
        "outputId": "dded6270-8cd6-47ec-a55e-ce194f1408b4"
      },
      "execution_count": 135,
      "outputs": [
        {
          "output_type": "display_data",
          "data": {
            "text/plain": [
              "<Figure size 720x720 with 1 Axes>"
            ],
            "image/png": "[encoded data removed]"
          },
          "metadata": {
            "needs_background": "light"
          }
        }
      ]
    },
    {
      "cell_type": "code",
      "source": [
        "correlaciones_target = corr_matrix.values[ -1, : -1]\n",
        "indices_inversos =  abs(correlaciones_target[ : ]).argsort()[ : : -1]\n",
        "diccionario = {}\n",
        "for nombre, correlacion in zip( X_train.columns[indices_inversos], list(correlaciones_target[indices_inversos] ) ):\n",
        "    diccionario[nombre] = correlacion\n",
        "pd.DataFrame.from_dict(diccionario, orient='index', columns=['Correlación con la target'])"
      ],
      "metadata": {
        "colab": {
          "base_uri": "https://localhost:8080/",
          "height": 238
        },
        "id": "adnINrsPBi-V",
        "outputId": "1b7a0ade-9551-4e24-b607-aa2ba8ab3503"
      },
      "execution_count": 136,
      "outputs": [
        {
          "output_type": "execute_result",
          "data": {
            "text/plain": [
              "                   Correlación con la target\n",
              "AeropuertoSalida                    0.822656\n",
              "NumeroVuelo                         0.786183\n",
              "AeropuertoLlegada                   0.706333\n",
              "TiempoVuelo                         0.620787\n",
              "Ruta                                0.614079\n",
              "DiaSalida                          -0.024022"
            ],
            "text/html": [
              "\n",
              "  <div id=\"df-1f8f35f6-58e1-433b-9617-027e9dce7bb1\">\n",
              "    <div class=\"colab-df-container\">\n",
              "      <div>\n",
              "<style scoped>\n",
              "    .dataframe tbody tr th:only-of-type {\n",
              "        vertical-align: middle;\n",
              "    }\n",
              "\n",
              "    .dataframe tbody tr th {\n",
              "        vertical-align: top;\n",
              "    }\n",
              "\n",
              "    .dataframe thead th {\n",
              "        text-align: right;\n",
              "    }\n",
              "</style>\n",
              "<table border=\"1\" class=\"dataframe\">\n",
              "  <thead>\n",
              "    <tr style=\"text-align: right;\">\n",
              "      <th></th>\n",
              "      <th>Correlación con la target</th>\n",
              "    </tr>\n",
              "  </thead>\n",
              "  <tbody>\n",
              "    <tr>\n",
              "      <th>AeropuertoSalida</th>\n",
              "      <td>0.822656</td>\n",
              "    </tr>\n",
              "    <tr>\n",
              "      <th>NumeroVuelo</th>\n",
              "      <td>0.786183</td>\n",
              "    </tr>\n",
              "    <tr>\n",
              "      <th>AeropuertoLlegada</th>\n",
              "      <td>0.706333</td>\n",
              "    </tr>\n",
              "    <tr>\n",
              "      <th>TiempoVuelo</th>\n",
              "      <td>0.620787</td>\n",
              "    </tr>\n",
              "    <tr>\n",
              "      <th>Ruta</th>\n",
              "      <td>0.614079</td>\n",
              "    </tr>\n",
              "    <tr>\n",
              "      <th>DiaSalida</th>\n",
              "      <td>-0.024022</td>\n",
              "    </tr>\n",
              "  </tbody>\n",
              "</table>\n",
              "</div>\n",
              "      <button class=\"colab-df-convert\" onclick=\"convertToInteractive('df-1f8f35f6-58e1-433b-9617-027e9dce7bb1')\"\n",
              "              title=\"Convert this dataframe to an interactive table.\"\n",
              "              style=\"display:none;\">\n",
              "        \n",
              "  <svg xmlns=\"http://www.w3.org/2000/svg\" height=\"24px\"viewBox=\"0 0 24 24\"\n",
              "       width=\"24px\">\n",
              "    <path d=\"M0 0h24v24H0V0z\" fill=\"none\"/>\n",
              "    <path d=\"M18.56 5.44l.94 2.06.94-2.06 2.06-.94-2.06-.94-.94-2.06-.94 2.06-2.06.94zm-11 1L8.5 8.5l.94-2.06 2.06-.94-2.06-.94L8.5 2.5l-.94 2.06-2.06.94zm10 10l.94 2.06.94-2.06 2.06-.94-2.06-.94-.94-2.06-.94 2.06-2.06.94z\"/><path d=\"M17.41 7.96l-1.37-1.37c-.4-.4-.92-.59-1.43-.59-.52 0-1.04.2-1.43.59L10.3 9.45l-7.72 7.72c-.78.78-.78 2.05 0 2.83L4 21.41c.39.39.9.59 1.41.59.51 0 1.02-.2 1.41-.59l7.78-7.78 2.81-2.81c.8-.78.8-2.07 0-2.86zM5.41 20L4 18.59l7.72-7.72 1.47 1.35L5.41 20z\"/>\n",
              "  </svg>\n",
              "      </button>\n",
              "      \n",
              "  <style>\n",
              "    .colab-df-container {\n",
              "      display:flex;\n",
              "      flex-wrap:wrap;\n",
              "      gap: 12px;\n",
              "    }\n",
              "\n",
              "    .colab-df-convert {\n",
              "      background-color: #E8F0FE;\n",
              "      border: none;\n",
              "      border-radius: 50%;\n",
              "      cursor: pointer;\n",
              "      display: none;\n",
              "      fill: #1967D2;\n",
              "      height: 32px;\n",
              "      padding: 0 0 0 0;\n",
              "      width: 32px;\n",
              "    }\n",
              "\n",
              "    .colab-df-convert:hover {\n",
              "      background-color: #E2EBFA;\n",
              "      box-shadow: 0px 1px 2px rgba(60, 64, 67, 0.3), 0px 1px 3px 1px rgba(60, 64, 67, 0.15);\n",
              "      fill: #174EA6;\n",
              "    }\n",
              "\n",
              "    [theme=dark] .colab-df-convert {\n",
              "      background-color: #3B4455;\n",
              "      fill: #D2E3FC;\n",
              "    }\n",
              "\n",
              "    [theme=dark] .colab-df-convert:hover {\n",
              "      background-color: #434B5C;\n",
              "      box-shadow: 0px 1px 3px 1px rgba(0, 0, 0, 0.15);\n",
              "      filter: drop-shadow(0px 1px 2px rgba(0, 0, 0, 0.3));\n",
              "      fill: #FFFFFF;\n",
              "    }\n",
              "  </style>\n",
              "\n",
              "      <script>\n",
              "        const buttonEl =\n",
              "          document.querySelector('#df-1f8f35f6-58e1-433b-9617-027e9dce7bb1 button.colab-df-convert');\n",
              "        buttonEl.style.display =\n",
              "          google.colab.kernel.accessAllowed ? 'block' : 'none';\n",
              "\n",
              "        async function convertToInteractive(key) {\n",
              "          const element = document.querySelector('#df-1f8f35f6-58e1-433b-9617-027e9dce7bb1');\n",
              "          const dataTable =\n",
              "            await google.colab.kernel.invokeFunction('convertToInteractive',\n",
              "                                                     [key], {});\n",
              "          if (!dataTable) return;\n",
              "\n",
              "          const docLinkHtml = 'Like what you see? Visit the ' +\n",
              "            '<a target=\"_blank\" href=https://colab.research.google.com/notebooks/data_table.ipynb>data table notebook</a>'\n",
              "            + ' to learn more about interactive tables.';\n",
              "          element.innerHTML = '';\n",
              "          dataTable['output_type'] = 'display_data';\n",
              "          await google.colab.output.renderOutput(dataTable, element);\n",
              "          const docLink = document.createElement('div');\n",
              "          docLink.innerHTML = docLinkHtml;\n",
              "          element.appendChild(docLink);\n",
              "        }\n",
              "      </script>\n",
              "    </div>\n",
              "  </div>\n",
              "  "
            ]
          },
          "metadata": {},
          "execution_count": 136
        }
      ]
    },
    {
      "cell_type": "markdown",
      "source": [
        "**Estandarización de los datos:**"
      ],
      "metadata": {
        "id": "oFlJFiE1EPxe"
      }
    },
    {
      "cell_type": "code",
      "source": [
        "#importante estandarizar antes de realizar el one hot encoding \n",
        "obj_escalar = StandardScaler()\n",
        "X_train[['DiaSalida','TiempoVuelo','FuelTotal','Pasajeros','Maletas','PesoMaletas']] = obj_escalar.fit_transform(X_train[['DiaSalida','TiempoVuelo','FuelTotal','Pasajeros','Maletas','PesoMaletas']])\n",
        "#df_test[['DiaSalida','TiempoVuelo','FuelTotal','Pasajeros','Maletas','PesoMaletas']] = obj_escalar.fit_transform(df_test[['DiaSalida','TiempoVuelo','FuelTotal','Pasajeros','Maletas','PesoMaletas']])\n",
        "df_test[['DiaSalida','TiempoVuelo','FuelTotal','Pasajeros','Maletas','PesoMaletas']] = obj_escalar.transform(df_test[['DiaSalida','TiempoVuelo','FuelTotal','Pasajeros','Maletas','PesoMaletas']])\n",
        "'''\n",
        "obj_escalar = StandardScaler()\n",
        "X_train = obj_escalar.fit_transform(X_train)\n",
        "df_test = obj_escalar.fit_transform(df_test)\n",
        "'''"
      ],
      "metadata": {
        "id": "rlIUq7IGnqYs",
        "colab": {
          "base_uri": "https://localhost:8080/",
          "height": 36
        },
        "outputId": "d49ae11a-d1a5-450a-b4b0-147f6b4d80e1"
      },
      "execution_count": 137,
      "outputs": [
        {
          "output_type": "execute_result",
          "data": {
            "text/plain": [
              "'\\nobj_escalar = StandardScaler()\\nX_train = obj_escalar.fit_transform(X_train)\\ndf_test = obj_escalar.fit_transform(df_test)\\n'"
            ],
            "application/vnd.google.colaboratory.intrinsic+json": {
              "type": "string"
            }
          },
          "metadata": {},
          "execution_count": 137
        }
      ]
    },
    {
      "cell_type": "code",
      "source": [
        "X_train.dtypes"
      ],
      "metadata": {
        "colab": {
          "base_uri": "https://localhost:8080/"
        },
        "id": "3XkZwSOaDG0r",
        "outputId": "e1c5d4ed-18e6-4a42-c289-7236498bccbe"
      },
      "execution_count": 138,
      "outputs": [
        {
          "output_type": "execute_result",
          "data": {
            "text/plain": [
              "DiaSalida            float64\n",
              "NumeroVuelo           object\n",
              "AeropuertoSalida      object\n",
              "AeropuertoLlegada     object\n",
              "Ruta                  object\n",
              "TiempoVuelo          float64\n",
              "FuelTotal            float64\n",
              "Pasajeros            float64\n",
              "Maletas              float64\n",
              "PesoMaletas          float64\n",
              "dtype: object"
            ]
          },
          "metadata": {},
          "execution_count": 138
        }
      ]
    },
    {
      "cell_type": "code",
      "source": [
        "'''\n",
        "Sospecho que las variables NumeroVuelo AeropuertoSalida AeropuertoLlegada y Ruta estan muy relacionadas entre si (Dependencia entre variables predictoras)\n",
        "\n",
        "\n",
        "Me quedaré únicamente con la variable Ruta y la transformaré a valores numéricos con One-Hot-Encoding\n",
        "'''\n",
        "encoding_Ruta=pd.DataFrame(pd.get_dummies(X_train.Ruta, prefix='Ruta'))\n",
        "#encoding_AeropuertoLlegada=pd.DataFrame(pd.get_dummies(df_train.AeropuertoLlegada, prefix='AeropuertoLlegada'))\n",
        "#encoding_AeropuertoSalida=pd.DataFrame(pd.get_dummies(df_train.AeropuertoSalida, prefix='AeropuertoSalida'))\n",
        "#encoding_NumeroVuelo=pd.DataFrame(pd.get_dummies(df_train.NumeroVuelo, prefix='NumeroVuelo'))\n",
        "\n",
        "\n",
        "#df_train=df_train.drop(['AeropuertoLlegada', 'AeropuertoSalida', 'NumeroVuelo', 'Ruta'],axis=1) \n",
        "\n",
        "#df_train=pd.concat([df_train,encoding_Ruta,encoding_AeropuertoLlegada,encoding_AeropuertoSalida,encoding_NumeroVuelo],1)\n",
        "X_train=pd.concat([X_train,encoding_Ruta],1)\n"
      ],
      "metadata": {
        "colab": {
          "base_uri": "https://localhost:8080/"
        },
        "id": "krtqgWFnI9xH",
        "outputId": "93bc76f7-9775-426a-df47-3f3226bff646"
      },
      "execution_count": 139,
      "outputs": [
        {
          "output_type": "stream",
          "name": "stderr",
          "text": [
            "/usr/local/lib/python3.7/dist-packages/ipykernel_launcher.py:16: FutureWarning: In a future version of pandas all arguments of concat except for the argument 'objs' will be keyword-only\n",
            "  app.launch_new_instance()\n"
          ]
        }
      ]
    },
    {
      "cell_type": "code",
      "source": [
        "#Exactamente lo mismo para el conjunto test:\n",
        "\n",
        "encoding_Ruta_t=pd.DataFrame(pd.get_dummies(df_test.Ruta, prefix='Ruta'))\n",
        "#encoding_AeropuertoLlegada_t=pd.DataFrame(pd.get_dummies(df_test.AeropuertoLlegada, prefix='AeropuertoLlegada'))\n",
        "#encoding_AeropuertoSalida_t=pd.DataFrame(pd.get_dummies(df_test.AeropuertoSalida, prefix='AeropuertoSalida'))\n",
        "#encoding_NumeroVuelo_t=pd.DataFrame(pd.get_dummies(df_test.NumeroVuelo, prefix='NumeroVuelo'))\n",
        "\n",
        "\n",
        "#df_test=df_test.drop(['AeropuertoLlegada', 'AeropuertoSalida', 'NumeroVuelo', 'Ruta'],axis=1) \n",
        "\n",
        "#df_test=pd.concat([df_test,encoding_Ruta_t,encoding_AeropuertoLlegada_t,encoding_AeropuertoSalida_t,encoding_NumeroVuelo_t],1)\n",
        "df_test=pd.concat([df_test,encoding_Ruta_t],1)"
      ],
      "metadata": {
        "colab": {
          "base_uri": "https://localhost:8080/"
        },
        "id": "Hc6gseeqf17H",
        "outputId": "5780687c-80b1-4b1b-f235-2403684e966e"
      },
      "execution_count": 140,
      "outputs": [
        {
          "output_type": "stream",
          "name": "stderr",
          "text": [
            "/usr/local/lib/python3.7/dist-packages/ipykernel_launcher.py:12: FutureWarning: In a future version of pandas all arguments of concat except for the argument 'objs' will be keyword-only\n",
            "  if sys.path[0] == '':\n"
          ]
        }
      ]
    },
    {
      "cell_type": "code",
      "source": [
        "'''\n",
        "Añado tanto para df_train como para df_test las columnas de 'Ruta' que les falta para que las variables de los dos dataframes sean las mismas.\n",
        "\n",
        "Esto me permite aplicar el modelo de regresión sobre el conjunto de test\n",
        "\n",
        "'''\n",
        "\n",
        "#valores unicos columna ruta para train\n",
        "a=np.asarray(df_test.columns)\n",
        "b=np.asarray(X_train.columns)\n",
        "\n",
        "c=np.append(a,a)\n",
        "\n",
        "d=np.append(c,b)\n",
        "\n",
        "#valores unicos columna ruta para test\n",
        "e=np.asarray(df_test.columns)\n",
        "f=np.asarray(X_train.columns)\n",
        "\n",
        "g=np.append(f,f)\n",
        "h=np.append(g,e)\n",
        "\n",
        "from collections import Counter                                                                                                                                                                                                                                                   \n",
        "\n",
        "ba = Counter(h) \n",
        "bb= Counter(d)   \n",
        "unicos_train=[i for i,j in ba.items() if j==1] #Columnas que tiene df_test poro no df_train\n",
        "unicos_test=[i for i,j in bb.items() if j==1]  #Columnas que tiene df_train poro no df_test\n",
        "\n",
        "#Añado las columnas a cada dataframe:\n",
        "df_test = df_test.reindex(columns = df_test.columns.tolist() + unicos_test)\n",
        "X_train = X_train.reindex(columns = X_train.columns.tolist() + unicos_train)\n"
      ],
      "metadata": {
        "id": "xKNM8V1MbcFA"
      },
      "execution_count": 141,
      "outputs": []
    },
    {
      "cell_type": "code",
      "source": [
        "X_train=X_train.convert_dtypes(convert_integer=True)\n",
        "df_test=df_test.convert_dtypes(convert_integer=True)"
      ],
      "metadata": {
        "id": "Kk-OPI7QPQeD"
      },
      "execution_count": 142,
      "outputs": []
    },
    {
      "cell_type": "code",
      "source": [
        "\n",
        "a=np.asarray(X_train.columns)\n",
        "n=0\n",
        "for i in a:\n",
        "  X_train[i] = pd.to_numeric(X_train[i], errors='coerce')\n",
        "  n=n+1\n",
        "  if n> len(a):\n",
        "    break\n"
      ],
      "metadata": {
        "id": "NByJRFgdb-6O"
      },
      "execution_count": 143,
      "outputs": []
    },
    {
      "cell_type": "code",
      "source": [
        "print('Rutas añadidas al conjunto train: ',len(unicos_train))\n",
        "print('Rutas añadidas al conjunto test: ',len(unicos_test))\n",
        "print(X_train.shape)\n",
        "print(df_test.shape)\n",
        "#los dos dataframes se quedan con el mismo número y nombre de columnas"
      ],
      "metadata": {
        "colab": {
          "base_uri": "https://localhost:8080/"
        },
        "id": "Db-OrkpkOuu2",
        "outputId": "7f976323-8d35-4b17-b84f-680582c497e8"
      },
      "execution_count": 144,
      "outputs": [
        {
          "output_type": "stream",
          "name": "stdout",
          "text": [
            "Rutas añadidas al conjunto train:  46\n",
            "Rutas añadidas al conjunto test:  1084\n",
            "(26782, 2588)\n",
            "(1916, 2588)\n"
          ]
        }
      ]
    },
    {
      "cell_type": "code",
      "source": [
        "#Elimino las variables object para quedarme con el resultado del one-hot-encoding de 'Ruta'\n",
        "df_test=df_test.drop(['AeropuertoLlegada', 'AeropuertoSalida', 'NumeroVuelo', 'Ruta'],axis=1) \n",
        "X_train=X_train.drop(['AeropuertoLlegada', 'AeropuertoSalida', 'NumeroVuelo', 'Ruta'],axis=1)"
      ],
      "metadata": {
        "id": "Vl8ZgFdoLMmH"
      },
      "execution_count": 145,
      "outputs": []
    },
    {
      "cell_type": "code",
      "source": [
        "\n",
        "#Para evitar ---->   float() argument must be a string or a number, not 'NAType'\n",
        "\n",
        "df_test=df_test.fillna(0)\n",
        "X_train=X_train.fillna(0)\n",
        "Y_train=Y_train.fillna(0)\n"
      ],
      "metadata": {
        "id": "Z7P0YvF_I7_o"
      },
      "execution_count": 146,
      "outputs": []
    },
    {
      "cell_type": "code",
      "source": [
        "\n",
        "X_train_cp=X_train.copy()\n",
        "Y_train_cp=Y_train.copy()\n",
        "df_test_cp=df_test.copy()"
      ],
      "metadata": {
        "id": "H9DhJIdcjZXj"
      },
      "execution_count": 147,
      "outputs": []
    },
    {
      "cell_type": "markdown",
      "source": [
        "**Modelo de regresión con NN utilizando Tensorflow y Keras**"
      ],
      "metadata": {
        "id": "9y2b6XY9H2oD"
      }
    },
    {
      "cell_type": "code",
      "source": [
        "#Para seleccionar el modelo más apropiado dividiré el conjunto train para analizar los errores de predicción sobre este dataset.\n",
        "\n",
        "X_train2, X_test2, Y_train2, Y_test2 = train_test_split(X_train, Y_train, test_size=0.2, random_state=0)\n"
      ],
      "metadata": {
        "id": "ZNsp6XCA-_qb"
      },
      "execution_count": 148,
      "outputs": []
    },
    {
      "cell_type": "code",
      "source": [
        "def constructor_modelo1():\n",
        "    # Definición del modelo\n",
        "    modelo = keras.Sequential([\n",
        "    layers.Dense(64, activation='relu', input_shape=[X_train2.shape[1]]),\n",
        "    layers.Dense(32, activation='relu'),\n",
        "    layers.Dense(1)])\n",
        "    \n",
        "    # Definición del optimizador\n",
        "    optimizer = tf.keras.optimizers.RMSprop(0.001)\n",
        "    \n",
        "    # Compilación del modelo\n",
        "    modelo.compile(loss='mse',\n",
        "                optimizer=optimizer,\n",
        "                metrics=['mae', 'mse'])\n",
        "    return modelo"
      ],
      "metadata": {
        "id": "fYX8xJmCIQON"
      },
      "execution_count": 149,
      "outputs": []
    },
    {
      "cell_type": "code",
      "source": [
        "model = constructor_modelo1()"
      ],
      "metadata": {
        "id": "eS1gMsWOPbhe"
      },
      "execution_count": 150,
      "outputs": []
    },
    {
      "cell_type": "code",
      "source": [
        "\n",
        "#ValueError: Failed to convert a NumPy array to a Tensor (Unsupported object type list)\n",
        "X_train=np.asarray(X_train).astype(np.float32)\n",
        "Y_train=np.asarray(Y_train).astype(np.float32)\n",
        "df_test=np.asarray(df_test).astype(np.float32)\n",
        "\n",
        "\n",
        "X_train2=np.asarray(X_train2).astype(np.float32)\n",
        "Y_train2=np.asarray(Y_train2).astype(np.float32)\n",
        "X_test2=np.asarray(X_test2).astype(np.float32)\n",
        "Y_test2=np.asarray(Y_test2).astype(np.float32)\n"
      ],
      "metadata": {
        "id": "XdWsqQvfd1bF"
      },
      "execution_count": 151,
      "outputs": []
    },
    {
      "cell_type": "code",
      "source": [
        "model.fit(X_train2, Y_train2)"
      ],
      "metadata": {
        "id": "hS1XeoQdPtWR",
        "colab": {
          "base_uri": "https://localhost:8080/"
        },
        "outputId": "763ab2c1-3fb9-4617-cd41-9493f97f5e3f"
      },
      "execution_count": 152,
      "outputs": [
        {
          "output_type": "stream",
          "name": "stdout",
          "text": [
            "670/670 [==============================] - 3s 3ms/step - loss: 4214510592.0000 - mae: 64838.2773 - mse: 4214510592.0000\n"
          ]
        },
        {
          "output_type": "execute_result",
          "data": {
            "text/plain": [
              "<keras.callbacks.History at 0x7f76d86ef510>"
            ]
          },
          "metadata": {},
          "execution_count": 152
        }
      ]
    },
    {
      "cell_type": "code",
      "source": [
        "X_train2.shape[1] #Número de variables input"
      ],
      "metadata": {
        "id": "EGpzvxIfP6wi",
        "colab": {
          "base_uri": "https://localhost:8080/"
        },
        "outputId": "0affc158-1953-48ed-e15c-93aac64dae54"
      },
      "execution_count": 153,
      "outputs": [
        {
          "output_type": "execute_result",
          "data": {
            "text/plain": [
              "2584"
            ]
          },
          "metadata": {},
          "execution_count": 153
        }
      ]
    },
    {
      "cell_type": "code",
      "source": [
        "\n",
        "print(df_test.shape)"
      ],
      "metadata": {
        "colab": {
          "base_uri": "https://localhost:8080/"
        },
        "id": "ZVxs3-DehecL",
        "outputId": "2699967b-560a-4dd7-a4f8-a2635e2a2f74"
      },
      "execution_count": 154,
      "outputs": [
        {
          "output_type": "stream",
          "name": "stdout",
          "text": [
            "(1916, 2584)\n"
          ]
        }
      ]
    },
    {
      "cell_type": "code",
      "source": [
        "model.summary()"
      ],
      "metadata": {
        "id": "sGAPI8tuP-Ry",
        "colab": {
          "base_uri": "https://localhost:8080/"
        },
        "outputId": "f7999457-6ab3-4785-9339-edda1993e4b9"
      },
      "execution_count": 155,
      "outputs": [
        {
          "output_type": "stream",
          "name": "stdout",
          "text": [
            "Model: \"sequential_2\"\n",
            "_________________________________________________________________\n",
            " Layer (type)                Output Shape              Param #   \n",
            "=================================================================\n",
            " dense_6 (Dense)             (None, 64)                165440    \n",
            "                                                                 \n",
            " dense_7 (Dense)             (None, 32)                2080      \n",
            "                                                                 \n",
            " dense_8 (Dense)             (None, 1)                 33        \n",
            "                                                                 \n",
            "=================================================================\n",
            "Total params: 167,553\n",
            "Trainable params: 167,553\n",
            "Non-trainable params: 0\n",
            "_________________________________________________________________\n"
          ]
        }
      ]
    },
    {
      "cell_type": "code",
      "source": [
        "# Muestro un punto por cada una de las épocas completadas\n",
        "class PrintDot(keras.callbacks.Callback):\n",
        "    def on_epoch_end(self, epoch, logs):\n",
        "        if epoch % 100 == 0: print('')\n",
        "        print('.', end='')\n",
        "\n",
        "EPOCHS = 100\n",
        "historico = model.fit(X_train2, Y_train2, \n",
        "                    epochs=EPOCHS,\n",
        "                    validation_split = 0.2, \n",
        "                    verbose=0,\n",
        "                    callbacks=[PrintDot()])"
      ],
      "metadata": {
        "id": "HmcAEizTVR_n",
        "colab": {
          "base_uri": "https://localhost:8080/"
        },
        "outputId": "8fa37f78-f576-42cb-c01f-cf85d9e81739"
      },
      "execution_count": 156,
      "outputs": [
        {
          "output_type": "stream",
          "name": "stdout",
          "text": [
            "\n",
            "...................................................................................................."
          ]
        }
      ]
    },
    {
      "cell_type": "code",
      "source": [
        "hist = pd.DataFrame(historico.history)\n",
        "hist['epoch'] = historico.epoch\n",
        "hist.tail()"
      ],
      "metadata": {
        "id": "S2xG8GNpWej2",
        "colab": {
          "base_uri": "https://localhost:8080/",
          "height": 206
        },
        "outputId": "8f5d80b9-d2a1-4bcc-cd5e-9d3eb117c6ec"
      },
      "execution_count": 157,
      "outputs": [
        {
          "output_type": "execute_result",
          "data": {
            "text/plain": [
              "            loss         mae           mse     val_loss     val_mae  \\\n",
              "95  455145.34375  439.347168  455145.34375  614376.5625  512.747498   \n",
              "96  455448.59375  438.658630  455448.59375  612809.1250  508.676300   \n",
              "97  456270.34375  438.272217  456270.34375  609483.2500  514.196228   \n",
              "98  454022.87500  437.980713  454022.87500  620279.6250  512.028503   \n",
              "99  455523.37500  439.067383  455523.37500  617420.7500  519.770935   \n",
              "\n",
              "        val_mse  epoch  \n",
              "95  614376.5625     95  \n",
              "96  612809.1250     96  \n",
              "97  609483.2500     97  \n",
              "98  620279.6250     98  \n",
              "99  617420.7500     99  "
            ],
            "text/html": [
              "\n",
              "  <div id=\"df-5b9a9d71-efa1-4a2a-97eb-3de06c6ec83b\">\n",
              "    <div class=\"colab-df-container\">\n",
              "      <div>\n",
              "<style scoped>\n",
              "    .dataframe tbody tr th:only-of-type {\n",
              "        vertical-align: middle;\n",
              "    }\n",
              "\n",
              "    .dataframe tbody tr th {\n",
              "        vertical-align: top;\n",
              "    }\n",
              "\n",
              "    .dataframe thead th {\n",
              "        text-align: right;\n",
              "    }\n",
              "</style>\n",
              "<table border=\"1\" class=\"dataframe\">\n",
              "  <thead>\n",
              "    <tr style=\"text-align: right;\">\n",
              "      <th></th>\n",
              "      <th>loss</th>\n",
              "      <th>mae</th>\n",
              "      <th>mse</th>\n",
              "      <th>val_loss</th>\n",
              "      <th>val_mae</th>\n",
              "      <th>val_mse</th>\n",
              "      <th>epoch</th>\n",
              "    </tr>\n",
              "  </thead>\n",
              "  <tbody>\n",
              "    <tr>\n",
              "      <th>95</th>\n",
              "      <td>455145.34375</td>\n",
              "      <td>439.347168</td>\n",
              "      <td>455145.34375</td>\n",
              "      <td>614376.5625</td>\n",
              "      <td>512.747498</td>\n",
              "      <td>614376.5625</td>\n",
              "      <td>95</td>\n",
              "    </tr>\n",
              "    <tr>\n",
              "      <th>96</th>\n",
              "      <td>455448.59375</td>\n",
              "      <td>438.658630</td>\n",
              "      <td>455448.59375</td>\n",
              "      <td>612809.1250</td>\n",
              "      <td>508.676300</td>\n",
              "      <td>612809.1250</td>\n",
              "      <td>96</td>\n",
              "    </tr>\n",
              "    <tr>\n",
              "      <th>97</th>\n",
              "      <td>456270.34375</td>\n",
              "      <td>438.272217</td>\n",
              "      <td>456270.34375</td>\n",
              "      <td>609483.2500</td>\n",
              "      <td>514.196228</td>\n",
              "      <td>609483.2500</td>\n",
              "      <td>97</td>\n",
              "    </tr>\n",
              "    <tr>\n",
              "      <th>98</th>\n",
              "      <td>454022.87500</td>\n",
              "      <td>437.980713</td>\n",
              "      <td>454022.87500</td>\n",
              "      <td>620279.6250</td>\n",
              "      <td>512.028503</td>\n",
              "      <td>620279.6250</td>\n",
              "      <td>98</td>\n",
              "    </tr>\n",
              "    <tr>\n",
              "      <th>99</th>\n",
              "      <td>455523.37500</td>\n",
              "      <td>439.067383</td>\n",
              "      <td>455523.37500</td>\n",
              "      <td>617420.7500</td>\n",
              "      <td>519.770935</td>\n",
              "      <td>617420.7500</td>\n",
              "      <td>99</td>\n",
              "    </tr>\n",
              "  </tbody>\n",
              "</table>\n",
              "</div>\n",
              "      <button class=\"colab-df-convert\" onclick=\"convertToInteractive('df-5b9a9d71-efa1-4a2a-97eb-3de06c6ec83b')\"\n",
              "              title=\"Convert this dataframe to an interactive table.\"\n",
              "              style=\"display:none;\">\n",
              "        \n",
              "  <svg xmlns=\"http://www.w3.org/2000/svg\" height=\"24px\"viewBox=\"0 0 24 24\"\n",
              "       width=\"24px\">\n",
              "    <path d=\"M0 0h24v24H0V0z\" fill=\"none\"/>\n",
              "    <path d=\"M18.56 5.44l.94 2.06.94-2.06 2.06-.94-2.06-.94-.94-2.06-.94 2.06-2.06.94zm-11 1L8.5 8.5l.94-2.06 2.06-.94-2.06-.94L8.5 2.5l-.94 2.06-2.06.94zm10 10l.94 2.06.94-2.06 2.06-.94-2.06-.94-.94-2.06-.94 2.06-2.06.94z\"/><path d=\"M17.41 7.96l-1.37-1.37c-.4-.4-.92-.59-1.43-.59-.52 0-1.04.2-1.43.59L10.3 9.45l-7.72 7.72c-.78.78-.78 2.05 0 2.83L4 21.41c.39.39.9.59 1.41.59.51 0 1.02-.2 1.41-.59l7.78-7.78 2.81-2.81c.8-.78.8-2.07 0-2.86zM5.41 20L4 18.59l7.72-7.72 1.47 1.35L5.41 20z\"/>\n",
              "  </svg>\n",
              "      </button>\n",
              "      \n",
              "  <style>\n",
              "    .colab-df-container {\n",
              "      display:flex;\n",
              "      flex-wrap:wrap;\n",
              "      gap: 12px;\n",
              "    }\n",
              "\n",
              "    .colab-df-convert {\n",
              "      background-color: #E8F0FE;\n",
              "      border: none;\n",
              "      border-radius: 50%;\n",
              "      cursor: pointer;\n",
              "      display: none;\n",
              "      fill: #1967D2;\n",
              "      height: 32px;\n",
              "      padding: 0 0 0 0;\n",
              "      width: 32px;\n",
              "    }\n",
              "\n",
              "    .colab-df-convert:hover {\n",
              "      background-color: #E2EBFA;\n",
              "      box-shadow: 0px 1px 2px rgba(60, 64, 67, 0.3), 0px 1px 3px 1px rgba(60, 64, 67, 0.15);\n",
              "      fill: #174EA6;\n",
              "    }\n",
              "\n",
              "    [theme=dark] .colab-df-convert {\n",
              "      background-color: #3B4455;\n",
              "      fill: #D2E3FC;\n",
              "    }\n",
              "\n",
              "    [theme=dark] .colab-df-convert:hover {\n",
              "      background-color: #434B5C;\n",
              "      box-shadow: 0px 1px 3px 1px rgba(0, 0, 0, 0.15);\n",
              "      filter: drop-shadow(0px 1px 2px rgba(0, 0, 0, 0.3));\n",
              "      fill: #FFFFFF;\n",
              "    }\n",
              "  </style>\n",
              "\n",
              "      <script>\n",
              "        const buttonEl =\n",
              "          document.querySelector('#df-5b9a9d71-efa1-4a2a-97eb-3de06c6ec83b button.colab-df-convert');\n",
              "        buttonEl.style.display =\n",
              "          google.colab.kernel.accessAllowed ? 'block' : 'none';\n",
              "\n",
              "        async function convertToInteractive(key) {\n",
              "          const element = document.querySelector('#df-5b9a9d71-efa1-4a2a-97eb-3de06c6ec83b');\n",
              "          const dataTable =\n",
              "            await google.colab.kernel.invokeFunction('convertToInteractive',\n",
              "                                                     [key], {});\n",
              "          if (!dataTable) return;\n",
              "\n",
              "          const docLinkHtml = 'Like what you see? Visit the ' +\n",
              "            '<a target=\"_blank\" href=https://colab.research.google.com/notebooks/data_table.ipynb>data table notebook</a>'\n",
              "            + ' to learn more about interactive tables.';\n",
              "          element.innerHTML = '';\n",
              "          dataTable['output_type'] = 'display_data';\n",
              "          await google.colab.output.renderOutput(dataTable, element);\n",
              "          const docLink = document.createElement('div');\n",
              "          docLink.innerHTML = docLinkHtml;\n",
              "          element.appendChild(docLink);\n",
              "        }\n",
              "      </script>\n",
              "    </div>\n",
              "  </div>\n",
              "  "
            ]
          },
          "metadata": {},
          "execution_count": 157
        }
      ]
    },
    {
      "cell_type": "code",
      "source": [
        "def represento_historico(historico):\n",
        "    hist = pd.DataFrame(historico.history)\n",
        "    hist['epoch'] = historico.epoch\n",
        "\n",
        "    plt.figure(figsize=(20,7))\n",
        "    plt.xlabel('Epoch')\n",
        "    plt.ylabel('Error absoluto medio [MAE]')\n",
        "    plt.plot(hist['epoch'], hist['mae'],\n",
        "           label='Error de entrenamiento')\n",
        "    plt.plot(hist['epoch'], hist['val_mae'],\n",
        "           label = 'Error de validación')\n",
        "    plt.title('Error MAE en entrenamiento y en test')\n",
        "    #plt.ylim([0,5])\n",
        "    plt.legend()\n",
        "\n",
        "    plt.figure(figsize=(20,7))\n",
        "    plt.xlabel('Epoch')\n",
        "    plt.ylabel('Error cuadrático medio [MSE]')\n",
        "    plt.plot(hist['epoch'], hist['mse'],\n",
        "           label='Error de entrenamiento')\n",
        "    plt.plot(hist['epoch'], hist['val_mse'],\n",
        "           label = 'Error de validación')\n",
        "    plt.title('Error MSE en entrenamiento y en test')\n",
        "    #plt.ylim([0,20])\n",
        "    plt.legend()\n",
        "    plt.show()\n",
        "\n"
      ],
      "metadata": {
        "id": "pG8yT3vNW0N3"
      },
      "execution_count": 158,
      "outputs": []
    },
    {
      "cell_type": "code",
      "source": [
        "represento_historico(historico)"
      ],
      "metadata": {
        "id": "siWWf4mzWrIw",
        "colab": {
          "base_uri": "https://localhost:8080/",
          "height": 899
        },
        "outputId": "86ba86b5-3ca3-4651-f7c1-536c3d8ff9dc"
      },
      "execution_count": 159,
      "outputs": [
        {
          "output_type": "display_data",
          "data": {
            "text/plain": [
              "<Figure size 1440x504 with 1 Axes>"
            ],
            "image/png": "[encoded data removed]"
          },
          "metadata": {
            "needs_background": "light"
          }
        },
        {
          "output_type": "display_data",
          "data": {
            "text/plain": [
              "<Figure size 1440x504 with 1 Axes>"
            ],
            "image/png": "[encoded data removed]"
          },
          "metadata": {
            "needs_background": "light"
          }
        }
      ]
    },
    {
      "cell_type": "markdown",
      "source": [
        "Para evitar el sobreajuste utilizo EarlyStoping.\n",
        "\n",
        "El método de detención temprana tiene como objetivo resolver el problema de que el número de épocas debe establecerse manualmente. También puede considerarse como un método de regularización que puede evitar el sobreajuste de la red.\n"
      ],
      "metadata": {
        "id": "6NhFHO5Zf0HO"
      }
    },
    {
      "cell_type": "code",
      "source": [
        "model2 = constructor_modelo1()\n",
        "\n",
        "# En monitor es el valor a monitorizar, que en este caso puede ser uno de los siguientes:\n",
        "# [loss, mae, mse, val_loss, val_mae, val_mse]\n",
        "# Patience es el número de épocas sin mejora antes de parar el entrenamiento\n",
        "early_stop = keras.callbacks.EarlyStopping(monitor='val_mse', patience=10)\n",
        "\n",
        "history = model2.fit(X_train2, Y_train2, \n",
        "                    epochs=EPOCHS,\n",
        "                    validation_split = 0.2, \n",
        "                    verbose=0, \n",
        "                    callbacks=[early_stop, PrintDot()])\n",
        "\n",
        "represento_historico(history)"
      ],
      "metadata": {
        "id": "vBuOF5UXbfxj",
        "colab": {
          "base_uri": "https://localhost:8080/",
          "height": 937
        },
        "outputId": "f932b3ce-9e07-4909-b2f5-e9756074a360"
      },
      "execution_count": 160,
      "outputs": [
        {
          "output_type": "stream",
          "name": "stdout",
          "text": [
            "\n",
            "............................................................."
          ]
        },
        {
          "output_type": "display_data",
          "data": {
            "text/plain": [
              "<Figure size 1440x504 with 1 Axes>"
            ],
            "image/png": "[encoded data removed]"
          },
          "metadata": {
            "needs_background": "light"
          }
        },
        {
          "output_type": "display_data",
          "data": {
            "text/plain": [
              "<Figure size 1440x504 with 1 Axes>"
            ],
            "image/png": "[encoded data removed]"
          },
          "metadata": {
            "needs_background": "light"
          }
        }
      ]
    },
    {
      "cell_type": "code",
      "source": [
        "loss, mae, mse = model.evaluate(X_train2, Y_train2, verbose=2)\n",
        "\n",
        "print(\"Testing set Mean Abs Error: {:5.2f} MPG\".format(mae))"
      ],
      "metadata": {
        "id": "YDvHWO2oHqRj",
        "colab": {
          "base_uri": "https://localhost:8080/"
        },
        "outputId": "d851061b-afb9-473d-8dfa-8271deb0f947"
      },
      "execution_count": 161,
      "outputs": [
        {
          "output_type": "stream",
          "name": "stdout",
          "text": [
            "670/670 - 1s - loss: 478746.4062 - mae: 450.1942 - mse: 478746.4062 - 1s/epoch - 2ms/step\n",
            "Testing set Mean Abs Error: 450.19 MPG\n"
          ]
        }
      ]
    },
    {
      "cell_type": "code",
      "source": [
        "hist2 = pd.DataFrame(history.history)\n",
        "hist2.head(3)"
      ],
      "metadata": {
        "colab": {
          "base_uri": "https://localhost:8080/",
          "height": 144
        },
        "id": "SpIhgGdVmDEd",
        "outputId": "7bc42a65-2c88-4a0e-9bf0-5076bc581181"
      },
      "execution_count": 162,
      "outputs": [
        {
          "output_type": "execute_result",
          "data": {
            "text/plain": [
              "           loss           mae           mse      val_loss       val_mae  \\\n",
              "0  4.227657e+09  64939.820312  4.227657e+09  4.184316e+09  64604.324219   \n",
              "1  4.044696e+09  63504.078125  4.044696e+09  3.842002e+09  61879.390625   \n",
              "2  3.502523e+09  58978.542969  3.502523e+09  3.072947e+09  55134.433594   \n",
              "\n",
              "        val_mse  \n",
              "0  4.184316e+09  \n",
              "1  3.842002e+09  \n",
              "2  3.072947e+09  "
            ],
            "text/html": [
              "\n",
              "  <div id=\"df-a3402deb-ee43-418a-bec9-390caa6afa67\">\n",
              "    <div class=\"colab-df-container\">\n",
              "      <div>\n",
              "<style scoped>\n",
              "    .dataframe tbody tr th:only-of-type {\n",
              "        vertical-align: middle;\n",
              "    }\n",
              "\n",
              "    .dataframe tbody tr th {\n",
              "        vertical-align: top;\n",
              "    }\n",
              "\n",
              "    .dataframe thead th {\n",
              "        text-align: right;\n",
              "    }\n",
              "</style>\n",
              "<table border=\"1\" class=\"dataframe\">\n",
              "  <thead>\n",
              "    <tr style=\"text-align: right;\">\n",
              "      <th></th>\n",
              "      <th>loss</th>\n",
              "      <th>mae</th>\n",
              "      <th>mse</th>\n",
              "      <th>val_loss</th>\n",
              "      <th>val_mae</th>\n",
              "      <th>val_mse</th>\n",
              "    </tr>\n",
              "  </thead>\n",
              "  <tbody>\n",
              "    <tr>\n",
              "      <th>0</th>\n",
              "      <td>4.227657e+09</td>\n",
              "      <td>64939.820312</td>\n",
              "      <td>4.227657e+09</td>\n",
              "      <td>4.184316e+09</td>\n",
              "      <td>64604.324219</td>\n",
              "      <td>4.184316e+09</td>\n",
              "    </tr>\n",
              "    <tr>\n",
              "      <th>1</th>\n",
              "      <td>4.044696e+09</td>\n",
              "      <td>63504.078125</td>\n",
              "      <td>4.044696e+09</td>\n",
              "      <td>3.842002e+09</td>\n",
              "      <td>61879.390625</td>\n",
              "      <td>3.842002e+09</td>\n",
              "    </tr>\n",
              "    <tr>\n",
              "      <th>2</th>\n",
              "      <td>3.502523e+09</td>\n",
              "      <td>58978.542969</td>\n",
              "      <td>3.502523e+09</td>\n",
              "      <td>3.072947e+09</td>\n",
              "      <td>55134.433594</td>\n",
              "      <td>3.072947e+09</td>\n",
              "    </tr>\n",
              "  </tbody>\n",
              "</table>\n",
              "</div>\n",
              "      <button class=\"colab-df-convert\" onclick=\"convertToInteractive('df-a3402deb-ee43-418a-bec9-390caa6afa67')\"\n",
              "              title=\"Convert this dataframe to an interactive table.\"\n",
              "              style=\"display:none;\">\n",
              "        \n",
              "  <svg xmlns=\"http://www.w3.org/2000/svg\" height=\"24px\"viewBox=\"0 0 24 24\"\n",
              "       width=\"24px\">\n",
              "    <path d=\"M0 0h24v24H0V0z\" fill=\"none\"/>\n",
              "    <path d=\"M18.56 5.44l.94 2.06.94-2.06 2.06-.94-2.06-.94-.94-2.06-.94 2.06-2.06.94zm-11 1L8.5 8.5l.94-2.06 2.06-.94-2.06-.94L8.5 2.5l-.94 2.06-2.06.94zm10 10l.94 2.06.94-2.06 2.06-.94-2.06-.94-.94-2.06-.94 2.06-2.06.94z\"/><path d=\"M17.41 7.96l-1.37-1.37c-.4-.4-.92-.59-1.43-.59-.52 0-1.04.2-1.43.59L10.3 9.45l-7.72 7.72c-.78.78-.78 2.05 0 2.83L4 21.41c.39.39.9.59 1.41.59.51 0 1.02-.2 1.41-.59l7.78-7.78 2.81-2.81c.8-.78.8-2.07 0-2.86zM5.41 20L4 18.59l7.72-7.72 1.47 1.35L5.41 20z\"/>\n",
              "  </svg>\n",
              "      </button>\n",
              "      \n",
              "  <style>\n",
              "    .colab-df-container {\n",
              "      display:flex;\n",
              "      flex-wrap:wrap;\n",
              "      gap: 12px;\n",
              "    }\n",
              "\n",
              "    .colab-df-convert {\n",
              "      background-color: #E8F0FE;\n",
              "      border: none;\n",
              "      border-radius: 50%;\n",
              "      cursor: pointer;\n",
              "      display: none;\n",
              "      fill: #1967D2;\n",
              "      height: 32px;\n",
              "      padding: 0 0 0 0;\n",
              "      width: 32px;\n",
              "    }\n",
              "\n",
              "    .colab-df-convert:hover {\n",
              "      background-color: #E2EBFA;\n",
              "      box-shadow: 0px 1px 2px rgba(60, 64, 67, 0.3), 0px 1px 3px 1px rgba(60, 64, 67, 0.15);\n",
              "      fill: #174EA6;\n",
              "    }\n",
              "\n",
              "    [theme=dark] .colab-df-convert {\n",
              "      background-color: #3B4455;\n",
              "      fill: #D2E3FC;\n",
              "    }\n",
              "\n",
              "    [theme=dark] .colab-df-convert:hover {\n",
              "      background-color: #434B5C;\n",
              "      box-shadow: 0px 1px 3px 1px rgba(0, 0, 0, 0.15);\n",
              "      filter: drop-shadow(0px 1px 2px rgba(0, 0, 0, 0.3));\n",
              "      fill: #FFFFFF;\n",
              "    }\n",
              "  </style>\n",
              "\n",
              "      <script>\n",
              "        const buttonEl =\n",
              "          document.querySelector('#df-a3402deb-ee43-418a-bec9-390caa6afa67 button.colab-df-convert');\n",
              "        buttonEl.style.display =\n",
              "          google.colab.kernel.accessAllowed ? 'block' : 'none';\n",
              "\n",
              "        async function convertToInteractive(key) {\n",
              "          const element = document.querySelector('#df-a3402deb-ee43-418a-bec9-390caa6afa67');\n",
              "          const dataTable =\n",
              "            await google.colab.kernel.invokeFunction('convertToInteractive',\n",
              "                                                     [key], {});\n",
              "          if (!dataTable) return;\n",
              "\n",
              "          const docLinkHtml = 'Like what you see? Visit the ' +\n",
              "            '<a target=\"_blank\" href=https://colab.research.google.com/notebooks/data_table.ipynb>data table notebook</a>'\n",
              "            + ' to learn more about interactive tables.';\n",
              "          element.innerHTML = '';\n",
              "          dataTable['output_type'] = 'display_data';\n",
              "          await google.colab.output.renderOutput(dataTable, element);\n",
              "          const docLink = document.createElement('div');\n",
              "          docLink.innerHTML = docLinkHtml;\n",
              "          element.appendChild(docLink);\n",
              "        }\n",
              "      </script>\n",
              "    </div>\n",
              "  </div>\n",
              "  "
            ]
          },
          "metadata": {},
          "execution_count": 162
        }
      ]
    },
    {
      "cell_type": "markdown",
      "source": [
        "**Analizo errores**"
      ],
      "metadata": {
        "id": "CTshwhyAiRCE"
      }
    },
    {
      "cell_type": "code",
      "source": [
        "Y_train_pred = model.predict(X_train2)\n",
        "plt.title('Valores reales vs predicciones en train')\n",
        "plt.xlabel('Valores reales')\n",
        "plt.ylabel('Predicciones')\n",
        "_ = plt.plot(Y_train2, Y_train_pred, '.', Y_train2, Y_train2, '-')"
      ],
      "metadata": {
        "colab": {
          "base_uri": "https://localhost:8080/",
          "height": 295
        },
        "id": "ovw8qeK1iWeL",
        "outputId": "e9933b55-6ec5-47ad-d9a1-84597c6b0c90"
      },
      "execution_count": 163,
      "outputs": [
        {
          "output_type": "display_data",
          "data": {
            "text/plain": [
              "<Figure size 432x288 with 1 Axes>"
            ],
            "image/png": "[encoded data removed]"
          },
          "metadata": {
            "needs_background": "light"
          }
        }
      ]
    },
    {
      "cell_type": "code",
      "source": [
        "Y_test_pred = model.predict(X_test2)\n",
        "plt.title('Valores reales vs predicciones en test')\n",
        "plt.xlabel('Valores reales')\n",
        "plt.ylabel('Predicciones')\n",
        "_ = plt.plot(Y_test2, Y_test_pred, '.', Y_test2, Y_test2, '-')"
      ],
      "metadata": {
        "colab": {
          "base_uri": "https://localhost:8080/",
          "height": 295
        },
        "id": "fyJJScrPjDtb",
        "outputId": "ef917208-5dd2-4bd3-e0da-80d073d49c0f"
      },
      "execution_count": 164,
      "outputs": [
        {
          "output_type": "display_data",
          "data": {
            "text/plain": [
              "<Figure size 432x288 with 1 Axes>"
            ],
            "image/png": "[encoded data removed]"
          },
          "metadata": {
            "needs_background": "light"
          }
        }
      ]
    },
    {
      "cell_type": "code",
      "source": [
        "error_mse_train = round(mean_squared_error(Y_train2, Y_train_pred),2)\n",
        "error_mse_test = round(mean_squared_error(Y_test2, Y_test_pred),2)\n",
        "print('El error cuadrático medio en train es: {}'.format(error_mse_train))\n",
        "print('El error cuadrático medio en test es: {}'.format(error_mse_test))\n",
        "print('Raiz del error cuadrático medio (RECM): ',np.sqrt(error_mse_test))\n",
        "RECM_modelo1=np.sqrt(error_mse_test)"
      ],
      "metadata": {
        "colab": {
          "base_uri": "https://localhost:8080/"
        },
        "id": "eRye8qExja3T",
        "outputId": "7bf6535c-2103-431d-ca58-2c091db3a6f6"
      },
      "execution_count": 165,
      "outputs": [
        {
          "output_type": "stream",
          "name": "stdout",
          "text": [
            "El error cuadrático medio en train es: 478746.5625\n",
            "El error cuadrático medio en test es: 541538.0\n",
            "Raiz del error cuadrático medio (RECM):  735.89264\n"
          ]
        }
      ]
    },
    {
      "cell_type": "code",
      "source": [
        "Y_train_pred = model2.predict(X_train2)\n",
        "plt.title('Valores reales vs predicciones en train')\n",
        "plt.xlabel('Valores reales')\n",
        "plt.ylabel('Predicciones')\n",
        "_ = plt.plot(Y_train2, Y_train_pred, '.', Y_train2, Y_train2, '-')"
      ],
      "metadata": {
        "colab": {
          "base_uri": "https://localhost:8080/",
          "height": 295
        },
        "id": "EI0CRBjnjx3E",
        "outputId": "ceed24a1-dd5d-4f7e-ba55-6c14d3ff1d62"
      },
      "execution_count": 166,
      "outputs": [
        {
          "output_type": "display_data",
          "data": {
            "text/plain": [
              "<Figure size 432x288 with 1 Axes>"
            ],
            "image/png": "[encoded data removed]"
          },
          "metadata": {
            "needs_background": "light"
          }
        }
      ]
    },
    {
      "cell_type": "code",
      "source": [
        "Y_test_pred = model2.predict(X_test2)\n",
        "plt.title('Valores reales vs predicciones en test')\n",
        "plt.xlabel('Valores reales')\n",
        "plt.ylabel('Predicciones')\n",
        "_ = plt.plot(Y_test2, Y_test_pred, '.', Y_test2, Y_test2, '-')"
      ],
      "metadata": {
        "colab": {
          "base_uri": "https://localhost:8080/",
          "height": 295
        },
        "id": "SUYeE9Gsj_qj",
        "outputId": "868dc225-0939-4747-acd8-72b971ec1e8e"
      },
      "execution_count": 181,
      "outputs": [
        {
          "output_type": "display_data",
          "data": {
            "text/plain": [
              "<Figure size 432x288 with 1 Axes>"
            ],
            "image/png": "[encoded data removed]"
          },
          "metadata": {
            "needs_background": "light"
          }
        }
      ]
    },
    {
      "cell_type": "code",
      "source": [
        "error_mse_train = round(mean_squared_error(Y_train2, Y_train_pred),2)\n",
        "error_mse_test = round(mean_squared_error(Y_test2, Y_test_pred),2)\n",
        "print('El error cuadrático medio en train es: {}'.format(error_mse_train))\n",
        "print('El error cuadrático medio en test es: {}'.format(error_mse_test))\n",
        "print('Raiz del  error cuadrático medio (RECM): ',np.sqrt(error_mse_test))\n",
        "RECM_modelo2=np.sqrt(error_mse_test)"
      ],
      "metadata": {
        "colab": {
          "base_uri": "https://localhost:8080/"
        },
        "id": "eSdK4ksExKhY",
        "outputId": "135cb184-67f2-4af0-a1b7-7b1fbb5e8413"
      },
      "execution_count": 182,
      "outputs": [
        {
          "output_type": "stream",
          "name": "stdout",
          "text": [
            "El error cuadrático medio en train es: 477933.625\n",
            "El error cuadrático medio en test es: 538910.125\n",
            "Raiz del  error cuadrático medio (RECM):  734.105\n"
          ]
        }
      ]
    },
    {
      "cell_type": "markdown",
      "source": [
        "**Predecir la target de test**"
      ],
      "metadata": {
        "id": "DLXG_3Tjb8PB"
      }
    },
    {
      "cell_type": "code",
      "source": [
        "#Entreno otra vez las dos redes neuronales, esta vez con la totalidad de train\n",
        "model.fit(X_train, Y_train)\n",
        "\n",
        "model2.fit(X_train2, Y_train2, epochs=EPOCHS, validation_split = 0.2, verbose=0, callbacks=[early_stop, PrintDot()])"
      ],
      "metadata": {
        "colab": {
          "base_uri": "https://localhost:8080/"
        },
        "id": "V9Md2yi4dohz",
        "outputId": "cdf6ef46-db0d-49fc-9cea-a8c8b8dd8683"
      },
      "execution_count": 169,
      "outputs": [
        {
          "output_type": "stream",
          "name": "stdout",
          "text": [
            "837/837 [==============================] - 3s 3ms/step - loss: 496613.6875 - mae: 464.2016 - mse: 496613.6875\n",
            "\n",
            "....................."
          ]
        },
        {
          "output_type": "execute_result",
          "data": {
            "text/plain": [
              "<keras.callbacks.History at 0x7f77603a44d0>"
            ]
          },
          "metadata": {},
          "execution_count": 169
        }
      ]
    },
    {
      "cell_type": "code",
      "source": [
        "#prediccion primeros 10 registros para test\n",
        "pred_Sequential = pd.DataFrame(model.predict(df_test),columns=['pred_Sequential'])\n",
        "pred_Sequential.head(10)"
      ],
      "metadata": {
        "id": "7yHnTKQZb_zr",
        "colab": {
          "base_uri": "https://localhost:8080/",
          "height": 363
        },
        "outputId": "da66844f-9d50-48e7-af73-6be5430e66ff"
      },
      "execution_count": 170,
      "outputs": [
        {
          "output_type": "execute_result",
          "data": {
            "text/plain": [
              "   pred_Sequential\n",
              "0     68063.593750\n",
              "1     64372.054688\n",
              "2     63663.687500\n",
              "3     67621.906250\n",
              "4     67265.265625\n",
              "5     67115.156250\n",
              "6     63669.953125\n",
              "7     63268.050781\n",
              "8     68450.421875\n",
              "9     64211.132812"
            ],
            "text/html": [
              "\n",
              "  <div id=\"df-9b38ce48-b59f-43ea-a140-6c4f08b6190f\">\n",
              "    <div class=\"colab-df-container\">\n",
              "      <div>\n",
              "<style scoped>\n",
              "    .dataframe tbody tr th:only-of-type {\n",
              "        vertical-align: middle;\n",
              "    }\n",
              "\n",
              "    .dataframe tbody tr th {\n",
              "        vertical-align: top;\n",
              "    }\n",
              "\n",
              "    .dataframe thead th {\n",
              "        text-align: right;\n",
              "    }\n",
              "</style>\n",
              "<table border=\"1\" class=\"dataframe\">\n",
              "  <thead>\n",
              "    <tr style=\"text-align: right;\">\n",
              "      <th></th>\n",
              "      <th>pred_Sequential</th>\n",
              "    </tr>\n",
              "  </thead>\n",
              "  <tbody>\n",
              "    <tr>\n",
              "      <th>0</th>\n",
              "      <td>68063.593750</td>\n",
              "    </tr>\n",
              "    <tr>\n",
              "      <th>1</th>\n",
              "      <td>64372.054688</td>\n",
              "    </tr>\n",
              "    <tr>\n",
              "      <th>2</th>\n",
              "      <td>63663.687500</td>\n",
              "    </tr>\n",
              "    <tr>\n",
              "      <th>3</th>\n",
              "      <td>67621.906250</td>\n",
              "    </tr>\n",
              "    <tr>\n",
              "      <th>4</th>\n",
              "      <td>67265.265625</td>\n",
              "    </tr>\n",
              "    <tr>\n",
              "      <th>5</th>\n",
              "      <td>67115.156250</td>\n",
              "    </tr>\n",
              "    <tr>\n",
              "      <th>6</th>\n",
              "      <td>63669.953125</td>\n",
              "    </tr>\n",
              "    <tr>\n",
              "      <th>7</th>\n",
              "      <td>63268.050781</td>\n",
              "    </tr>\n",
              "    <tr>\n",
              "      <th>8</th>\n",
              "      <td>68450.421875</td>\n",
              "    </tr>\n",
              "    <tr>\n",
              "      <th>9</th>\n",
              "      <td>64211.132812</td>\n",
              "    </tr>\n",
              "  </tbody>\n",
              "</table>\n",
              "</div>\n",
              "      <button class=\"colab-df-convert\" onclick=\"convertToInteractive('df-9b38ce48-b59f-43ea-a140-6c4f08b6190f')\"\n",
              "              title=\"Convert this dataframe to an interactive table.\"\n",
              "              style=\"display:none;\">\n",
              "        \n",
              "  <svg xmlns=\"http://www.w3.org/2000/svg\" height=\"24px\"viewBox=\"0 0 24 24\"\n",
              "       width=\"24px\">\n",
              "    <path d=\"M0 0h24v24H0V0z\" fill=\"none\"/>\n",
              "    <path d=\"M18.56 5.44l.94 2.06.94-2.06 2.06-.94-2.06-.94-.94-2.06-.94 2.06-2.06.94zm-11 1L8.5 8.5l.94-2.06 2.06-.94-2.06-.94L8.5 2.5l-.94 2.06-2.06.94zm10 10l.94 2.06.94-2.06 2.06-.94-2.06-.94-.94-2.06-.94 2.06-2.06.94z\"/><path d=\"M17.41 7.96l-1.37-1.37c-.4-.4-.92-.59-1.43-.59-.52 0-1.04.2-1.43.59L10.3 9.45l-7.72 7.72c-.78.78-.78 2.05 0 2.83L4 21.41c.39.39.9.59 1.41.59.51 0 1.02-.2 1.41-.59l7.78-7.78 2.81-2.81c.8-.78.8-2.07 0-2.86zM5.41 20L4 18.59l7.72-7.72 1.47 1.35L5.41 20z\"/>\n",
              "  </svg>\n",
              "      </button>\n",
              "      \n",
              "  <style>\n",
              "    .colab-df-container {\n",
              "      display:flex;\n",
              "      flex-wrap:wrap;\n",
              "      gap: 12px;\n",
              "    }\n",
              "\n",
              "    .colab-df-convert {\n",
              "      background-color: #E8F0FE;\n",
              "      border: none;\n",
              "      border-radius: 50%;\n",
              "      cursor: pointer;\n",
              "      display: none;\n",
              "      fill: #1967D2;\n",
              "      height: 32px;\n",
              "      padding: 0 0 0 0;\n",
              "      width: 32px;\n",
              "    }\n",
              "\n",
              "    .colab-df-convert:hover {\n",
              "      background-color: #E2EBFA;\n",
              "      box-shadow: 0px 1px 2px rgba(60, 64, 67, 0.3), 0px 1px 3px 1px rgba(60, 64, 67, 0.15);\n",
              "      fill: #174EA6;\n",
              "    }\n",
              "\n",
              "    [theme=dark] .colab-df-convert {\n",
              "      background-color: #3B4455;\n",
              "      fill: #D2E3FC;\n",
              "    }\n",
              "\n",
              "    [theme=dark] .colab-df-convert:hover {\n",
              "      background-color: #434B5C;\n",
              "      box-shadow: 0px 1px 3px 1px rgba(0, 0, 0, 0.15);\n",
              "      filter: drop-shadow(0px 1px 2px rgba(0, 0, 0, 0.3));\n",
              "      fill: #FFFFFF;\n",
              "    }\n",
              "  </style>\n",
              "\n",
              "      <script>\n",
              "        const buttonEl =\n",
              "          document.querySelector('#df-9b38ce48-b59f-43ea-a140-6c4f08b6190f button.colab-df-convert');\n",
              "        buttonEl.style.display =\n",
              "          google.colab.kernel.accessAllowed ? 'block' : 'none';\n",
              "\n",
              "        async function convertToInteractive(key) {\n",
              "          const element = document.querySelector('#df-9b38ce48-b59f-43ea-a140-6c4f08b6190f');\n",
              "          const dataTable =\n",
              "            await google.colab.kernel.invokeFunction('convertToInteractive',\n",
              "                                                     [key], {});\n",
              "          if (!dataTable) return;\n",
              "\n",
              "          const docLinkHtml = 'Like what you see? Visit the ' +\n",
              "            '<a target=\"_blank\" href=https://colab.research.google.com/notebooks/data_table.ipynb>data table notebook</a>'\n",
              "            + ' to learn more about interactive tables.';\n",
              "          element.innerHTML = '';\n",
              "          dataTable['output_type'] = 'display_data';\n",
              "          await google.colab.output.renderOutput(dataTable, element);\n",
              "          const docLink = document.createElement('div');\n",
              "          docLink.innerHTML = docLinkHtml;\n",
              "          element.appendChild(docLink);\n",
              "        }\n",
              "      </script>\n",
              "    </div>\n",
              "  </div>\n",
              "  "
            ]
          },
          "metadata": {},
          "execution_count": 170
        }
      ]
    },
    {
      "cell_type": "code",
      "source": [
        "#Error en pred_Sequencial:\n"
      ],
      "metadata": {
        "id": "P8DGewh7mhN1"
      },
      "execution_count": 171,
      "outputs": []
    },
    {
      "cell_type": "code",
      "source": [
        "#prediccion primeros 10 registros para test\n",
        "\n",
        "pred_EarlyStopping = pd.DataFrame(model2.predict(df_test),columns=['pred_EarlyStopping'])\n",
        "pred_EarlyStopping.head(10)"
      ],
      "metadata": {
        "colab": {
          "base_uri": "https://localhost:8080/",
          "height": 363
        },
        "id": "tS9kRi0BB67_",
        "outputId": "0114821a-562a-43a0-f29f-6566a7c4c87c"
      },
      "execution_count": 172,
      "outputs": [
        {
          "output_type": "execute_result",
          "data": {
            "text/plain": [
              "   pred_EarlyStopping\n",
              "0        67939.273438\n",
              "1        64248.593750\n",
              "2        63511.921875\n",
              "3        67552.453125\n",
              "4        67068.859375\n",
              "5        67065.867188\n",
              "6        63160.585938\n",
              "7        63036.074219\n",
              "8        68588.695312\n",
              "9        63912.218750"
            ],
            "text/html": [
              "\n",
              "  <div id=\"df-d4e0e72c-ad9f-4c08-86a3-3459b6ae5aa8\">\n",
              "    <div class=\"colab-df-container\">\n",
              "      <div>\n",
              "<style scoped>\n",
              "    .dataframe tbody tr th:only-of-type {\n",
              "        vertical-align: middle;\n",
              "    }\n",
              "\n",
              "    .dataframe tbody tr th {\n",
              "        vertical-align: top;\n",
              "    }\n",
              "\n",
              "    .dataframe thead th {\n",
              "        text-align: right;\n",
              "    }\n",
              "</style>\n",
              "<table border=\"1\" class=\"dataframe\">\n",
              "  <thead>\n",
              "    <tr style=\"text-align: right;\">\n",
              "      <th></th>\n",
              "      <th>pred_EarlyStopping</th>\n",
              "    </tr>\n",
              "  </thead>\n",
              "  <tbody>\n",
              "    <tr>\n",
              "      <th>0</th>\n",
              "      <td>67939.273438</td>\n",
              "    </tr>\n",
              "    <tr>\n",
              "      <th>1</th>\n",
              "      <td>64248.593750</td>\n",
              "    </tr>\n",
              "    <tr>\n",
              "      <th>2</th>\n",
              "      <td>63511.921875</td>\n",
              "    </tr>\n",
              "    <tr>\n",
              "      <th>3</th>\n",
              "      <td>67552.453125</td>\n",
              "    </tr>\n",
              "    <tr>\n",
              "      <th>4</th>\n",
              "      <td>67068.859375</td>\n",
              "    </tr>\n",
              "    <tr>\n",
              "      <th>5</th>\n",
              "      <td>67065.867188</td>\n",
              "    </tr>\n",
              "    <tr>\n",
              "      <th>6</th>\n",
              "      <td>63160.585938</td>\n",
              "    </tr>\n",
              "    <tr>\n",
              "      <th>7</th>\n",
              "      <td>63036.074219</td>\n",
              "    </tr>\n",
              "    <tr>\n",
              "      <th>8</th>\n",
              "      <td>68588.695312</td>\n",
              "    </tr>\n",
              "    <tr>\n",
              "      <th>9</th>\n",
              "      <td>63912.218750</td>\n",
              "    </tr>\n",
              "  </tbody>\n",
              "</table>\n",
              "</div>\n",
              "      <button class=\"colab-df-convert\" onclick=\"convertToInteractive('df-d4e0e72c-ad9f-4c08-86a3-3459b6ae5aa8')\"\n",
              "              title=\"Convert this dataframe to an interactive table.\"\n",
              "              style=\"display:none;\">\n",
              "        \n",
              "  <svg xmlns=\"http://www.w3.org/2000/svg\" height=\"24px\"viewBox=\"0 0 24 24\"\n",
              "       width=\"24px\">\n",
              "    <path d=\"M0 0h24v24H0V0z\" fill=\"none\"/>\n",
              "    <path d=\"M18.56 5.44l.94 2.06.94-2.06 2.06-.94-2.06-.94-.94-2.06-.94 2.06-2.06.94zm-11 1L8.5 8.5l.94-2.06 2.06-.94-2.06-.94L8.5 2.5l-.94 2.06-2.06.94zm10 10l.94 2.06.94-2.06 2.06-.94-2.06-.94-.94-2.06-.94 2.06-2.06.94z\"/><path d=\"M17.41 7.96l-1.37-1.37c-.4-.4-.92-.59-1.43-.59-.52 0-1.04.2-1.43.59L10.3 9.45l-7.72 7.72c-.78.78-.78 2.05 0 2.83L4 21.41c.39.39.9.59 1.41.59.51 0 1.02-.2 1.41-.59l7.78-7.78 2.81-2.81c.8-.78.8-2.07 0-2.86zM5.41 20L4 18.59l7.72-7.72 1.47 1.35L5.41 20z\"/>\n",
              "  </svg>\n",
              "      </button>\n",
              "      \n",
              "  <style>\n",
              "    .colab-df-container {\n",
              "      display:flex;\n",
              "      flex-wrap:wrap;\n",
              "      gap: 12px;\n",
              "    }\n",
              "\n",
              "    .colab-df-convert {\n",
              "      background-color: #E8F0FE;\n",
              "      border: none;\n",
              "      border-radius: 50%;\n",
              "      cursor: pointer;\n",
              "      display: none;\n",
              "      fill: #1967D2;\n",
              "      height: 32px;\n",
              "      padding: 0 0 0 0;\n",
              "      width: 32px;\n",
              "    }\n",
              "\n",
              "    .colab-df-convert:hover {\n",
              "      background-color: #E2EBFA;\n",
              "      box-shadow: 0px 1px 2px rgba(60, 64, 67, 0.3), 0px 1px 3px 1px rgba(60, 64, 67, 0.15);\n",
              "      fill: #174EA6;\n",
              "    }\n",
              "\n",
              "    [theme=dark] .colab-df-convert {\n",
              "      background-color: #3B4455;\n",
              "      fill: #D2E3FC;\n",
              "    }\n",
              "\n",
              "    [theme=dark] .colab-df-convert:hover {\n",
              "      background-color: #434B5C;\n",
              "      box-shadow: 0px 1px 3px 1px rgba(0, 0, 0, 0.15);\n",
              "      filter: drop-shadow(0px 1px 2px rgba(0, 0, 0, 0.3));\n",
              "      fill: #FFFFFF;\n",
              "    }\n",
              "  </style>\n",
              "\n",
              "      <script>\n",
              "        const buttonEl =\n",
              "          document.querySelector('#df-d4e0e72c-ad9f-4c08-86a3-3459b6ae5aa8 button.colab-df-convert');\n",
              "        buttonEl.style.display =\n",
              "          google.colab.kernel.accessAllowed ? 'block' : 'none';\n",
              "\n",
              "        async function convertToInteractive(key) {\n",
              "          const element = document.querySelector('#df-d4e0e72c-ad9f-4c08-86a3-3459b6ae5aa8');\n",
              "          const dataTable =\n",
              "            await google.colab.kernel.invokeFunction('convertToInteractive',\n",
              "                                                     [key], {});\n",
              "          if (!dataTable) return;\n",
              "\n",
              "          const docLinkHtml = 'Like what you see? Visit the ' +\n",
              "            '<a target=\"_blank\" href=https://colab.research.google.com/notebooks/data_table.ipynb>data table notebook</a>'\n",
              "            + ' to learn more about interactive tables.';\n",
              "          element.innerHTML = '';\n",
              "          dataTable['output_type'] = 'display_data';\n",
              "          await google.colab.output.renderOutput(dataTable, element);\n",
              "          const docLink = document.createElement('div');\n",
              "          docLink.innerHTML = docLinkHtml;\n",
              "          element.appendChild(docLink);\n",
              "        }\n",
              "      </script>\n",
              "    </div>\n",
              "  </div>\n",
              "  "
            ]
          },
          "metadata": {},
          "execution_count": 172
        }
      ]
    },
    {
      "cell_type": "markdown",
      "source": [
        "**Modelo de regresión no lineal. RandomForest**"
      ],
      "metadata": {
        "id": "rGbU_6V9suxO"
      }
    },
    {
      "cell_type": "code",
      "source": [
        "X_train, X_test, Y_train, Y_test = train_test_split(X_train_cp, Y_train_cp, test_size=0.2, random_state=0)"
      ],
      "metadata": {
        "id": "_kFUD36Du-vW"
      },
      "execution_count": 173,
      "outputs": []
    },
    {
      "cell_type": "markdown",
      "source": [
        "Optimizando max_depth y n_estimators con GridSearch"
      ],
      "metadata": {
        "id": "YmZiIc5itDDO"
      }
    },
    {
      "cell_type": "code",
      "source": [
        "#modelo = RandomForestRegressor()\n",
        "#parametros = {\"n_estimators\": [10,50], \"max_depth\":range(1,20)}\n",
        "\n",
        "regressor=RandomForestRegressor(n_estimators = 100, random_state = 40)\n",
        "regressor.fit(X_train, Y_train)"
      ],
      "metadata": {
        "id": "V1i62vpztIZt",
        "colab": {
          "base_uri": "https://localhost:8080/"
        },
        "outputId": "aa1b6cfc-c540-4aca-b90d-153e3fe93d22"
      },
      "execution_count": 174,
      "outputs": [
        {
          "output_type": "stream",
          "name": "stderr",
          "text": [
            "/usr/local/lib/python3.7/dist-packages/ipykernel_launcher.py:5: DataConversionWarning: A column-vector y was passed when a 1d array was expected. Please change the shape of y to (n_samples,), for example using ravel().\n",
            "  \"\"\"\n"
          ]
        },
        {
          "output_type": "execute_result",
          "data": {
            "text/plain": [
              "RandomForestRegressor(random_state=40)"
            ]
          },
          "metadata": {},
          "execution_count": 174
        }
      ]
    },
    {
      "cell_type": "code",
      "source": [
        "\n",
        "Y_pred = regressor.predict(X_test)\n",
        "print('Error absoluto medio en test:', metrics.mean_absolute_error(Y_test, Y_pred))\n",
        "print('El error cuadrático medio (ECM) :', metrics.mean_squared_error(Y_test, Y_pred))\n",
        "#print('Root Mean Squared Error:', np.sqrt(metrics.mean_squared_error(Y_test, Y_pred)))\n",
        "print('raíz del error cuadrático medio (RECM) modelo RandomForest :', np.sqrt(metrics.mean_squared_error(Y_test, Y_pred)),'\\n\\n')\n",
        "RECM_randomforest=np.sqrt(metrics.mean_squared_error(Y_test, Y_pred))\n",
        "'''\n",
        "Y_pred = regressor.predict(X_train)\n",
        "print('Error absoluto medio en train:', metrics.mean_absolute_error(Y_train, Y_pred))\n",
        "print('El error cuadrático medio (ECM) en train es:', metrics.mean_squared_error(Y_train, Y_pred))\n",
        "#print('Root Mean Squared Error:', np.sqrt(metrics.mean_squared_error(Y_test, Y_pred)))\n",
        "gg=print('raíz del error cuadrático medio (RECM) en train:', np.sqrt(metrics.mean_squared_error(Y_train, Y_pred)))\n",
        "'''"
      ],
      "metadata": {
        "id": "znztialj3jT_",
        "colab": {
          "base_uri": "https://localhost:8080/",
          "height": 149
        },
        "outputId": "90d87cdb-7ffc-49a0-ad91-723c9a2749df"
      },
      "execution_count": 175,
      "outputs": [
        {
          "output_type": "stream",
          "name": "stdout",
          "text": [
            "Error absoluto medio en test: 628.4099309314915\n",
            "El error cuadrático medio (ECM) : 745210.316463319\n",
            "raíz del error cuadrático medio (RECM) modelo RandomForest : 863.2556495403427 \n",
            "\n",
            "\n"
          ]
        },
        {
          "output_type": "execute_result",
          "data": {
            "text/plain": [
              "\"\\nY_pred = regressor.predict(X_train)\\nprint('Error absoluto medio en train:', metrics.mean_absolute_error(Y_train, Y_pred))\\nprint('El error cuadrático medio (ECM) en train es:', metrics.mean_squared_error(Y_train, Y_pred))\\n#print('Root Mean Squared Error:', np.sqrt(metrics.mean_squared_error(Y_test, Y_pred)))\\ngg=print('raíz del error cuadrático medio (RECM) en train:', np.sqrt(metrics.mean_squared_error(Y_train, Y_pred)))\\n\""
            ],
            "application/vnd.google.colaboratory.intrinsic+json": {
              "type": "string"
            }
          },
          "metadata": {},
          "execution_count": 175
        }
      ]
    },
    {
      "cell_type": "code",
      "source": [
        "import seaborn as sns\n",
        "plt.figure(figsize=(5, 7))\n",
        "\n",
        "\n",
        "ax = sns.distplot(Y_train, hist=False, color=\"r\", label=\"Actual Value\")\n",
        "sns.distplot(Y_pred, hist=False, color=\"b\", label=\"Fitted Values\" , ax=ax)\n",
        "\n",
        "\n",
        "plt.title('Valor real vs predicción')\n",
        "\n",
        "\n",
        "plt.show()\n",
        "plt.close()"
      ],
      "metadata": {
        "id": "FmitEyt26vCz",
        "colab": {
          "base_uri": "https://localhost:8080/",
          "height": 519
        },
        "outputId": "dea06240-4454-4408-ceb5-4a6e65b0b71c"
      },
      "execution_count": 176,
      "outputs": [
        {
          "output_type": "stream",
          "name": "stderr",
          "text": [
            "/usr/local/lib/python3.7/dist-packages/seaborn/distributions.py:2619: FutureWarning: `distplot` is a deprecated function and will be removed in a future version. Please adapt your code to use either `displot` (a figure-level function with similar flexibility) or `kdeplot` (an axes-level function for kernel density plots).\n",
            "  warnings.warn(msg, FutureWarning)\n",
            "/usr/local/lib/python3.7/dist-packages/seaborn/distributions.py:2619: FutureWarning: `distplot` is a deprecated function and will be removed in a future version. Please adapt your code to use either `displot` (a figure-level function with similar flexibility) or `kdeplot` (an axes-level function for kernel density plots).\n",
            "  warnings.warn(msg, FutureWarning)\n"
          ]
        },
        {
          "output_type": "display_data",
          "data": {
            "text/plain": [
              "<Figure size 360x504 with 1 Axes>"
            ],
            "image/png": "[encoded data removed]"
          },
          "metadata": {
            "needs_background": "light"
          }
        }
      ]
    },
    {
      "cell_type": "markdown",
      "source": [
        "**Predecir sobre test con RandomForest**"
      ],
      "metadata": {
        "id": "PF3jeAvJwD_z"
      }
    },
    {
      "cell_type": "code",
      "source": [
        "Y_pred = regressor.predict(df_test)\n",
        "pred_RandomForest=pd.DataFrame({'pred_RandomForest':Y_pred})\n",
        "pred_RandomForest.head(10)"
      ],
      "metadata": {
        "id": "0upbItue8Sn-",
        "colab": {
          "base_uri": "https://localhost:8080/",
          "height": 401
        },
        "outputId": "76e3b766-0ab1-42a1-bc80-a67ac82d4183"
      },
      "execution_count": 177,
      "outputs": [
        {
          "output_type": "stream",
          "name": "stderr",
          "text": [
            "/usr/local/lib/python3.7/dist-packages/sklearn/base.py:451: UserWarning: X does not have valid feature names, but RandomForestRegressor was fitted with feature names\n",
            "  \"X does not have valid feature names, but\"\n"
          ]
        },
        {
          "output_type": "execute_result",
          "data": {
            "text/plain": [
              "   pred_RandomForest\n",
              "0           66935.38\n",
              "1           65340.90\n",
              "2           63706.36\n",
              "3           68030.17\n",
              "4           67177.88\n",
              "5           67628.97\n",
              "6           63271.82\n",
              "7           61462.21\n",
              "8           68789.61\n",
              "9           61802.84"
            ],
            "text/html": [
              "\n",
              "  <div id=\"df-28e7bbe6-7da0-4080-ade5-929fd9ee42da\">\n",
              "    <div class=\"colab-df-container\">\n",
              "      <div>\n",
              "<style scoped>\n",
              "    .dataframe tbody tr th:only-of-type {\n",
              "        vertical-align: middle;\n",
              "    }\n",
              "\n",
              "    .dataframe tbody tr th {\n",
              "        vertical-align: top;\n",
              "    }\n",
              "\n",
              "    .dataframe thead th {\n",
              "        text-align: right;\n",
              "    }\n",
              "</style>\n",
              "<table border=\"1\" class=\"dataframe\">\n",
              "  <thead>\n",
              "    <tr style=\"text-align: right;\">\n",
              "      <th></th>\n",
              "      <th>pred_RandomForest</th>\n",
              "    </tr>\n",
              "  </thead>\n",
              "  <tbody>\n",
              "    <tr>\n",
              "      <th>0</th>\n",
              "      <td>66935.38</td>\n",
              "    </tr>\n",
              "    <tr>\n",
              "      <th>1</th>\n",
              "      <td>65340.90</td>\n",
              "    </tr>\n",
              "    <tr>\n",
              "      <th>2</th>\n",
              "      <td>63706.36</td>\n",
              "    </tr>\n",
              "    <tr>\n",
              "      <th>3</th>\n",
              "      <td>68030.17</td>\n",
              "    </tr>\n",
              "    <tr>\n",
              "      <th>4</th>\n",
              "      <td>67177.88</td>\n",
              "    </tr>\n",
              "    <tr>\n",
              "      <th>5</th>\n",
              "      <td>67628.97</td>\n",
              "    </tr>\n",
              "    <tr>\n",
              "      <th>6</th>\n",
              "      <td>63271.82</td>\n",
              "    </tr>\n",
              "    <tr>\n",
              "      <th>7</th>\n",
              "      <td>61462.21</td>\n",
              "    </tr>\n",
              "    <tr>\n",
              "      <th>8</th>\n",
              "      <td>68789.61</td>\n",
              "    </tr>\n",
              "    <tr>\n",
              "      <th>9</th>\n",
              "      <td>61802.84</td>\n",
              "    </tr>\n",
              "  </tbody>\n",
              "</table>\n",
              "</div>\n",
              "      <button class=\"colab-df-convert\" onclick=\"convertToInteractive('df-28e7bbe6-7da0-4080-ade5-929fd9ee42da')\"\n",
              "              title=\"Convert this dataframe to an interactive table.\"\n",
              "              style=\"display:none;\">\n",
              "        \n",
              "  <svg xmlns=\"http://www.w3.org/2000/svg\" height=\"24px\"viewBox=\"0 0 24 24\"\n",
              "       width=\"24px\">\n",
              "    <path d=\"M0 0h24v24H0V0z\" fill=\"none\"/>\n",
              "    <path d=\"M18.56 5.44l.94 2.06.94-2.06 2.06-.94-2.06-.94-.94-2.06-.94 2.06-2.06.94zm-11 1L8.5 8.5l.94-2.06 2.06-.94-2.06-.94L8.5 2.5l-.94 2.06-2.06.94zm10 10l.94 2.06.94-2.06 2.06-.94-2.06-.94-.94-2.06-.94 2.06-2.06.94z\"/><path d=\"M17.41 7.96l-1.37-1.37c-.4-.4-.92-.59-1.43-.59-.52 0-1.04.2-1.43.59L10.3 9.45l-7.72 7.72c-.78.78-.78 2.05 0 2.83L4 21.41c.39.39.9.59 1.41.59.51 0 1.02-.2 1.41-.59l7.78-7.78 2.81-2.81c.8-.78.8-2.07 0-2.86zM5.41 20L4 18.59l7.72-7.72 1.47 1.35L5.41 20z\"/>\n",
              "  </svg>\n",
              "      </button>\n",
              "      \n",
              "  <style>\n",
              "    .colab-df-container {\n",
              "      display:flex;\n",
              "      flex-wrap:wrap;\n",
              "      gap: 12px;\n",
              "    }\n",
              "\n",
              "    .colab-df-convert {\n",
              "      background-color: #E8F0FE;\n",
              "      border: none;\n",
              "      border-radius: 50%;\n",
              "      cursor: pointer;\n",
              "      display: none;\n",
              "      fill: #1967D2;\n",
              "      height: 32px;\n",
              "      padding: 0 0 0 0;\n",
              "      width: 32px;\n",
              "    }\n",
              "\n",
              "    .colab-df-convert:hover {\n",
              "      background-color: #E2EBFA;\n",
              "      box-shadow: 0px 1px 2px rgba(60, 64, 67, 0.3), 0px 1px 3px 1px rgba(60, 64, 67, 0.15);\n",
              "      fill: #174EA6;\n",
              "    }\n",
              "\n",
              "    [theme=dark] .colab-df-convert {\n",
              "      background-color: #3B4455;\n",
              "      fill: #D2E3FC;\n",
              "    }\n",
              "\n",
              "    [theme=dark] .colab-df-convert:hover {\n",
              "      background-color: #434B5C;\n",
              "      box-shadow: 0px 1px 3px 1px rgba(0, 0, 0, 0.15);\n",
              "      filter: drop-shadow(0px 1px 2px rgba(0, 0, 0, 0.3));\n",
              "      fill: #FFFFFF;\n",
              "    }\n",
              "  </style>\n",
              "\n",
              "      <script>\n",
              "        const buttonEl =\n",
              "          document.querySelector('#df-28e7bbe6-7da0-4080-ade5-929fd9ee42da button.colab-df-convert');\n",
              "        buttonEl.style.display =\n",
              "          google.colab.kernel.accessAllowed ? 'block' : 'none';\n",
              "\n",
              "        async function convertToInteractive(key) {\n",
              "          const element = document.querySelector('#df-28e7bbe6-7da0-4080-ade5-929fd9ee42da');\n",
              "          const dataTable =\n",
              "            await google.colab.kernel.invokeFunction('convertToInteractive',\n",
              "                                                     [key], {});\n",
              "          if (!dataTable) return;\n",
              "\n",
              "          const docLinkHtml = 'Like what you see? Visit the ' +\n",
              "            '<a target=\"_blank\" href=https://colab.research.google.com/notebooks/data_table.ipynb>data table notebook</a>'\n",
              "            + ' to learn more about interactive tables.';\n",
              "          element.innerHTML = '';\n",
              "          dataTable['output_type'] = 'display_data';\n",
              "          await google.colab.output.renderOutput(dataTable, element);\n",
              "          const docLink = document.createElement('div');\n",
              "          docLink.innerHTML = docLinkHtml;\n",
              "          element.appendChild(docLink);\n",
              "        }\n",
              "      </script>\n",
              "    </div>\n",
              "  </div>\n",
              "  "
            ]
          },
          "metadata": {},
          "execution_count": 177
        }
      ]
    },
    {
      "cell_type": "markdown",
      "source": [
        "Teniendo en cuenta que la media de pesos totales es 65000 las predicciones parecen ajustarse bien."
      ],
      "metadata": {
        "id": "V1Fxgxj0-Z-N"
      }
    },
    {
      "cell_type": "markdown",
      "source": [
        "**Conclusiones**"
      ],
      "metadata": {
        "id": "6HxQIVETzDRK"
      }
    },
    {
      "cell_type": "code",
      "source": [
        "predicciones=pd.concat([pred_Sequential,pred_EarlyStopping, pred_RandomForest], axis=1)\n",
        "predicciones.describe()\n"
      ],
      "metadata": {
        "id": "ZxkIqZr7AolY",
        "colab": {
          "base_uri": "https://localhost:8080/",
          "height": 300
        },
        "outputId": "fa373e1a-fe4b-4df1-f403-464bf826330d"
      },
      "execution_count": 178,
      "outputs": [
        {
          "output_type": "execute_result",
          "data": {
            "text/plain": [
              "       pred_Sequential  pred_EarlyStopping  pred_RandomForest\n",
              "count      1916.000000         1916.000000        1916.000000\n",
              "mean      65707.242188        65575.343750       65440.002954\n",
              "std        3744.906738         3936.720703        2888.271387\n",
              "min       54097.148438        53932.246094       53274.030000\n",
              "25%       63764.041992        63439.066406       63446.392500\n",
              "50%       65454.906250        65289.947266       65303.215000\n",
              "75%       67394.703125        67383.513672       67274.610000\n",
              "max      160416.265625       163398.296875       74236.900000"
            ],
            "text/html": [
              "\n",
              "  <div id=\"df-07d093e5-cb86-44fc-8c16-d6dec9807a84\">\n",
              "    <div class=\"colab-df-container\">\n",
              "      <div>\n",
              "<style scoped>\n",
              "    .dataframe tbody tr th:only-of-type {\n",
              "        vertical-align: middle;\n",
              "    }\n",
              "\n",
              "    .dataframe tbody tr th {\n",
              "        vertical-align: top;\n",
              "    }\n",
              "\n",
              "    .dataframe thead th {\n",
              "        text-align: right;\n",
              "    }\n",
              "</style>\n",
              "<table border=\"1\" class=\"dataframe\">\n",
              "  <thead>\n",
              "    <tr style=\"text-align: right;\">\n",
              "      <th></th>\n",
              "      <th>pred_Sequential</th>\n",
              "      <th>pred_EarlyStopping</th>\n",
              "      <th>pred_RandomForest</th>\n",
              "    </tr>\n",
              "  </thead>\n",
              "  <tbody>\n",
              "    <tr>\n",
              "      <th>count</th>\n",
              "      <td>1916.000000</td>\n",
              "      <td>1916.000000</td>\n",
              "      <td>1916.000000</td>\n",
              "    </tr>\n",
              "    <tr>\n",
              "      <th>mean</th>\n",
              "      <td>65707.242188</td>\n",
              "      <td>65575.343750</td>\n",
              "      <td>65440.002954</td>\n",
              "    </tr>\n",
              "    <tr>\n",
              "      <th>std</th>\n",
              "      <td>3744.906738</td>\n",
              "      <td>3936.720703</td>\n",
              "      <td>2888.271387</td>\n",
              "    </tr>\n",
              "    <tr>\n",
              "      <th>min</th>\n",
              "      <td>54097.148438</td>\n",
              "      <td>53932.246094</td>\n",
              "      <td>53274.030000</td>\n",
              "    </tr>\n",
              "    <tr>\n",
              "      <th>25%</th>\n",
              "      <td>63764.041992</td>\n",
              "      <td>63439.066406</td>\n",
              "      <td>63446.392500</td>\n",
              "    </tr>\n",
              "    <tr>\n",
              "      <th>50%</th>\n",
              "      <td>65454.906250</td>\n",
              "      <td>65289.947266</td>\n",
              "      <td>65303.215000</td>\n",
              "    </tr>\n",
              "    <tr>\n",
              "      <th>75%</th>\n",
              "      <td>67394.703125</td>\n",
              "      <td>67383.513672</td>\n",
              "      <td>67274.610000</td>\n",
              "    </tr>\n",
              "    <tr>\n",
              "      <th>max</th>\n",
              "      <td>160416.265625</td>\n",
              "      <td>163398.296875</td>\n",
              "      <td>74236.900000</td>\n",
              "    </tr>\n",
              "  </tbody>\n",
              "</table>\n",
              "</div>\n",
              "      <button class=\"colab-df-convert\" onclick=\"convertToInteractive('df-07d093e5-cb86-44fc-8c16-d6dec9807a84')\"\n",
              "              title=\"Convert this dataframe to an interactive table.\"\n",
              "              style=\"display:none;\">\n",
              "        \n",
              "  <svg xmlns=\"http://www.w3.org/2000/svg\" height=\"24px\"viewBox=\"0 0 24 24\"\n",
              "       width=\"24px\">\n",
              "    <path d=\"M0 0h24v24H0V0z\" fill=\"none\"/>\n",
              "    <path d=\"M18.56 5.44l.94 2.06.94-2.06 2.06-.94-2.06-.94-.94-2.06-.94 2.06-2.06.94zm-11 1L8.5 8.5l.94-2.06 2.06-.94-2.06-.94L8.5 2.5l-.94 2.06-2.06.94zm10 10l.94 2.06.94-2.06 2.06-.94-2.06-.94-.94-2.06-.94 2.06-2.06.94z\"/><path d=\"M17.41 7.96l-1.37-1.37c-.4-.4-.92-.59-1.43-.59-.52 0-1.04.2-1.43.59L10.3 9.45l-7.72 7.72c-.78.78-.78 2.05 0 2.83L4 21.41c.39.39.9.59 1.41.59.51 0 1.02-.2 1.41-.59l7.78-7.78 2.81-2.81c.8-.78.8-2.07 0-2.86zM5.41 20L4 18.59l7.72-7.72 1.47 1.35L5.41 20z\"/>\n",
              "  </svg>\n",
              "      </button>\n",
              "      \n",
              "  <style>\n",
              "    .colab-df-container {\n",
              "      display:flex;\n",
              "      flex-wrap:wrap;\n",
              "      gap: 12px;\n",
              "    }\n",
              "\n",
              "    .colab-df-convert {\n",
              "      background-color: #E8F0FE;\n",
              "      border: none;\n",
              "      border-radius: 50%;\n",
              "      cursor: pointer;\n",
              "      display: none;\n",
              "      fill: #1967D2;\n",
              "      height: 32px;\n",
              "      padding: 0 0 0 0;\n",
              "      width: 32px;\n",
              "    }\n",
              "\n",
              "    .colab-df-convert:hover {\n",
              "      background-color: #E2EBFA;\n",
              "      box-shadow: 0px 1px 2px rgba(60, 64, 67, 0.3), 0px 1px 3px 1px rgba(60, 64, 67, 0.15);\n",
              "      fill: #174EA6;\n",
              "    }\n",
              "\n",
              "    [theme=dark] .colab-df-convert {\n",
              "      background-color: #3B4455;\n",
              "      fill: #D2E3FC;\n",
              "    }\n",
              "\n",
              "    [theme=dark] .colab-df-convert:hover {\n",
              "      background-color: #434B5C;\n",
              "      box-shadow: 0px 1px 3px 1px rgba(0, 0, 0, 0.15);\n",
              "      filter: drop-shadow(0px 1px 2px rgba(0, 0, 0, 0.3));\n",
              "      fill: #FFFFFF;\n",
              "    }\n",
              "  </style>\n",
              "\n",
              "      <script>\n",
              "        const buttonEl =\n",
              "          document.querySelector('#df-07d093e5-cb86-44fc-8c16-d6dec9807a84 button.colab-df-convert');\n",
              "        buttonEl.style.display =\n",
              "          google.colab.kernel.accessAllowed ? 'block' : 'none';\n",
              "\n",
              "        async function convertToInteractive(key) {\n",
              "          const element = document.querySelector('#df-07d093e5-cb86-44fc-8c16-d6dec9807a84');\n",
              "          const dataTable =\n",
              "            await google.colab.kernel.invokeFunction('convertToInteractive',\n",
              "                                                     [key], {});\n",
              "          if (!dataTable) return;\n",
              "\n",
              "          const docLinkHtml = 'Like what you see? Visit the ' +\n",
              "            '<a target=\"_blank\" href=https://colab.research.google.com/notebooks/data_table.ipynb>data table notebook</a>'\n",
              "            + ' to learn more about interactive tables.';\n",
              "          element.innerHTML = '';\n",
              "          dataTable['output_type'] = 'display_data';\n",
              "          await google.colab.output.renderOutput(dataTable, element);\n",
              "          const docLink = document.createElement('div');\n",
              "          docLink.innerHTML = docLinkHtml;\n",
              "          element.appendChild(docLink);\n",
              "        }\n",
              "      </script>\n",
              "    </div>\n",
              "  </div>\n",
              "  "
            ]
          },
          "metadata": {},
          "execution_count": 178
        }
      ]
    },
    {
      "cell_type": "code",
      "source": [
        "predicciones.head(10)#Las primeras 10 predicciones de la variable target de test son parecidas para los tres modelos"
      ],
      "metadata": {
        "id": "_xqDZTRKkfhc",
        "colab": {
          "base_uri": "https://localhost:8080/",
          "height": 363
        },
        "outputId": "770a1c3f-e68d-40bf-da26-1c9ed072ad8f"
      },
      "execution_count": 179,
      "outputs": [
        {
          "output_type": "execute_result",
          "data": {
            "text/plain": [
              "   pred_Sequential  pred_EarlyStopping  pred_RandomForest\n",
              "0     68063.593750        67939.273438           66935.38\n",
              "1     64372.054688        64248.593750           65340.90\n",
              "2     63663.687500        63511.921875           63706.36\n",
              "3     67621.906250        67552.453125           68030.17\n",
              "4     67265.265625        67068.859375           67177.88\n",
              "5     67115.156250        67065.867188           67628.97\n",
              "6     63669.953125        63160.585938           63271.82\n",
              "7     63268.050781        63036.074219           61462.21\n",
              "8     68450.421875        68588.695312           68789.61\n",
              "9     64211.132812        63912.218750           61802.84"
            ],
            "text/html": [
              "\n",
              "  <div id=\"df-60f25cdc-2a5f-4d0e-9281-e791a01197db\">\n",
              "    <div class=\"colab-df-container\">\n",
              "      <div>\n",
              "<style scoped>\n",
              "    .dataframe tbody tr th:only-of-type {\n",
              "        vertical-align: middle;\n",
              "    }\n",
              "\n",
              "    .dataframe tbody tr th {\n",
              "        vertical-align: top;\n",
              "    }\n",
              "\n",
              "    .dataframe thead th {\n",
              "        text-align: right;\n",
              "    }\n",
              "</style>\n",
              "<table border=\"1\" class=\"dataframe\">\n",
              "  <thead>\n",
              "    <tr style=\"text-align: right;\">\n",
              "      <th></th>\n",
              "      <th>pred_Sequential</th>\n",
              "      <th>pred_EarlyStopping</th>\n",
              "      <th>pred_RandomForest</th>\n",
              "    </tr>\n",
              "  </thead>\n",
              "  <tbody>\n",
              "    <tr>\n",
              "      <th>0</th>\n",
              "      <td>68063.593750</td>\n",
              "      <td>67939.273438</td>\n",
              "      <td>66935.38</td>\n",
              "    </tr>\n",
              "    <tr>\n",
              "      <th>1</th>\n",
              "      <td>64372.054688</td>\n",
              "      <td>64248.593750</td>\n",
              "      <td>65340.90</td>\n",
              "    </tr>\n",
              "    <tr>\n",
              "      <th>2</th>\n",
              "      <td>63663.687500</td>\n",
              "      <td>63511.921875</td>\n",
              "      <td>63706.36</td>\n",
              "    </tr>\n",
              "    <tr>\n",
              "      <th>3</th>\n",
              "      <td>67621.906250</td>\n",
              "      <td>67552.453125</td>\n",
              "      <td>68030.17</td>\n",
              "    </tr>\n",
              "    <tr>\n",
              "      <th>4</th>\n",
              "      <td>67265.265625</td>\n",
              "      <td>67068.859375</td>\n",
              "      <td>67177.88</td>\n",
              "    </tr>\n",
              "    <tr>\n",
              "      <th>5</th>\n",
              "      <td>67115.156250</td>\n",
              "      <td>67065.867188</td>\n",
              "      <td>67628.97</td>\n",
              "    </tr>\n",
              "    <tr>\n",
              "      <th>6</th>\n",
              "      <td>63669.953125</td>\n",
              "      <td>63160.585938</td>\n",
              "      <td>63271.82</td>\n",
              "    </tr>\n",
              "    <tr>\n",
              "      <th>7</th>\n",
              "      <td>63268.050781</td>\n",
              "      <td>63036.074219</td>\n",
              "      <td>61462.21</td>\n",
              "    </tr>\n",
              "    <tr>\n",
              "      <th>8</th>\n",
              "      <td>68450.421875</td>\n",
              "      <td>68588.695312</td>\n",
              "      <td>68789.61</td>\n",
              "    </tr>\n",
              "    <tr>\n",
              "      <th>9</th>\n",
              "      <td>64211.132812</td>\n",
              "      <td>63912.218750</td>\n",
              "      <td>61802.84</td>\n",
              "    </tr>\n",
              "  </tbody>\n",
              "</table>\n",
              "</div>\n",
              "      <button class=\"colab-df-convert\" onclick=\"convertToInteractive('df-60f25cdc-2a5f-4d0e-9281-e791a01197db')\"\n",
              "              title=\"Convert this dataframe to an interactive table.\"\n",
              "              style=\"display:none;\">\n",
              "        \n",
              "  <svg xmlns=\"http://www.w3.org/2000/svg\" height=\"24px\"viewBox=\"0 0 24 24\"\n",
              "       width=\"24px\">\n",
              "    <path d=\"M0 0h24v24H0V0z\" fill=\"none\"/>\n",
              "    <path d=\"M18.56 5.44l.94 2.06.94-2.06 2.06-.94-2.06-.94-.94-2.06-.94 2.06-2.06.94zm-11 1L8.5 8.5l.94-2.06 2.06-.94-2.06-.94L8.5 2.5l-.94 2.06-2.06.94zm10 10l.94 2.06.94-2.06 2.06-.94-2.06-.94-.94-2.06-.94 2.06-2.06.94z\"/><path d=\"M17.41 7.96l-1.37-1.37c-.4-.4-.92-.59-1.43-.59-.52 0-1.04.2-1.43.59L10.3 9.45l-7.72 7.72c-.78.78-.78 2.05 0 2.83L4 21.41c.39.39.9.59 1.41.59.51 0 1.02-.2 1.41-.59l7.78-7.78 2.81-2.81c.8-.78.8-2.07 0-2.86zM5.41 20L4 18.59l7.72-7.72 1.47 1.35L5.41 20z\"/>\n",
              "  </svg>\n",
              "      </button>\n",
              "      \n",
              "  <style>\n",
              "    .colab-df-container {\n",
              "      display:flex;\n",
              "      flex-wrap:wrap;\n",
              "      gap: 12px;\n",
              "    }\n",
              "\n",
              "    .colab-df-convert {\n",
              "      background-color: #E8F0FE;\n",
              "      border: none;\n",
              "      border-radius: 50%;\n",
              "      cursor: pointer;\n",
              "      display: none;\n",
              "      fill: #1967D2;\n",
              "      height: 32px;\n",
              "      padding: 0 0 0 0;\n",
              "      width: 32px;\n",
              "    }\n",
              "\n",
              "    .colab-df-convert:hover {\n",
              "      background-color: #E2EBFA;\n",
              "      box-shadow: 0px 1px 2px rgba(60, 64, 67, 0.3), 0px 1px 3px 1px rgba(60, 64, 67, 0.15);\n",
              "      fill: #174EA6;\n",
              "    }\n",
              "\n",
              "    [theme=dark] .colab-df-convert {\n",
              "      background-color: #3B4455;\n",
              "      fill: #D2E3FC;\n",
              "    }\n",
              "\n",
              "    [theme=dark] .colab-df-convert:hover {\n",
              "      background-color: #434B5C;\n",
              "      box-shadow: 0px 1px 3px 1px rgba(0, 0, 0, 0.15);\n",
              "      filter: drop-shadow(0px 1px 2px rgba(0, 0, 0, 0.3));\n",
              "      fill: #FFFFFF;\n",
              "    }\n",
              "  </style>\n",
              "\n",
              "      <script>\n",
              "        const buttonEl =\n",
              "          document.querySelector('#df-60f25cdc-2a5f-4d0e-9281-e791a01197db button.colab-df-convert');\n",
              "        buttonEl.style.display =\n",
              "          google.colab.kernel.accessAllowed ? 'block' : 'none';\n",
              "\n",
              "        async function convertToInteractive(key) {\n",
              "          const element = document.querySelector('#df-60f25cdc-2a5f-4d0e-9281-e791a01197db');\n",
              "          const dataTable =\n",
              "            await google.colab.kernel.invokeFunction('convertToInteractive',\n",
              "                                                     [key], {});\n",
              "          if (!dataTable) return;\n",
              "\n",
              "          const docLinkHtml = 'Like what you see? Visit the ' +\n",
              "            '<a target=\"_blank\" href=https://colab.research.google.com/notebooks/data_table.ipynb>data table notebook</a>'\n",
              "            + ' to learn more about interactive tables.';\n",
              "          element.innerHTML = '';\n",
              "          dataTable['output_type'] = 'display_data';\n",
              "          await google.colab.output.renderOutput(dataTable, element);\n",
              "          const docLink = document.createElement('div');\n",
              "          docLink.innerHTML = docLinkHtml;\n",
              "          element.appendChild(docLink);\n",
              "        }\n",
              "      </script>\n",
              "    </div>\n",
              "  </div>\n",
              "  "
            ]
          },
          "metadata": {},
          "execution_count": 179
        }
      ]
    },
    {
      "cell_type": "code",
      "source": [
        "#RMSE_forest=metrics.mean_squared_error(Y_test, Y_pred)\n",
        "\n",
        "print('Raiz error cuadrático medio en el modelo secuencial: ',RECM_modelo1)\n",
        "print('Raiz error cuadrático medio en el modelo EarlyStopping: ',RECM_modelo2)\n",
        "print('Raiz error cuadrático medio en el modelo RandomForest: ',RECM_randomforest)"
      ],
      "metadata": {
        "id": "2AbRaK6niwAU",
        "colab": {
          "base_uri": "https://localhost:8080/"
        },
        "outputId": "62e0ef38-140c-4f3d-89f4-5fc76a5d5349"
      },
      "execution_count": 183,
      "outputs": [
        {
          "output_type": "stream",
          "name": "stdout",
          "text": [
            "Raiz error cuadrático medio en el modelo secuencial:  735.89264\n",
            "Raiz error cuadrático medio en el modelo EarlyStopping:  734.105\n",
            "Raiz error cuadrático medio en el modelo RandomForest:  863.2556495403427\n"
          ]
        }
      ]
    },
    {
      "cell_type": "markdown",
      "source": [
        "El mejor modelo sería la red neuronal EarlyStoping"
      ],
      "metadata": {
        "id": "EI3_0Pe9v8Um"
      }
    },
    {
      "cell_type": "code",
      "source": [
        "#La predicción de los pesos totales utilizando el modelo seleccionado serían las siguientes:\n",
        "\n",
        "pred_EarlyStopping"
      ],
      "metadata": {
        "colab": {
          "base_uri": "https://localhost:8080/",
          "height": 424
        },
        "id": "Tib7tuaHxTbv",
        "outputId": "968f61d1-4e22-4b02-bde1-22a323977625"
      },
      "execution_count": 184,
      "outputs": [
        {
          "output_type": "execute_result",
          "data": {
            "text/plain": [
              "      pred_EarlyStopping\n",
              "0           67939.273438\n",
              "1           64248.593750\n",
              "2           63511.921875\n",
              "3           67552.453125\n",
              "4           67068.859375\n",
              "...                  ...\n",
              "1911        66194.539062\n",
              "1912        68688.007812\n",
              "1913        66703.468750\n",
              "1914        67094.007812\n",
              "1915        61462.105469\n",
              "\n",
              "[1916 rows x 1 columns]"
            ],
            "text/html": [
              "\n",
              "  <div id=\"df-e6d6e78c-f22e-4127-ae87-dff572f1a382\">\n",
              "    <div class=\"colab-df-container\">\n",
              "      <div>\n",
              "<style scoped>\n",
              "    .dataframe tbody tr th:only-of-type {\n",
              "        vertical-align: middle;\n",
              "    }\n",
              "\n",
              "    .dataframe tbody tr th {\n",
              "        vertical-align: top;\n",
              "    }\n",
              "\n",
              "    .dataframe thead th {\n",
              "        text-align: right;\n",
              "    }\n",
              "</style>\n",
              "<table border=\"1\" class=\"dataframe\">\n",
              "  <thead>\n",
              "    <tr style=\"text-align: right;\">\n",
              "      <th></th>\n",
              "      <th>pred_EarlyStopping</th>\n",
              "    </tr>\n",
              "  </thead>\n",
              "  <tbody>\n",
              "    <tr>\n",
              "      <th>0</th>\n",
              "      <td>67939.273438</td>\n",
              "    </tr>\n",
              "    <tr>\n",
              "      <th>1</th>\n",
              "      <td>64248.593750</td>\n",
              "    </tr>\n",
              "    <tr>\n",
              "      <th>2</th>\n",
              "      <td>63511.921875</td>\n",
              "    </tr>\n",
              "    <tr>\n",
              "      <th>3</th>\n",
              "      <td>67552.453125</td>\n",
              "    </tr>\n",
              "    <tr>\n",
              "      <th>4</th>\n",
              "      <td>67068.859375</td>\n",
              "    </tr>\n",
              "    <tr>\n",
              "      <th>...</th>\n",
              "      <td>...</td>\n",
              "    </tr>\n",
              "    <tr>\n",
              "      <th>1911</th>\n",
              "      <td>66194.539062</td>\n",
              "    </tr>\n",
              "    <tr>\n",
              "      <th>1912</th>\n",
              "      <td>68688.007812</td>\n",
              "    </tr>\n",
              "    <tr>\n",
              "      <th>1913</th>\n",
              "      <td>66703.468750</td>\n",
              "    </tr>\n",
              "    <tr>\n",
              "      <th>1914</th>\n",
              "      <td>67094.007812</td>\n",
              "    </tr>\n",
              "    <tr>\n",
              "      <th>1915</th>\n",
              "      <td>61462.105469</td>\n",
              "    </tr>\n",
              "  </tbody>\n",
              "</table>\n",
              "<p>1916 rows × 1 columns</p>\n",
              "</div>\n",
              "      <button class=\"colab-df-convert\" onclick=\"convertToInteractive('df-e6d6e78c-f22e-4127-ae87-dff572f1a382')\"\n",
              "              title=\"Convert this dataframe to an interactive table.\"\n",
              "              style=\"display:none;\">\n",
              "        \n",
              "  <svg xmlns=\"http://www.w3.org/2000/svg\" height=\"24px\"viewBox=\"0 0 24 24\"\n",
              "       width=\"24px\">\n",
              "    <path d=\"M0 0h24v24H0V0z\" fill=\"none\"/>\n",
              "    <path d=\"M18.56 5.44l.94 2.06.94-2.06 2.06-.94-2.06-.94-.94-2.06-.94 2.06-2.06.94zm-11 1L8.5 8.5l.94-2.06 2.06-.94-2.06-.94L8.5 2.5l-.94 2.06-2.06.94zm10 10l.94 2.06.94-2.06 2.06-.94-2.06-.94-.94-2.06-.94 2.06-2.06.94z\"/><path d=\"M17.41 7.96l-1.37-1.37c-.4-.4-.92-.59-1.43-.59-.52 0-1.04.2-1.43.59L10.3 9.45l-7.72 7.72c-.78.78-.78 2.05 0 2.83L4 21.41c.39.39.9.59 1.41.59.51 0 1.02-.2 1.41-.59l7.78-7.78 2.81-2.81c.8-.78.8-2.07 0-2.86zM5.41 20L4 18.59l7.72-7.72 1.47 1.35L5.41 20z\"/>\n",
              "  </svg>\n",
              "      </button>\n",
              "      \n",
              "  <style>\n",
              "    .colab-df-container {\n",
              "      display:flex;\n",
              "      flex-wrap:wrap;\n",
              "      gap: 12px;\n",
              "    }\n",
              "\n",
              "    .colab-df-convert {\n",
              "      background-color: #E8F0FE;\n",
              "      border: none;\n",
              "      border-radius: 50%;\n",
              "      cursor: pointer;\n",
              "      display: none;\n",
              "      fill: #1967D2;\n",
              "      height: 32px;\n",
              "      padding: 0 0 0 0;\n",
              "      width: 32px;\n",
              "    }\n",
              "\n",
              "    .colab-df-convert:hover {\n",
              "      background-color: #E2EBFA;\n",
              "      box-shadow: 0px 1px 2px rgba(60, 64, 67, 0.3), 0px 1px 3px 1px rgba(60, 64, 67, 0.15);\n",
              "      fill: #174EA6;\n",
              "    }\n",
              "\n",
              "    [theme=dark] .colab-df-convert {\n",
              "      background-color: #3B4455;\n",
              "      fill: #D2E3FC;\n",
              "    }\n",
              "\n",
              "    [theme=dark] .colab-df-convert:hover {\n",
              "      background-color: #434B5C;\n",
              "      box-shadow: 0px 1px 3px 1px rgba(0, 0, 0, 0.15);\n",
              "      filter: drop-shadow(0px 1px 2px rgba(0, 0, 0, 0.3));\n",
              "      fill: #FFFFFF;\n",
              "    }\n",
              "  </style>\n",
              "\n",
              "      <script>\n",
              "        const buttonEl =\n",
              "          document.querySelector('#df-e6d6e78c-f22e-4127-ae87-dff572f1a382 button.colab-df-convert');\n",
              "        buttonEl.style.display =\n",
              "          google.colab.kernel.accessAllowed ? 'block' : 'none';\n",
              "\n",
              "        async function convertToInteractive(key) {\n",
              "          const element = document.querySelector('#df-e6d6e78c-f22e-4127-ae87-dff572f1a382');\n",
              "          const dataTable =\n",
              "            await google.colab.kernel.invokeFunction('convertToInteractive',\n",
              "                                                     [key], {});\n",
              "          if (!dataTable) return;\n",
              "\n",
              "          const docLinkHtml = 'Like what you see? Visit the ' +\n",
              "            '<a target=\"_blank\" href=https://colab.research.google.com/notebooks/data_table.ipynb>data table notebook</a>'\n",
              "            + ' to learn more about interactive tables.';\n",
              "          element.innerHTML = '';\n",
              "          dataTable['output_type'] = 'display_data';\n",
              "          await google.colab.output.renderOutput(dataTable, element);\n",
              "          const docLink = document.createElement('div');\n",
              "          docLink.innerHTML = docLinkHtml;\n",
              "          element.appendChild(docLink);\n",
              "        }\n",
              "      </script>\n",
              "    </div>\n",
              "  </div>\n",
              "  "
            ]
          },
          "metadata": {},
          "execution_count": 184
        }
      ]
    }
  ]
}