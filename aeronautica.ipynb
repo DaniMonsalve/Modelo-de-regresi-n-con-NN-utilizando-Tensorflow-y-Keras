{
  "nbformat": 4,
  "nbformat_minor": 0,
  "metadata": {
    "colab": {
      "name": "aeronautica.ipynb",
      "provenance": [],
      "collapsed_sections": [],
      "authorship_tag": "ABX9TyOMRV5BPONcNzNjbRADCsBF",
      "include_colab_link": true
    },
    "kernelspec": {
      "name": "python3",
      "display_name": "Python 3"
    },
    "language_info": {
      "name": "python"
    }
  },
  "cells": [
    {
      "cell_type": "markdown",
      "metadata": {
        "id": "view-in-github",
        "colab_type": "text"
      },
      "source": [
        "<a href=\"https://colab.research.google.com/gist/DaniMonsalve/76c65585038682da5ec5f24fcd1b4f6d/aeronautica.ipynb\" target=\"_parent\"><img src=\"https://colab.research.google.com/assets/colab-badge.svg\" alt=\"Open In Colab\"/></a>"
      ]
    },
    {
      "cell_type": "code",
      "execution_count": 786,
      "metadata": {
        "colab": {
          "base_uri": "https://localhost:8080/"
        },
        "id": "KnyyE-rl9XwB",
        "outputId": "ab0b6c87-1087-4be9-eb4d-a3a39fda5181"
      },
      "outputs": [
        {
          "output_type": "stream",
          "name": "stdout",
          "text": [
            "Drive already mounted at /content/gdrive; to attempt to forcibly remount, call drive.mount(\"/content/gdrive\", force_remount=True).\n"
          ]
        }
      ],
      "source": [
        "from google.colab import drive\n",
        "\n",
        "drive.mount('/content/gdrive')\n"
      ]
    },
    {
      "cell_type": "markdown",
      "source": [
        "Se trata de un problema de regresión"
      ],
      "metadata": {
        "id": "nKm1Z42NBrih"
      }
    },
    {
      "cell_type": "code",
      "source": [
        "#LIBRERIAS:\n",
        "\n",
        "import pandas as pd\n",
        "import numpy as np\n",
        "import seaborn as sns\n",
        "import matplotlib.pyplot as plt\n",
        "from sklearn.preprocessing import StandardScaler\n",
        "import tensorflow as tf\n",
        "from tensorflow import keras\n",
        "from tensorflow.keras import layers\n",
        "from sklearn.model_selection import train_test_split\n",
        "from sklearn.ensemble import RandomForestRegressor\n",
        "from sklearn.model_selection import GridSearchCV\n",
        "from sklearn.linear_model import Ridge\n",
        "from sklearn import metrics"
      ],
      "metadata": {
        "id": "gIVm7pbE_0RA"
      },
      "execution_count": 787,
      "outputs": []
    },
    {
      "cell_type": "code",
      "source": [
        "\n",
        "ruta_train = \"/content/gdrive/MyDrive/Colab Notebooks/train.csv\"\n",
        "df_train = pd.read_csv(ruta_train)\n",
        "\n",
        "ruta_test='/content/gdrive/MyDrive/Colab Notebooks/test.csv'\n",
        "df_test=pd.read_csv(ruta_test)"
      ],
      "metadata": {
        "id": "YOhkBjH6_k5o"
      },
      "execution_count": 788,
      "outputs": []
    },
    {
      "cell_type": "code",
      "source": [
        "#Análisis exploratorio:\n",
        "print(u'- Número de registros: {}'.format(df_train.shape[0]))\n",
        "print(u'- Número de variables: {}'.format(df_train.shape[1]))\n",
        "print(u'- Nombres de las variables independientes: {}'.format(list(df_train.columns.difference(['PesoTotalTARGET']))),'\\n\\n')\n",
        "df_train.head(4)"
      ],
      "metadata": {
        "colab": {
          "base_uri": "https://localhost:8080/",
          "height": 267
        },
        "id": "8COthI6vCBaG",
        "outputId": "1300c622-0992-4bef-a856-a3fc7d74a8ba"
      },
      "execution_count": 789,
      "outputs": [
        {
          "output_type": "stream",
          "name": "stdout",
          "text": [
            "- Número de registros: 29731\n",
            "- Número de variables: 14\n",
            "- Nombres de las variables independientes: ['AeropuertoLlegada', 'AeropuertoSalida', 'AnioSalida', 'DiaSalida', 'FechaSalida', 'FuelTotal', 'Maletas', 'MesSalida', 'NumeroVuelo', 'Pasajeros', 'PesoMaletas', 'Ruta', 'TiempoVuelo'] \n",
            "\n",
            "\n"
          ]
        },
        {
          "output_type": "execute_result",
          "data": {
            "text/plain": [
              "  FechaSalida  AnioSalida  MesSalida  DiaSalida  NumeroVuelo AeropuertoSalida  \\\n",
              "0  01/10/2016        2016         10          1         1145              MAN   \n",
              "1  01/10/2016        2016         10          1         1160              CTA   \n",
              "2  01/10/2016        2016         10          1         1183              LGW   \n",
              "3  01/10/2016        2016         10          1         1220              ATH   \n",
              "\n",
              "  AeropuertoLlegada     Ruta  TiempoVuelo  FuelTotal Pasajeros Maletas  \\\n",
              "0               SXF  MAN-SXF           91       3660       175      61   \n",
              "1               FCO  CTA-FCO           68       3280       182      27   \n",
              "2               SNN  LGW-SNN           64       2720       127  (null)   \n",
              "3               CHQ  ATH-CHQ           35       1682       163      12   \n",
              "\n",
              "  PesoMaletas PesoTotalTARGET  \n",
              "0         440           64016  \n",
              "1         350           66138  \n",
              "2      (null)           58447  \n",
              "3         150           60587  "
            ],
            "text/html": [
              "\n",
              "  <div id=\"df-093fba01-0660-4f50-93b3-5b61ea6d2863\">\n",
              "    <div class=\"colab-df-container\">\n",
              "      <div>\n",
              "<style scoped>\n",
              "    .dataframe tbody tr th:only-of-type {\n",
              "        vertical-align: middle;\n",
              "    }\n",
              "\n",
              "    .dataframe tbody tr th {\n",
              "        vertical-align: top;\n",
              "    }\n",
              "\n",
              "    .dataframe thead th {\n",
              "        text-align: right;\n",
              "    }\n",
              "</style>\n",
              "<table border=\"1\" class=\"dataframe\">\n",
              "  <thead>\n",
              "    <tr style=\"text-align: right;\">\n",
              "      <th></th>\n",
              "      <th>FechaSalida</th>\n",
              "      <th>AnioSalida</th>\n",
              "      <th>MesSalida</th>\n",
              "      <th>DiaSalida</th>\n",
              "      <th>NumeroVuelo</th>\n",
              "      <th>AeropuertoSalida</th>\n",
              "      <th>AeropuertoLlegada</th>\n",
              "      <th>Ruta</th>\n",
              "      <th>TiempoVuelo</th>\n",
              "      <th>FuelTotal</th>\n",
              "      <th>Pasajeros</th>\n",
              "      <th>Maletas</th>\n",
              "      <th>PesoMaletas</th>\n",
              "      <th>PesoTotalTARGET</th>\n",
              "    </tr>\n",
              "  </thead>\n",
              "  <tbody>\n",
              "    <tr>\n",
              "      <th>0</th>\n",
              "      <td>01/10/2016</td>\n",
              "      <td>2016</td>\n",
              "      <td>10</td>\n",
              "      <td>1</td>\n",
              "      <td>1145</td>\n",
              "      <td>MAN</td>\n",
              "      <td>SXF</td>\n",
              "      <td>MAN-SXF</td>\n",
              "      <td>91</td>\n",
              "      <td>3660</td>\n",
              "      <td>175</td>\n",
              "      <td>61</td>\n",
              "      <td>440</td>\n",
              "      <td>64016</td>\n",
              "    </tr>\n",
              "    <tr>\n",
              "      <th>1</th>\n",
              "      <td>01/10/2016</td>\n",
              "      <td>2016</td>\n",
              "      <td>10</td>\n",
              "      <td>1</td>\n",
              "      <td>1160</td>\n",
              "      <td>CTA</td>\n",
              "      <td>FCO</td>\n",
              "      <td>CTA-FCO</td>\n",
              "      <td>68</td>\n",
              "      <td>3280</td>\n",
              "      <td>182</td>\n",
              "      <td>27</td>\n",
              "      <td>350</td>\n",
              "      <td>66138</td>\n",
              "    </tr>\n",
              "    <tr>\n",
              "      <th>2</th>\n",
              "      <td>01/10/2016</td>\n",
              "      <td>2016</td>\n",
              "      <td>10</td>\n",
              "      <td>1</td>\n",
              "      <td>1183</td>\n",
              "      <td>LGW</td>\n",
              "      <td>SNN</td>\n",
              "      <td>LGW-SNN</td>\n",
              "      <td>64</td>\n",
              "      <td>2720</td>\n",
              "      <td>127</td>\n",
              "      <td>(null)</td>\n",
              "      <td>(null)</td>\n",
              "      <td>58447</td>\n",
              "    </tr>\n",
              "    <tr>\n",
              "      <th>3</th>\n",
              "      <td>01/10/2016</td>\n",
              "      <td>2016</td>\n",
              "      <td>10</td>\n",
              "      <td>1</td>\n",
              "      <td>1220</td>\n",
              "      <td>ATH</td>\n",
              "      <td>CHQ</td>\n",
              "      <td>ATH-CHQ</td>\n",
              "      <td>35</td>\n",
              "      <td>1682</td>\n",
              "      <td>163</td>\n",
              "      <td>12</td>\n",
              "      <td>150</td>\n",
              "      <td>60587</td>\n",
              "    </tr>\n",
              "  </tbody>\n",
              "</table>\n",
              "</div>\n",
              "      <button class=\"colab-df-convert\" onclick=\"convertToInteractive('df-093fba01-0660-4f50-93b3-5b61ea6d2863')\"\n",
              "              title=\"Convert this dataframe to an interactive table.\"\n",
              "              style=\"display:none;\">\n",
              "        \n",
              "  <svg xmlns=\"http://www.w3.org/2000/svg\" height=\"24px\"viewBox=\"0 0 24 24\"\n",
              "       width=\"24px\">\n",
              "    <path d=\"M0 0h24v24H0V0z\" fill=\"none\"/>\n",
              "    <path d=\"M18.56 5.44l.94 2.06.94-2.06 2.06-.94-2.06-.94-.94-2.06-.94 2.06-2.06.94zm-11 1L8.5 8.5l.94-2.06 2.06-.94-2.06-.94L8.5 2.5l-.94 2.06-2.06.94zm10 10l.94 2.06.94-2.06 2.06-.94-2.06-.94-.94-2.06-.94 2.06-2.06.94z\"/><path d=\"M17.41 7.96l-1.37-1.37c-.4-.4-.92-.59-1.43-.59-.52 0-1.04.2-1.43.59L10.3 9.45l-7.72 7.72c-.78.78-.78 2.05 0 2.83L4 21.41c.39.39.9.59 1.41.59.51 0 1.02-.2 1.41-.59l7.78-7.78 2.81-2.81c.8-.78.8-2.07 0-2.86zM5.41 20L4 18.59l7.72-7.72 1.47 1.35L5.41 20z\"/>\n",
              "  </svg>\n",
              "      </button>\n",
              "      \n",
              "  <style>\n",
              "    .colab-df-container {\n",
              "      display:flex;\n",
              "      flex-wrap:wrap;\n",
              "      gap: 12px;\n",
              "    }\n",
              "\n",
              "    .colab-df-convert {\n",
              "      background-color: #E8F0FE;\n",
              "      border: none;\n",
              "      border-radius: 50%;\n",
              "      cursor: pointer;\n",
              "      display: none;\n",
              "      fill: #1967D2;\n",
              "      height: 32px;\n",
              "      padding: 0 0 0 0;\n",
              "      width: 32px;\n",
              "    }\n",
              "\n",
              "    .colab-df-convert:hover {\n",
              "      background-color: #E2EBFA;\n",
              "      box-shadow: 0px 1px 2px rgba(60, 64, 67, 0.3), 0px 1px 3px 1px rgba(60, 64, 67, 0.15);\n",
              "      fill: #174EA6;\n",
              "    }\n",
              "\n",
              "    [theme=dark] .colab-df-convert {\n",
              "      background-color: #3B4455;\n",
              "      fill: #D2E3FC;\n",
              "    }\n",
              "\n",
              "    [theme=dark] .colab-df-convert:hover {\n",
              "      background-color: #434B5C;\n",
              "      box-shadow: 0px 1px 3px 1px rgba(0, 0, 0, 0.15);\n",
              "      filter: drop-shadow(0px 1px 2px rgba(0, 0, 0, 0.3));\n",
              "      fill: #FFFFFF;\n",
              "    }\n",
              "  </style>\n",
              "\n",
              "      <script>\n",
              "        const buttonEl =\n",
              "          document.querySelector('#df-093fba01-0660-4f50-93b3-5b61ea6d2863 button.colab-df-convert');\n",
              "        buttonEl.style.display =\n",
              "          google.colab.kernel.accessAllowed ? 'block' : 'none';\n",
              "\n",
              "        async function convertToInteractive(key) {\n",
              "          const element = document.querySelector('#df-093fba01-0660-4f50-93b3-5b61ea6d2863');\n",
              "          const dataTable =\n",
              "            await google.colab.kernel.invokeFunction('convertToInteractive',\n",
              "                                                     [key], {});\n",
              "          if (!dataTable) return;\n",
              "\n",
              "          const docLinkHtml = 'Like what you see? Visit the ' +\n",
              "            '<a target=\"_blank\" href=https://colab.research.google.com/notebooks/data_table.ipynb>data table notebook</a>'\n",
              "            + ' to learn more about interactive tables.';\n",
              "          element.innerHTML = '';\n",
              "          dataTable['output_type'] = 'display_data';\n",
              "          await google.colab.output.renderOutput(dataTable, element);\n",
              "          const docLink = document.createElement('div');\n",
              "          docLink.innerHTML = docLinkHtml;\n",
              "          element.appendChild(docLink);\n",
              "        }\n",
              "      </script>\n",
              "    </div>\n",
              "  </div>\n",
              "  "
            ]
          },
          "metadata": {},
          "execution_count": 789
        }
      ]
    },
    {
      "cell_type": "code",
      "source": [
        "df_train.dtypes"
      ],
      "metadata": {
        "colab": {
          "base_uri": "https://localhost:8080/"
        },
        "id": "eTl8jGCDAdPY",
        "outputId": "87de9340-3f30-4ca3-c335-ddb0010a1cd2"
      },
      "execution_count": 790,
      "outputs": [
        {
          "output_type": "execute_result",
          "data": {
            "text/plain": [
              "FechaSalida          object\n",
              "AnioSalida            int64\n",
              "MesSalida             int64\n",
              "DiaSalida             int64\n",
              "NumeroVuelo           int64\n",
              "AeropuertoSalida     object\n",
              "AeropuertoLlegada    object\n",
              "Ruta                 object\n",
              "TiempoVuelo           int64\n",
              "FuelTotal             int64\n",
              "Pasajeros            object\n",
              "Maletas              object\n",
              "PesoMaletas          object\n",
              "PesoTotalTARGET      object\n",
              "dtype: object"
            ]
          },
          "metadata": {},
          "execution_count": 790
        }
      ]
    },
    {
      "cell_type": "code",
      "source": [
        "#transformo algunas de las variables que aparecen como object en int64\n",
        "\n",
        "# primero utilizo la función 'coerce' para transformar los valores que aparecen como '(null)' en NaN\n",
        "df_train['Pasajeros'] = pd.to_numeric(df_train['Pasajeros'], errors='coerce')\n",
        "df_train['Maletas'] = pd.to_numeric(df_train['Maletas'], errors='coerce')\n",
        "df_train['PesoMaletas'] = pd.to_numeric(df_train['PesoMaletas'], errors='coerce')\n",
        "df_train['PesoTotalTARGET'] = pd.to_numeric(df_train['PesoTotalTARGET'], errors='coerce')\n",
        "\n",
        "\n",
        "df_train['Pasajeros'] = df_train['Pasajeros'].astype('Int64')\n",
        "df_train['Maletas'] = df_train['Maletas'].astype('Int64')\n",
        "df_train['PesoMaletas'] = df_train['PesoMaletas'].astype('Int64')\n",
        "df_train['PesoTotalTARGET'] = df_train['PesoTotalTARGET'].astype('Int64')\n",
        "\n",
        "#Tranformo la variable \"NumeroVuelo\" a object\n",
        "df_train['NumeroVuelo'] = df_train['NumeroVuelo'].astype('object')\n",
        "\n",
        "#Repito lo mismo para el conjunto test:\n",
        "df_test['Pasajeros'] = pd.to_numeric(df_test['Pasajeros'], errors='coerce')\n",
        "df_test['Maletas'] = pd.to_numeric(df_test['Maletas'], errors='coerce')\n",
        "df_test['PesoMaletas'] = pd.to_numeric(df_test['PesoMaletas'], errors='coerce')\n",
        "\n",
        "df_test['Pasajeros'] = df_test['Pasajeros'].astype('Int64')\n",
        "df_test['Maletas'] = df_test['Maletas'].astype('Int64')\n",
        "df_test['PesoMaletas'] = df_test['PesoMaletas'].astype('Int64')\n",
        "\n",
        "df_test['NumeroVuelo'] = df_test['NumeroVuelo'].astype('object')"
      ],
      "metadata": {
        "id": "_vnnHi6KHLDo"
      },
      "execution_count": 791,
      "outputs": []
    },
    {
      "cell_type": "code",
      "source": [
        "#Análisis de los valores faltantes:\n",
        "print(pd.DataFrame({'Número de valores NaN': df_train.isna().sum(), 'proporción de NaN (%)': (df_train.isna().sum() / df_train.shape[0]) * 100}).sort_values(by='Número de valores NaN', ascending=False),'\\n\\n')\n",
        "print('Número de valores faltantes de todo el dataframe: ', df_train.isnull().sum().sum())\n",
        "print('Porcentaje de valores faltantes de todo el dataframe: ', df_train.isnull().mean().mean())\n",
        "print('Número de filas con valores nulos: ',df_train.isnull().any(axis=1).sum())\n",
        "print('porcentaje de filas con algún valor faltante en el dataset: ', (df_train.shape[0])/df_train.isnull().any(axis=1).sum())\n",
        "print('Número de registros duplicados: ',df_train.duplicated().sum())\n"
      ],
      "metadata": {
        "colab": {
          "base_uri": "https://localhost:8080/"
        },
        "id": "11l1eX6nO8kQ",
        "outputId": "aee7de05-431c-4b92-f2a8-52f848eb8a45"
      },
      "execution_count": 792,
      "outputs": [
        {
          "output_type": "stream",
          "name": "stdout",
          "text": [
            "                   Número de valores NaN  proporción de NaN (%)\n",
            "PesoMaletas                         2478               8.334735\n",
            "Maletas                             2284               7.682217\n",
            "PesoTotalTARGET                      433               1.456392\n",
            "Pasajeros                             95               0.319532\n",
            "FechaSalida                            0               0.000000\n",
            "AnioSalida                             0               0.000000\n",
            "MesSalida                              0               0.000000\n",
            "DiaSalida                              0               0.000000\n",
            "NumeroVuelo                            0               0.000000\n",
            "AeropuertoSalida                       0               0.000000\n",
            "AeropuertoLlegada                      0               0.000000\n",
            "Ruta                                   0               0.000000\n",
            "TiempoVuelo                            0               0.000000\n",
            "FuelTotal                              0               0.000000 \n",
            "\n",
            "\n",
            "Número de valores faltantes de todo el dataframe:  5290\n",
            "Porcentaje de valores faltantes de todo el dataframe:  0.01270919723040405\n",
            "Número de filas con valores nulos:  2931\n",
            "porcentaje de filas con algún valor faltante en el dataset:  10.143636983964518\n",
            "Número de registros duplicados:  0\n"
          ]
        }
      ]
    },
    {
      "cell_type": "markdown",
      "source": [
        "# **Visualizaciones y correlaciones:**"
      ],
      "metadata": {
        "id": "TtB-Nefz2xIs"
      }
    },
    {
      "cell_type": "markdown",
      "source": [
        "**Descriptivos básicos:**"
      ],
      "metadata": {
        "id": "fQFbnLFg26Zq"
      }
    },
    {
      "cell_type": "code",
      "source": [
        "df_train.describe()"
      ],
      "metadata": {
        "colab": {
          "base_uri": "https://localhost:8080/",
          "height": 300
        },
        "id": "LJejOO2m3Oxs",
        "outputId": "5c01cf5b-670f-46bd-b8db-70e84494eb70"
      },
      "execution_count": 793,
      "outputs": [
        {
          "output_type": "execute_result",
          "data": {
            "text/plain": [
              "       AnioSalida  MesSalida     DiaSalida   TiempoVuelo     FuelTotal  \\\n",
              "count     29731.0    29731.0  29731.000000  29731.000000  29731.000000   \n",
              "mean       2016.0       10.0      7.987723    110.069221   4782.483536   \n",
              "std           0.0        0.0      4.313351     52.457470   2069.865460   \n",
              "min        2016.0       10.0      1.000000      2.000000    600.000000   \n",
              "25%        2016.0       10.0      4.000000     73.000000   3210.000000   \n",
              "50%        2016.0       10.0      8.000000    105.000000   4530.000000   \n",
              "75%        2016.0       10.0     12.000000    140.000000   6010.000000   \n",
              "max        2016.0       10.0     15.000000   1504.000000  17890.000000   \n",
              "\n",
              "          Pasajeros       Maletas   PesoMaletas  PesoTotalTARGET  \n",
              "count  29636.000000  27447.000000  27253.000000     29298.000000  \n",
              "mean     167.268626     45.417022    573.618464     65031.246638  \n",
              "std       20.177527     32.797217    376.524581      3339.385728  \n",
              "min        4.000000      1.000000      3.000000     42991.000000  \n",
              "25%      163.000000     23.000000    300.000000     63127.000000  \n",
              "50%      173.000000     39.000000    490.000000     65122.000000  \n",
              "75%      179.000000     62.000000    780.000000     67154.000000  \n",
              "max      189.000000   1180.000000  10530.000000     74283.000000  "
            ],
            "text/html": [
              "\n",
              "  <div id=\"df-cb01f2d0-d88e-4121-9495-d9dda17c9945\">\n",
              "    <div class=\"colab-df-container\">\n",
              "      <div>\n",
              "<style scoped>\n",
              "    .dataframe tbody tr th:only-of-type {\n",
              "        vertical-align: middle;\n",
              "    }\n",
              "\n",
              "    .dataframe tbody tr th {\n",
              "        vertical-align: top;\n",
              "    }\n",
              "\n",
              "    .dataframe thead th {\n",
              "        text-align: right;\n",
              "    }\n",
              "</style>\n",
              "<table border=\"1\" class=\"dataframe\">\n",
              "  <thead>\n",
              "    <tr style=\"text-align: right;\">\n",
              "      <th></th>\n",
              "      <th>AnioSalida</th>\n",
              "      <th>MesSalida</th>\n",
              "      <th>DiaSalida</th>\n",
              "      <th>TiempoVuelo</th>\n",
              "      <th>FuelTotal</th>\n",
              "      <th>Pasajeros</th>\n",
              "      <th>Maletas</th>\n",
              "      <th>PesoMaletas</th>\n",
              "      <th>PesoTotalTARGET</th>\n",
              "    </tr>\n",
              "  </thead>\n",
              "  <tbody>\n",
              "    <tr>\n",
              "      <th>count</th>\n",
              "      <td>29731.0</td>\n",
              "      <td>29731.0</td>\n",
              "      <td>29731.000000</td>\n",
              "      <td>29731.000000</td>\n",
              "      <td>29731.000000</td>\n",
              "      <td>29636.000000</td>\n",
              "      <td>27447.000000</td>\n",
              "      <td>27253.000000</td>\n",
              "      <td>29298.000000</td>\n",
              "    </tr>\n",
              "    <tr>\n",
              "      <th>mean</th>\n",
              "      <td>2016.0</td>\n",
              "      <td>10.0</td>\n",
              "      <td>7.987723</td>\n",
              "      <td>110.069221</td>\n",
              "      <td>4782.483536</td>\n",
              "      <td>167.268626</td>\n",
              "      <td>45.417022</td>\n",
              "      <td>573.618464</td>\n",
              "      <td>65031.246638</td>\n",
              "    </tr>\n",
              "    <tr>\n",
              "      <th>std</th>\n",
              "      <td>0.0</td>\n",
              "      <td>0.0</td>\n",
              "      <td>4.313351</td>\n",
              "      <td>52.457470</td>\n",
              "      <td>2069.865460</td>\n",
              "      <td>20.177527</td>\n",
              "      <td>32.797217</td>\n",
              "      <td>376.524581</td>\n",
              "      <td>3339.385728</td>\n",
              "    </tr>\n",
              "    <tr>\n",
              "      <th>min</th>\n",
              "      <td>2016.0</td>\n",
              "      <td>10.0</td>\n",
              "      <td>1.000000</td>\n",
              "      <td>2.000000</td>\n",
              "      <td>600.000000</td>\n",
              "      <td>4.000000</td>\n",
              "      <td>1.000000</td>\n",
              "      <td>3.000000</td>\n",
              "      <td>42991.000000</td>\n",
              "    </tr>\n",
              "    <tr>\n",
              "      <th>25%</th>\n",
              "      <td>2016.0</td>\n",
              "      <td>10.0</td>\n",
              "      <td>4.000000</td>\n",
              "      <td>73.000000</td>\n",
              "      <td>3210.000000</td>\n",
              "      <td>163.000000</td>\n",
              "      <td>23.000000</td>\n",
              "      <td>300.000000</td>\n",
              "      <td>63127.000000</td>\n",
              "    </tr>\n",
              "    <tr>\n",
              "      <th>50%</th>\n",
              "      <td>2016.0</td>\n",
              "      <td>10.0</td>\n",
              "      <td>8.000000</td>\n",
              "      <td>105.000000</td>\n",
              "      <td>4530.000000</td>\n",
              "      <td>173.000000</td>\n",
              "      <td>39.000000</td>\n",
              "      <td>490.000000</td>\n",
              "      <td>65122.000000</td>\n",
              "    </tr>\n",
              "    <tr>\n",
              "      <th>75%</th>\n",
              "      <td>2016.0</td>\n",
              "      <td>10.0</td>\n",
              "      <td>12.000000</td>\n",
              "      <td>140.000000</td>\n",
              "      <td>6010.000000</td>\n",
              "      <td>179.000000</td>\n",
              "      <td>62.000000</td>\n",
              "      <td>780.000000</td>\n",
              "      <td>67154.000000</td>\n",
              "    </tr>\n",
              "    <tr>\n",
              "      <th>max</th>\n",
              "      <td>2016.0</td>\n",
              "      <td>10.0</td>\n",
              "      <td>15.000000</td>\n",
              "      <td>1504.000000</td>\n",
              "      <td>17890.000000</td>\n",
              "      <td>189.000000</td>\n",
              "      <td>1180.000000</td>\n",
              "      <td>10530.000000</td>\n",
              "      <td>74283.000000</td>\n",
              "    </tr>\n",
              "  </tbody>\n",
              "</table>\n",
              "</div>\n",
              "      <button class=\"colab-df-convert\" onclick=\"convertToInteractive('df-cb01f2d0-d88e-4121-9495-d9dda17c9945')\"\n",
              "              title=\"Convert this dataframe to an interactive table.\"\n",
              "              style=\"display:none;\">\n",
              "        \n",
              "  <svg xmlns=\"http://www.w3.org/2000/svg\" height=\"24px\"viewBox=\"0 0 24 24\"\n",
              "       width=\"24px\">\n",
              "    <path d=\"M0 0h24v24H0V0z\" fill=\"none\"/>\n",
              "    <path d=\"M18.56 5.44l.94 2.06.94-2.06 2.06-.94-2.06-.94-.94-2.06-.94 2.06-2.06.94zm-11 1L8.5 8.5l.94-2.06 2.06-.94-2.06-.94L8.5 2.5l-.94 2.06-2.06.94zm10 10l.94 2.06.94-2.06 2.06-.94-2.06-.94-.94-2.06-.94 2.06-2.06.94z\"/><path d=\"M17.41 7.96l-1.37-1.37c-.4-.4-.92-.59-1.43-.59-.52 0-1.04.2-1.43.59L10.3 9.45l-7.72 7.72c-.78.78-.78 2.05 0 2.83L4 21.41c.39.39.9.59 1.41.59.51 0 1.02-.2 1.41-.59l7.78-7.78 2.81-2.81c.8-.78.8-2.07 0-2.86zM5.41 20L4 18.59l7.72-7.72 1.47 1.35L5.41 20z\"/>\n",
              "  </svg>\n",
              "      </button>\n",
              "      \n",
              "  <style>\n",
              "    .colab-df-container {\n",
              "      display:flex;\n",
              "      flex-wrap:wrap;\n",
              "      gap: 12px;\n",
              "    }\n",
              "\n",
              "    .colab-df-convert {\n",
              "      background-color: #E8F0FE;\n",
              "      border: none;\n",
              "      border-radius: 50%;\n",
              "      cursor: pointer;\n",
              "      display: none;\n",
              "      fill: #1967D2;\n",
              "      height: 32px;\n",
              "      padding: 0 0 0 0;\n",
              "      width: 32px;\n",
              "    }\n",
              "\n",
              "    .colab-df-convert:hover {\n",
              "      background-color: #E2EBFA;\n",
              "      box-shadow: 0px 1px 2px rgba(60, 64, 67, 0.3), 0px 1px 3px 1px rgba(60, 64, 67, 0.15);\n",
              "      fill: #174EA6;\n",
              "    }\n",
              "\n",
              "    [theme=dark] .colab-df-convert {\n",
              "      background-color: #3B4455;\n",
              "      fill: #D2E3FC;\n",
              "    }\n",
              "\n",
              "    [theme=dark] .colab-df-convert:hover {\n",
              "      background-color: #434B5C;\n",
              "      box-shadow: 0px 1px 3px 1px rgba(0, 0, 0, 0.15);\n",
              "      filter: drop-shadow(0px 1px 2px rgba(0, 0, 0, 0.3));\n",
              "      fill: #FFFFFF;\n",
              "    }\n",
              "  </style>\n",
              "\n",
              "      <script>\n",
              "        const buttonEl =\n",
              "          document.querySelector('#df-cb01f2d0-d88e-4121-9495-d9dda17c9945 button.colab-df-convert');\n",
              "        buttonEl.style.display =\n",
              "          google.colab.kernel.accessAllowed ? 'block' : 'none';\n",
              "\n",
              "        async function convertToInteractive(key) {\n",
              "          const element = document.querySelector('#df-cb01f2d0-d88e-4121-9495-d9dda17c9945');\n",
              "          const dataTable =\n",
              "            await google.colab.kernel.invokeFunction('convertToInteractive',\n",
              "                                                     [key], {});\n",
              "          if (!dataTable) return;\n",
              "\n",
              "          const docLinkHtml = 'Like what you see? Visit the ' +\n",
              "            '<a target=\"_blank\" href=https://colab.research.google.com/notebooks/data_table.ipynb>data table notebook</a>'\n",
              "            + ' to learn more about interactive tables.';\n",
              "          element.innerHTML = '';\n",
              "          dataTable['output_type'] = 'display_data';\n",
              "          await google.colab.output.renderOutput(dataTable, element);\n",
              "          const docLink = document.createElement('div');\n",
              "          docLink.innerHTML = docLinkHtml;\n",
              "          element.appendChild(docLink);\n",
              "        }\n",
              "      </script>\n",
              "    </div>\n",
              "  </div>\n",
              "  "
            ]
          },
          "metadata": {},
          "execution_count": 793
        }
      ]
    },
    {
      "cell_type": "code",
      "source": [
        "df_test.describe()"
      ],
      "metadata": {
        "colab": {
          "base_uri": "https://localhost:8080/",
          "height": 300
        },
        "id": "yRFMGaORiUG5",
        "outputId": "54073d14-49ae-4c90-846f-34d0e32945d5"
      },
      "execution_count": 794,
      "outputs": [
        {
          "output_type": "execute_result",
          "data": {
            "text/plain": [
              "       AnioSalida  MesSalida  DiaSalida  TiempoVuelo     FuelTotal  \\\n",
              "count      1916.0     1916.0     1916.0  1916.000000   1916.000000   \n",
              "mean       2016.0       10.0       15.0   112.551670   4880.154489   \n",
              "std           0.0        0.0        0.0    59.131221   2161.970258   \n",
              "min        2016.0       10.0       15.0    22.000000   1090.000000   \n",
              "25%        2016.0       10.0       15.0    74.000000   3280.000000   \n",
              "50%        2016.0       10.0       15.0   107.000000   4600.000000   \n",
              "75%        2016.0       10.0       15.0   141.000000   6107.750000   \n",
              "max        2016.0       10.0       15.0  1440.000000  14550.000000   \n",
              "\n",
              "         Pasajeros      Maletas  PesoMaletas  \n",
              "count  1910.000000  1776.000000  1769.000000  \n",
              "mean    172.176963    53.591779   658.972301  \n",
              "std      13.176526    50.598686   454.532352  \n",
              "min      67.000000     1.000000     6.000000  \n",
              "25%     168.000000    27.000000   340.000000  \n",
              "50%     175.000000    46.000000   570.000000  \n",
              "75%     181.000000    73.000000   910.000000  \n",
              "max     189.000000  1180.000000  9100.000000  "
            ],
            "text/html": [
              "\n",
              "  <div id=\"df-6507c7fe-4c46-42a2-be1f-28ac5a5e56b6\">\n",
              "    <div class=\"colab-df-container\">\n",
              "      <div>\n",
              "<style scoped>\n",
              "    .dataframe tbody tr th:only-of-type {\n",
              "        vertical-align: middle;\n",
              "    }\n",
              "\n",
              "    .dataframe tbody tr th {\n",
              "        vertical-align: top;\n",
              "    }\n",
              "\n",
              "    .dataframe thead th {\n",
              "        text-align: right;\n",
              "    }\n",
              "</style>\n",
              "<table border=\"1\" class=\"dataframe\">\n",
              "  <thead>\n",
              "    <tr style=\"text-align: right;\">\n",
              "      <th></th>\n",
              "      <th>AnioSalida</th>\n",
              "      <th>MesSalida</th>\n",
              "      <th>DiaSalida</th>\n",
              "      <th>TiempoVuelo</th>\n",
              "      <th>FuelTotal</th>\n",
              "      <th>Pasajeros</th>\n",
              "      <th>Maletas</th>\n",
              "      <th>PesoMaletas</th>\n",
              "    </tr>\n",
              "  </thead>\n",
              "  <tbody>\n",
              "    <tr>\n",
              "      <th>count</th>\n",
              "      <td>1916.0</td>\n",
              "      <td>1916.0</td>\n",
              "      <td>1916.0</td>\n",
              "      <td>1916.000000</td>\n",
              "      <td>1916.000000</td>\n",
              "      <td>1910.000000</td>\n",
              "      <td>1776.000000</td>\n",
              "      <td>1769.000000</td>\n",
              "    </tr>\n",
              "    <tr>\n",
              "      <th>mean</th>\n",
              "      <td>2016.0</td>\n",
              "      <td>10.0</td>\n",
              "      <td>15.0</td>\n",
              "      <td>112.551670</td>\n",
              "      <td>4880.154489</td>\n",
              "      <td>172.176963</td>\n",
              "      <td>53.591779</td>\n",
              "      <td>658.972301</td>\n",
              "    </tr>\n",
              "    <tr>\n",
              "      <th>std</th>\n",
              "      <td>0.0</td>\n",
              "      <td>0.0</td>\n",
              "      <td>0.0</td>\n",
              "      <td>59.131221</td>\n",
              "      <td>2161.970258</td>\n",
              "      <td>13.176526</td>\n",
              "      <td>50.598686</td>\n",
              "      <td>454.532352</td>\n",
              "    </tr>\n",
              "    <tr>\n",
              "      <th>min</th>\n",
              "      <td>2016.0</td>\n",
              "      <td>10.0</td>\n",
              "      <td>15.0</td>\n",
              "      <td>22.000000</td>\n",
              "      <td>1090.000000</td>\n",
              "      <td>67.000000</td>\n",
              "      <td>1.000000</td>\n",
              "      <td>6.000000</td>\n",
              "    </tr>\n",
              "    <tr>\n",
              "      <th>25%</th>\n",
              "      <td>2016.0</td>\n",
              "      <td>10.0</td>\n",
              "      <td>15.0</td>\n",
              "      <td>74.000000</td>\n",
              "      <td>3280.000000</td>\n",
              "      <td>168.000000</td>\n",
              "      <td>27.000000</td>\n",
              "      <td>340.000000</td>\n",
              "    </tr>\n",
              "    <tr>\n",
              "      <th>50%</th>\n",
              "      <td>2016.0</td>\n",
              "      <td>10.0</td>\n",
              "      <td>15.0</td>\n",
              "      <td>107.000000</td>\n",
              "      <td>4600.000000</td>\n",
              "      <td>175.000000</td>\n",
              "      <td>46.000000</td>\n",
              "      <td>570.000000</td>\n",
              "    </tr>\n",
              "    <tr>\n",
              "      <th>75%</th>\n",
              "      <td>2016.0</td>\n",
              "      <td>10.0</td>\n",
              "      <td>15.0</td>\n",
              "      <td>141.000000</td>\n",
              "      <td>6107.750000</td>\n",
              "      <td>181.000000</td>\n",
              "      <td>73.000000</td>\n",
              "      <td>910.000000</td>\n",
              "    </tr>\n",
              "    <tr>\n",
              "      <th>max</th>\n",
              "      <td>2016.0</td>\n",
              "      <td>10.0</td>\n",
              "      <td>15.0</td>\n",
              "      <td>1440.000000</td>\n",
              "      <td>14550.000000</td>\n",
              "      <td>189.000000</td>\n",
              "      <td>1180.000000</td>\n",
              "      <td>9100.000000</td>\n",
              "    </tr>\n",
              "  </tbody>\n",
              "</table>\n",
              "</div>\n",
              "      <button class=\"colab-df-convert\" onclick=\"convertToInteractive('df-6507c7fe-4c46-42a2-be1f-28ac5a5e56b6')\"\n",
              "              title=\"Convert this dataframe to an interactive table.\"\n",
              "              style=\"display:none;\">\n",
              "        \n",
              "  <svg xmlns=\"http://www.w3.org/2000/svg\" height=\"24px\"viewBox=\"0 0 24 24\"\n",
              "       width=\"24px\">\n",
              "    <path d=\"M0 0h24v24H0V0z\" fill=\"none\"/>\n",
              "    <path d=\"M18.56 5.44l.94 2.06.94-2.06 2.06-.94-2.06-.94-.94-2.06-.94 2.06-2.06.94zm-11 1L8.5 8.5l.94-2.06 2.06-.94-2.06-.94L8.5 2.5l-.94 2.06-2.06.94zm10 10l.94 2.06.94-2.06 2.06-.94-2.06-.94-.94-2.06-.94 2.06-2.06.94z\"/><path d=\"M17.41 7.96l-1.37-1.37c-.4-.4-.92-.59-1.43-.59-.52 0-1.04.2-1.43.59L10.3 9.45l-7.72 7.72c-.78.78-.78 2.05 0 2.83L4 21.41c.39.39.9.59 1.41.59.51 0 1.02-.2 1.41-.59l7.78-7.78 2.81-2.81c.8-.78.8-2.07 0-2.86zM5.41 20L4 18.59l7.72-7.72 1.47 1.35L5.41 20z\"/>\n",
              "  </svg>\n",
              "      </button>\n",
              "      \n",
              "  <style>\n",
              "    .colab-df-container {\n",
              "      display:flex;\n",
              "      flex-wrap:wrap;\n",
              "      gap: 12px;\n",
              "    }\n",
              "\n",
              "    .colab-df-convert {\n",
              "      background-color: #E8F0FE;\n",
              "      border: none;\n",
              "      border-radius: 50%;\n",
              "      cursor: pointer;\n",
              "      display: none;\n",
              "      fill: #1967D2;\n",
              "      height: 32px;\n",
              "      padding: 0 0 0 0;\n",
              "      width: 32px;\n",
              "    }\n",
              "\n",
              "    .colab-df-convert:hover {\n",
              "      background-color: #E2EBFA;\n",
              "      box-shadow: 0px 1px 2px rgba(60, 64, 67, 0.3), 0px 1px 3px 1px rgba(60, 64, 67, 0.15);\n",
              "      fill: #174EA6;\n",
              "    }\n",
              "\n",
              "    [theme=dark] .colab-df-convert {\n",
              "      background-color: #3B4455;\n",
              "      fill: #D2E3FC;\n",
              "    }\n",
              "\n",
              "    [theme=dark] .colab-df-convert:hover {\n",
              "      background-color: #434B5C;\n",
              "      box-shadow: 0px 1px 3px 1px rgba(0, 0, 0, 0.15);\n",
              "      filter: drop-shadow(0px 1px 2px rgba(0, 0, 0, 0.3));\n",
              "      fill: #FFFFFF;\n",
              "    }\n",
              "  </style>\n",
              "\n",
              "      <script>\n",
              "        const buttonEl =\n",
              "          document.querySelector('#df-6507c7fe-4c46-42a2-be1f-28ac5a5e56b6 button.colab-df-convert');\n",
              "        buttonEl.style.display =\n",
              "          google.colab.kernel.accessAllowed ? 'block' : 'none';\n",
              "\n",
              "        async function convertToInteractive(key) {\n",
              "          const element = document.querySelector('#df-6507c7fe-4c46-42a2-be1f-28ac5a5e56b6');\n",
              "          const dataTable =\n",
              "            await google.colab.kernel.invokeFunction('convertToInteractive',\n",
              "                                                     [key], {});\n",
              "          if (!dataTable) return;\n",
              "\n",
              "          const docLinkHtml = 'Like what you see? Visit the ' +\n",
              "            '<a target=\"_blank\" href=https://colab.research.google.com/notebooks/data_table.ipynb>data table notebook</a>'\n",
              "            + ' to learn more about interactive tables.';\n",
              "          element.innerHTML = '';\n",
              "          dataTable['output_type'] = 'display_data';\n",
              "          await google.colab.output.renderOutput(dataTable, element);\n",
              "          const docLink = document.createElement('div');\n",
              "          docLink.innerHTML = docLinkHtml;\n",
              "          element.appendChild(docLink);\n",
              "        }\n",
              "      </script>\n",
              "    </div>\n",
              "  </div>\n",
              "  "
            ]
          },
          "metadata": {},
          "execution_count": 794
        }
      ]
    },
    {
      "cell_type": "code",
      "source": [
        "#Teniendo en cuenta que el año y el mes es siempre el mismo, elimino las columnas 'fechaSalida', 'AnioSalida' y 'MesSalida' para train y test.\n",
        "\n",
        "df_train=df_train.drop([ 'AnioSalida', 'FechaSalida', 'MesSalida'],axis=1) \n",
        "df_test=df_test.drop([ 'AnioSalida', 'FechaSalida', 'MesSalida'],axis=1) "
      ],
      "metadata": {
        "id": "NSssOAKSCQxR"
      },
      "execution_count": 795,
      "outputs": []
    },
    {
      "cell_type": "markdown",
      "source": [
        "**Boxplots:**"
      ],
      "metadata": {
        "id": "MVTeiUJy3r2U"
      }
    },
    {
      "cell_type": "code",
      "source": [
        "#Elimino los registros con valores faltantes para el conjunto train (10% de los registros del conjunto train)\n",
        "df_train=df_train.dropna() "
      ],
      "metadata": {
        "id": "RvRE091QHMEE"
      },
      "execution_count": 796,
      "outputs": []
    },
    {
      "cell_type": "code",
      "source": [
        "df_test.isnull().sum()"
      ],
      "metadata": {
        "colab": {
          "base_uri": "https://localhost:8080/"
        },
        "id": "LVx-vWbiJ73g",
        "outputId": "1f6587d2-ff35-4f64-9a8a-4233ae797917"
      },
      "execution_count": 797,
      "outputs": [
        {
          "output_type": "execute_result",
          "data": {
            "text/plain": [
              "DiaSalida              0\n",
              "NumeroVuelo            0\n",
              "AeropuertoSalida       0\n",
              "AeropuertoLlegada      0\n",
              "Ruta                   0\n",
              "TiempoVuelo            0\n",
              "FuelTotal              0\n",
              "Pasajeros              6\n",
              "Maletas              140\n",
              "PesoMaletas          147\n",
              "dtype: int64"
            ]
          },
          "metadata": {},
          "execution_count": 797
        }
      ]
    },
    {
      "cell_type": "code",
      "source": [
        "df_test.dtypes\n"
      ],
      "metadata": {
        "colab": {
          "base_uri": "https://localhost:8080/"
        },
        "id": "IHe2WOlCKQla",
        "outputId": "0f622723-7ed9-4790-93b6-5f08e1a99be8"
      },
      "execution_count": 798,
      "outputs": [
        {
          "output_type": "execute_result",
          "data": {
            "text/plain": [
              "DiaSalida             int64\n",
              "NumeroVuelo          object\n",
              "AeropuertoSalida     object\n",
              "AeropuertoLlegada    object\n",
              "Ruta                 object\n",
              "TiempoVuelo           int64\n",
              "FuelTotal             int64\n",
              "Pasajeros             Int64\n",
              "Maletas               Int64\n",
              "PesoMaletas           Int64\n",
              "dtype: object"
            ]
          },
          "metadata": {},
          "execution_count": 798
        }
      ]
    },
    {
      "cell_type": "code",
      "source": [
        "#Represento la dispersión de las variables predict continuas\n",
        "\n",
        "\n",
        "continuas=df_train.drop(['AeropuertoLlegada', 'AeropuertoSalida', 'DiaSalida', 'NumeroVuelo', 'Ruta'],axis=1) \n",
        "\n",
        "continuas_normalizado = (continuas-continuas.mean())/continuas.std()\n",
        "\n",
        "\n",
        "plt.figure(figsize=(25,8))\n",
        "sns.boxplot(data=continuas_normalizado)\n",
        "plt.title(u'Representación de cajas de las variables independientes X')\n",
        "_ = plt.xlabel('')"
      ],
      "metadata": {
        "colab": {
          "base_uri": "https://localhost:8080/",
          "height": 499
        },
        "id": "rReKMi3dDzhN",
        "outputId": "6c3c78ea-1f3d-40f4-f043-033a01fc2b37"
      },
      "execution_count": 799,
      "outputs": [
        {
          "output_type": "display_data",
          "data": {
            "text/plain": [
              "<Figure size 1800x576 with 1 Axes>"
            ],
            "image/png": "[encoded data removed]"
          },
          "metadata": {
            "needs_background": "light"
          }
        }
      ]
    },
    {
      "cell_type": "code",
      "source": [
        "import matplotlib.pyplot as plt\n",
        "for column in continuas:\n",
        "  plt.figure()\n",
        "  continuas.boxplot([column])\n"
      ],
      "metadata": {
        "colab": {
          "base_uri": "https://localhost:8080/",
          "height": 1000
        },
        "id": "0EECDZAZOgO8",
        "outputId": "93f2d9cf-4d54-420c-9edb-e916e6b5a950"
      },
      "execution_count": 800,
      "outputs": [
        {
          "output_type": "display_data",
          "data": {
            "text/plain": [
              "<Figure size 432x288 with 1 Axes>"
            ],
            "image/png": "[encoded data removed]"
          },
          "metadata": {
            "needs_background": "light"
          }
        },
        {
          "output_type": "display_data",
          "data": {
            "text/plain": [
              "<Figure size 432x288 with 1 Axes>"
            ],
            "image/png": "[encoded data removed]"
          },
          "metadata": {
            "needs_background": "light"
          }
        },
        {
          "output_type": "display_data",
          "data": {
            "text/plain": [
              "<Figure size 432x288 with 1 Axes>"
            ],
            "image/png": "[encoded data removed]"
          },
          "metadata": {
            "needs_background": "light"
          }
        },
        {
          "output_type": "display_data",
          "data": {
            "text/plain": [
              "<Figure size 432x288 with 1 Axes>"
            ],
            "image/png": "[encoded data removed]"
          },
          "metadata": {
            "needs_background": "light"
          }
        },
        {
          "output_type": "display_data",
          "data": {
            "text/plain": [
              "<Figure size 432x288 with 1 Axes>"
            ],
            "image/png": "[encoded data removed]"
          },
          "metadata": {
            "needs_background": "light"
          }
        },
        {
          "output_type": "display_data",
          "data": {
            "text/plain": [
              "<Figure size 432x288 with 1 Axes>"
            ],
            "image/png": "[encoded data removed]"
          },
          "metadata": {
            "needs_background": "light"
          }
        }
      ]
    },
    {
      "cell_type": "code",
      "source": [
        "print(df_train.shape)"
      ],
      "metadata": {
        "colab": {
          "base_uri": "https://localhost:8080/"
        },
        "id": "-8noUEdS5JCK",
        "outputId": "13ca1439-bee7-4ba9-cd08-0a62e082778a"
      },
      "execution_count": 801,
      "outputs": [
        {
          "output_type": "stream",
          "name": "stdout",
          "text": [
            "(26800, 11)\n"
          ]
        }
      ]
    },
    {
      "cell_type": "code",
      "source": [
        "#He decido eliminar algunos de los registros en los que sus valores para las variables 'TiempoVuelo', 'Maletas' y 'PesoMaletas' tenían el riesgo de ser atípicos\n",
        "\n",
        "# Position de los Outliers que voy a eliminar:\n",
        "print(np.where(df_train['TiempoVuelo']>800))\n",
        "print(np.where(df_train['Maletas']>400))\n",
        "print(np.where(df_train['PesoMaletas']>4000))\n",
        "\n",
        "df_train = df_train.drop(df_train[df_train['TiempoVuelo']>800].index|df_train[df_train['Maletas']>400].index|df_train[df_train['PesoMaletas']>4000].index)\n"
      ],
      "metadata": {
        "colab": {
          "base_uri": "https://localhost:8080/"
        },
        "id": "_F4KcJAzPFp6",
        "outputId": "e1b903f8-2231-4c11-9d20-1ee51a4883d8"
      },
      "execution_count": 802,
      "outputs": [
        {
          "output_type": "stream",
          "name": "stdout",
          "text": [
            "(array([15083, 17664, 24070, 25961]),)\n",
            "(array([ 5369,  6647, 15130, 15139, 16263, 16870, 18416, 25455, 26004,\n",
            "       26052]),)\n",
            "(array([  149, 10519, 15868, 17083, 26004]),)\n"
          ]
        },
        {
          "output_type": "stream",
          "name": "stderr",
          "text": [
            "/usr/local/lib/python3.7/dist-packages/ipykernel_launcher.py:8: FutureWarning: Index.__or__ operating as a set operation is deprecated, in the future this will be a logical operation matching Series.__or__.  Use index.union(other) instead\n",
            "  \n",
            "/usr/local/lib/python3.7/dist-packages/ipykernel_launcher.py:8: FutureWarning: Index.__or__ operating as a set operation is deprecated, in the future this will be a logical operation matching Series.__or__.  Use index.union(other) instead\n",
            "  \n"
          ]
        }
      ]
    },
    {
      "cell_type": "code",
      "source": [
        "print(df_train.shape)"
      ],
      "metadata": {
        "colab": {
          "base_uri": "https://localhost:8080/"
        },
        "id": "yhFITZLsSSpZ",
        "outputId": "d20f7965-b63c-4eb1-f1db-6c4fe60a7ef0"
      },
      "execution_count": 803,
      "outputs": [
        {
          "output_type": "stream",
          "name": "stdout",
          "text": [
            "(26782, 11)\n"
          ]
        }
      ]
    },
    {
      "cell_type": "code",
      "source": [
        "#Antes de eliminar los valores extremos\n",
        "plt.figure(figsize=(18,20))\n",
        "for i, column in enumerate(continuas.columns):\n",
        "    plt.subplot(4, 4, i+1)\n",
        "    sns.distplot(continuas[column], bins=30)\n",
        "    plt.title('Distribución var {}'.format(column))\n",
        "plt.show()"
      ],
      "metadata": {
        "colab": {
          "base_uri": "https://localhost:8080/",
          "height": 839
        },
        "id": "wTSNDyI8qu13",
        "outputId": "8f20acdd-c57e-448f-af7e-ded8673a2642"
      },
      "execution_count": 804,
      "outputs": [
        {
          "output_type": "stream",
          "name": "stderr",
          "text": [
            "/usr/local/lib/python3.7/dist-packages/seaborn/distributions.py:2619: FutureWarning: `distplot` is a deprecated function and will be removed in a future version. Please adapt your code to use either `displot` (a figure-level function with similar flexibility) or `histplot` (an axes-level function for histograms).\n",
            "  warnings.warn(msg, FutureWarning)\n",
            "/usr/local/lib/python3.7/dist-packages/seaborn/distributions.py:2619: FutureWarning: `distplot` is a deprecated function and will be removed in a future version. Please adapt your code to use either `displot` (a figure-level function with similar flexibility) or `histplot` (an axes-level function for histograms).\n",
            "  warnings.warn(msg, FutureWarning)\n",
            "/usr/local/lib/python3.7/dist-packages/seaborn/distributions.py:2619: FutureWarning: `distplot` is a deprecated function and will be removed in a future version. Please adapt your code to use either `displot` (a figure-level function with similar flexibility) or `histplot` (an axes-level function for histograms).\n",
            "  warnings.warn(msg, FutureWarning)\n",
            "/usr/local/lib/python3.7/dist-packages/seaborn/distributions.py:2619: FutureWarning: `distplot` is a deprecated function and will be removed in a future version. Please adapt your code to use either `displot` (a figure-level function with similar flexibility) or `histplot` (an axes-level function for histograms).\n",
            "  warnings.warn(msg, FutureWarning)\n",
            "/usr/local/lib/python3.7/dist-packages/seaborn/distributions.py:2619: FutureWarning: `distplot` is a deprecated function and will be removed in a future version. Please adapt your code to use either `displot` (a figure-level function with similar flexibility) or `histplot` (an axes-level function for histograms).\n",
            "  warnings.warn(msg, FutureWarning)\n",
            "/usr/local/lib/python3.7/dist-packages/seaborn/distributions.py:2619: FutureWarning: `distplot` is a deprecated function and will be removed in a future version. Please adapt your code to use either `displot` (a figure-level function with similar flexibility) or `histplot` (an axes-level function for histograms).\n",
            "  warnings.warn(msg, FutureWarning)\n"
          ]
        },
        {
          "output_type": "display_data",
          "data": {
            "text/plain": [
              "<Figure size 1296x1440 with 6 Axes>"
            ],
            "image/png": "[encoded data removed]"
          },
          "metadata": {
            "needs_background": "light"
          }
        }
      ]
    },
    {
      "cell_type": "code",
      "source": [
        "#Mejora después de eliminar valores extremos\n",
        "continuas=df_train.drop(['AeropuertoLlegada', 'AeropuertoSalida', 'DiaSalida', 'NumeroVuelo', 'Ruta'],axis=1) \n",
        "plt.figure(figsize=(18,20))\n",
        "for i, column in enumerate(continuas.columns):\n",
        "    plt.subplot(4, 4, i+1)\n",
        "    sns.distplot(continuas[column], bins=30)\n",
        "    plt.title('Distribución var {}'.format(column))\n",
        "plt.show()"
      ],
      "metadata": {
        "colab": {
          "base_uri": "https://localhost:8080/",
          "height": 839
        },
        "id": "Qc4SBegRqDYo",
        "outputId": "21b7fc6b-90ae-4986-af17-6416aa6d8e21"
      },
      "execution_count": 805,
      "outputs": [
        {
          "output_type": "stream",
          "name": "stderr",
          "text": [
            "/usr/local/lib/python3.7/dist-packages/seaborn/distributions.py:2619: FutureWarning: `distplot` is a deprecated function and will be removed in a future version. Please adapt your code to use either `displot` (a figure-level function with similar flexibility) or `histplot` (an axes-level function for histograms).\n",
            "  warnings.warn(msg, FutureWarning)\n",
            "/usr/local/lib/python3.7/dist-packages/seaborn/distributions.py:2619: FutureWarning: `distplot` is a deprecated function and will be removed in a future version. Please adapt your code to use either `displot` (a figure-level function with similar flexibility) or `histplot` (an axes-level function for histograms).\n",
            "  warnings.warn(msg, FutureWarning)\n",
            "/usr/local/lib/python3.7/dist-packages/seaborn/distributions.py:2619: FutureWarning: `distplot` is a deprecated function and will be removed in a future version. Please adapt your code to use either `displot` (a figure-level function with similar flexibility) or `histplot` (an axes-level function for histograms).\n",
            "  warnings.warn(msg, FutureWarning)\n",
            "/usr/local/lib/python3.7/dist-packages/seaborn/distributions.py:2619: FutureWarning: `distplot` is a deprecated function and will be removed in a future version. Please adapt your code to use either `displot` (a figure-level function with similar flexibility) or `histplot` (an axes-level function for histograms).\n",
            "  warnings.warn(msg, FutureWarning)\n",
            "/usr/local/lib/python3.7/dist-packages/seaborn/distributions.py:2619: FutureWarning: `distplot` is a deprecated function and will be removed in a future version. Please adapt your code to use either `displot` (a figure-level function with similar flexibility) or `histplot` (an axes-level function for histograms).\n",
            "  warnings.warn(msg, FutureWarning)\n",
            "/usr/local/lib/python3.7/dist-packages/seaborn/distributions.py:2619: FutureWarning: `distplot` is a deprecated function and will be removed in a future version. Please adapt your code to use either `displot` (a figure-level function with similar flexibility) or `histplot` (an axes-level function for histograms).\n",
            "  warnings.warn(msg, FutureWarning)\n"
          ]
        },
        {
          "output_type": "display_data",
          "data": {
            "text/plain": [
              "<Figure size 1296x1440 with 6 Axes>"
            ],
            "image/png": "[encoded data removed]"
          },
          "metadata": {
            "needs_background": "light"
          }
        }
      ]
    },
    {
      "cell_type": "markdown",
      "source": [
        "**Correlaciones vs target:**"
      ],
      "metadata": {
        "id": "-CSEtcTMibhS"
      }
    },
    {
      "cell_type": "code",
      "source": [
        "#Divido df_train entre las variables predictoras y la target\n",
        "\n",
        "X_train = df_train.drop('PesoTotalTARGET', axis=1)\n",
        "Y_train = df_train.loc[: , [\"PesoTotalTARGET\"]]\n"
      ],
      "metadata": {
        "id": "YS1eXes3XKyo"
      },
      "execution_count": 806,
      "outputs": []
    },
    {
      "cell_type": "code",
      "source": [
        "# Función que representa gráficos de dispersión de las variables en X en función a la variable Y\n",
        "\n",
        "def relaciones_vs_target_reg(X, Y, return_type='axes'):\n",
        "    fig_tot = (len(X.columns))\n",
        "    fig_por_fila = 4.\n",
        "    tamanio_fig = 5.\n",
        "    num_filas = int( np.ceil(fig_tot/fig_por_fila) )    \n",
        "    plt.figure( figsize=( fig_por_fila*tamanio_fig+6, num_filas*tamanio_fig+6 ) )\n",
        "    c = 0 \n",
        "    for i, col in enumerate(X.columns):\n",
        "        plt.subplot(num_filas, fig_por_fila, i+1)\n",
        "        sns.regplot(x=X[col], y=Y)\n",
        "        plt.title( '%s vs %s' % (col, 'target') )\n",
        "        plt.ylabel('Target')\n",
        "        plt.xlabel(col)\n",
        "    plt.show()"
      ],
      "metadata": {
        "id": "dJLJG0cQrRTR"
      },
      "execution_count": 807,
      "outputs": []
    },
    {
      "cell_type": "code",
      "source": [
        "corr_matrix = df_train.corr(method='pearson')\n"
      ],
      "metadata": {
        "id": "XZB5CK5Cg6Kp"
      },
      "execution_count": 808,
      "outputs": []
    },
    {
      "cell_type": "code",
      "source": [
        "fig, ax = plt.subplots(nrows=1, ncols=1, figsize=(10, 10))\n",
        "\n",
        "sns.heatmap(\n",
        "    corr_matrix,\n",
        "    annot     = True,\n",
        "    cbar      = False,\n",
        "    annot_kws = {\"size\": 9},\n",
        "    vmin      = -1,\n",
        "    vmax      = 1,\n",
        "    center    = 0,\n",
        "    cmap      = sns.diverging_palette(20, 220, n=200),\n",
        "    square    = True,\n",
        "    ax        = ax\n",
        ")\n",
        "\n",
        "ax.set_xticklabels(\n",
        "    ax.get_xticklabels(),\n",
        "    rotation = 45,\n",
        "    horizontalalignment = 'right',\n",
        ")\n",
        "\n",
        "ax.tick_params(labelsize = 10)"
      ],
      "metadata": {
        "id": "Z1YoNL8HgozZ",
        "colab": {
          "base_uri": "https://localhost:8080/",
          "height": 649
        },
        "outputId": "f5f8aaa9-e8e5-43af-8bc5-05671a83dd78"
      },
      "execution_count": 809,
      "outputs": [
        {
          "output_type": "display_data",
          "data": {
            "text/plain": [
              "<Figure size 720x720 with 1 Axes>"
            ],
            "image/png": "[encoded data removed]"
          },
          "metadata": {
            "needs_background": "light"
          }
        }
      ]
    },
    {
      "cell_type": "code",
      "source": [
        "correlaciones_target = corr_matrix.values[ -1, : -1]\n",
        "indices_inversos =  abs(correlaciones_target[ : ]).argsort()[ : : -1]\n",
        "diccionario = {}\n",
        "for nombre, correlacion in zip( X_train.columns[indices_inversos], list(correlaciones_target[indices_inversos] ) ):\n",
        "    diccionario[nombre] = correlacion\n",
        "pd.DataFrame.from_dict(diccionario, orient='index', columns=['Correlación con la target'])"
      ],
      "metadata": {
        "colab": {
          "base_uri": "https://localhost:8080/",
          "height": 237
        },
        "id": "adnINrsPBi-V",
        "outputId": "77487f43-6c19-4b85-c381-f09671dff071"
      },
      "execution_count": 810,
      "outputs": [
        {
          "output_type": "execute_result",
          "data": {
            "text/plain": [
              "                   Correlación con la target\n",
              "AeropuertoSalida                    0.822656\n",
              "NumeroVuelo                         0.786183\n",
              "AeropuertoLlegada                   0.706333\n",
              "TiempoVuelo                         0.620787\n",
              "Ruta                                0.614079\n",
              "DiaSalida                          -0.024022"
            ],
            "text/html": [
              "\n",
              "  <div id=\"df-1a9cd49f-d9d9-496a-8aef-1dce890f720d\">\n",
              "    <div class=\"colab-df-container\">\n",
              "      <div>\n",
              "<style scoped>\n",
              "    .dataframe tbody tr th:only-of-type {\n",
              "        vertical-align: middle;\n",
              "    }\n",
              "\n",
              "    .dataframe tbody tr th {\n",
              "        vertical-align: top;\n",
              "    }\n",
              "\n",
              "    .dataframe thead th {\n",
              "        text-align: right;\n",
              "    }\n",
              "</style>\n",
              "<table border=\"1\" class=\"dataframe\">\n",
              "  <thead>\n",
              "    <tr style=\"text-align: right;\">\n",
              "      <th></th>\n",
              "      <th>Correlación con la target</th>\n",
              "    </tr>\n",
              "  </thead>\n",
              "  <tbody>\n",
              "    <tr>\n",
              "      <th>AeropuertoSalida</th>\n",
              "      <td>0.822656</td>\n",
              "    </tr>\n",
              "    <tr>\n",
              "      <th>NumeroVuelo</th>\n",
              "      <td>0.786183</td>\n",
              "    </tr>\n",
              "    <tr>\n",
              "      <th>AeropuertoLlegada</th>\n",
              "      <td>0.706333</td>\n",
              "    </tr>\n",
              "    <tr>\n",
              "      <th>TiempoVuelo</th>\n",
              "      <td>0.620787</td>\n",
              "    </tr>\n",
              "    <tr>\n",
              "      <th>Ruta</th>\n",
              "      <td>0.614079</td>\n",
              "    </tr>\n",
              "    <tr>\n",
              "      <th>DiaSalida</th>\n",
              "      <td>-0.024022</td>\n",
              "    </tr>\n",
              "  </tbody>\n",
              "</table>\n",
              "</div>\n",
              "      <button class=\"colab-df-convert\" onclick=\"convertToInteractive('df-1a9cd49f-d9d9-496a-8aef-1dce890f720d')\"\n",
              "              title=\"Convert this dataframe to an interactive table.\"\n",
              "              style=\"display:none;\">\n",
              "        \n",
              "  <svg xmlns=\"http://www.w3.org/2000/svg\" height=\"24px\"viewBox=\"0 0 24 24\"\n",
              "       width=\"24px\">\n",
              "    <path d=\"M0 0h24v24H0V0z\" fill=\"none\"/>\n",
              "    <path d=\"M18.56 5.44l.94 2.06.94-2.06 2.06-.94-2.06-.94-.94-2.06-.94 2.06-2.06.94zm-11 1L8.5 8.5l.94-2.06 2.06-.94-2.06-.94L8.5 2.5l-.94 2.06-2.06.94zm10 10l.94 2.06.94-2.06 2.06-.94-2.06-.94-.94-2.06-.94 2.06-2.06.94z\"/><path d=\"M17.41 7.96l-1.37-1.37c-.4-.4-.92-.59-1.43-.59-.52 0-1.04.2-1.43.59L10.3 9.45l-7.72 7.72c-.78.78-.78 2.05 0 2.83L4 21.41c.39.39.9.59 1.41.59.51 0 1.02-.2 1.41-.59l7.78-7.78 2.81-2.81c.8-.78.8-2.07 0-2.86zM5.41 20L4 18.59l7.72-7.72 1.47 1.35L5.41 20z\"/>\n",
              "  </svg>\n",
              "      </button>\n",
              "      \n",
              "  <style>\n",
              "    .colab-df-container {\n",
              "      display:flex;\n",
              "      flex-wrap:wrap;\n",
              "      gap: 12px;\n",
              "    }\n",
              "\n",
              "    .colab-df-convert {\n",
              "      background-color: #E8F0FE;\n",
              "      border: none;\n",
              "      border-radius: 50%;\n",
              "      cursor: pointer;\n",
              "      display: none;\n",
              "      fill: #1967D2;\n",
              "      height: 32px;\n",
              "      padding: 0 0 0 0;\n",
              "      width: 32px;\n",
              "    }\n",
              "\n",
              "    .colab-df-convert:hover {\n",
              "      background-color: #E2EBFA;\n",
              "      box-shadow: 0px 1px 2px rgba(60, 64, 67, 0.3), 0px 1px 3px 1px rgba(60, 64, 67, 0.15);\n",
              "      fill: #174EA6;\n",
              "    }\n",
              "\n",
              "    [theme=dark] .colab-df-convert {\n",
              "      background-color: #3B4455;\n",
              "      fill: #D2E3FC;\n",
              "    }\n",
              "\n",
              "    [theme=dark] .colab-df-convert:hover {\n",
              "      background-color: #434B5C;\n",
              "      box-shadow: 0px 1px 3px 1px rgba(0, 0, 0, 0.15);\n",
              "      filter: drop-shadow(0px 1px 2px rgba(0, 0, 0, 0.3));\n",
              "      fill: #FFFFFF;\n",
              "    }\n",
              "  </style>\n",
              "\n",
              "      <script>\n",
              "        const buttonEl =\n",
              "          document.querySelector('#df-1a9cd49f-d9d9-496a-8aef-1dce890f720d button.colab-df-convert');\n",
              "        buttonEl.style.display =\n",
              "          google.colab.kernel.accessAllowed ? 'block' : 'none';\n",
              "\n",
              "        async function convertToInteractive(key) {\n",
              "          const element = document.querySelector('#df-1a9cd49f-d9d9-496a-8aef-1dce890f720d');\n",
              "          const dataTable =\n",
              "            await google.colab.kernel.invokeFunction('convertToInteractive',\n",
              "                                                     [key], {});\n",
              "          if (!dataTable) return;\n",
              "\n",
              "          const docLinkHtml = 'Like what you see? Visit the ' +\n",
              "            '<a target=\"_blank\" href=https://colab.research.google.com/notebooks/data_table.ipynb>data table notebook</a>'\n",
              "            + ' to learn more about interactive tables.';\n",
              "          element.innerHTML = '';\n",
              "          dataTable['output_type'] = 'display_data';\n",
              "          await google.colab.output.renderOutput(dataTable, element);\n",
              "          const docLink = document.createElement('div');\n",
              "          docLink.innerHTML = docLinkHtml;\n",
              "          element.appendChild(docLink);\n",
              "        }\n",
              "      </script>\n",
              "    </div>\n",
              "  </div>\n",
              "  "
            ]
          },
          "metadata": {},
          "execution_count": 810
        }
      ]
    },
    {
      "cell_type": "markdown",
      "source": [
        "**Estandarización de los datos:**"
      ],
      "metadata": {
        "id": "oFlJFiE1EPxe"
      }
    },
    {
      "cell_type": "code",
      "source": [
        "X_train.dtypes"
      ],
      "metadata": {
        "colab": {
          "base_uri": "https://localhost:8080/"
        },
        "id": "3XkZwSOaDG0r",
        "outputId": "bb125745-953d-43bd-c053-7443ce72b51a"
      },
      "execution_count": 811,
      "outputs": [
        {
          "output_type": "execute_result",
          "data": {
            "text/plain": [
              "DiaSalida             int64\n",
              "NumeroVuelo          object\n",
              "AeropuertoSalida     object\n",
              "AeropuertoLlegada    object\n",
              "Ruta                 object\n",
              "TiempoVuelo           int64\n",
              "FuelTotal             int64\n",
              "Pasajeros             Int64\n",
              "Maletas               Int64\n",
              "PesoMaletas           Int64\n",
              "dtype: object"
            ]
          },
          "metadata": {},
          "execution_count": 811
        }
      ]
    },
    {
      "cell_type": "code",
      "source": [
        "'''\n",
        "Los números de vuelo no se repiten igual en train y test, si uso one hot encoding para esta columna los dataframe resultantes tendrán dimensiones diferentes y no podré predecir sobre test con el modelo generado a partir de train.\n",
        "Como ya tengo la columna de ruta, que sospecho que esta directamente relacionada con el número de vuelo, elimino la columna número de vuelo directamente. \n",
        "\n",
        "Lo mismo con 'AeropuertoLlegada' y 'AeropuertoSalida'\n",
        "'''\n",
        "\n",
        "\n",
        "\n",
        "encoding_Ruta=pd.DataFrame(pd.get_dummies(X_train.Ruta, prefix='Ruta'))\n",
        "#encoding_AeropuertoLlegada=pd.DataFrame(pd.get_dummies(df_train.AeropuertoLlegada, prefix='AeropuertoLlegada'))\n",
        "#encoding_AeropuertoSalida=pd.DataFrame(pd.get_dummies(df_train.AeropuertoSalida, prefix='AeropuertoSalida'))\n",
        "#encoding_NumeroVuelo=pd.DataFrame(pd.get_dummies(df_train.NumeroVuelo, prefix='NumeroVuelo'))\n",
        "\n",
        "\n",
        "#df_train=df_train.drop(['AeropuertoLlegada', 'AeropuertoSalida', 'NumeroVuelo', 'Ruta'],axis=1) \n",
        "\n",
        "#df_train=pd.concat([df_train,encoding_Ruta,encoding_AeropuertoLlegada,encoding_AeropuertoSalida,encoding_NumeroVuelo],1)\n",
        "X_train=pd.concat([df_train,encoding_Ruta],1)\n"
      ],
      "metadata": {
        "colab": {
          "base_uri": "https://localhost:8080/"
        },
        "id": "krtqgWFnI9xH",
        "outputId": "5d5902d6-b847-4a1d-bbce-ca79ed85fcdb"
      },
      "execution_count": 812,
      "outputs": [
        {
          "output_type": "stream",
          "name": "stderr",
          "text": [
            "/usr/local/lib/python3.7/dist-packages/ipykernel_launcher.py:19: FutureWarning: In a future version of pandas all arguments of concat except for the argument 'objs' will be keyword-only\n"
          ]
        }
      ]
    },
    {
      "cell_type": "code",
      "source": [
        "#Exactamente lo mismo para el conjunto test:\n",
        "\n",
        "encoding_Ruta_t=pd.DataFrame(pd.get_dummies(df_test.Ruta, prefix='Ruta'))\n",
        "#encoding_AeropuertoLlegada_t=pd.DataFrame(pd.get_dummies(df_test.AeropuertoLlegada, prefix='AeropuertoLlegada'))\n",
        "#encoding_AeropuertoSalida_t=pd.DataFrame(pd.get_dummies(df_test.AeropuertoSalida, prefix='AeropuertoSalida'))\n",
        "#encoding_NumeroVuelo_t=pd.DataFrame(pd.get_dummies(df_test.NumeroVuelo, prefix='NumeroVuelo'))\n",
        "\n",
        "\n",
        "#df_test=df_test.drop(['AeropuertoLlegada', 'AeropuertoSalida', 'NumeroVuelo', 'Ruta'],axis=1) \n",
        "\n",
        "#df_test=pd.concat([df_test,encoding_Ruta_t,encoding_AeropuertoLlegada_t,encoding_AeropuertoSalida_t,encoding_NumeroVuelo_t],1)\n",
        "df_test=pd.concat([df_test,encoding_Ruta_t],1)"
      ],
      "metadata": {
        "colab": {
          "base_uri": "https://localhost:8080/"
        },
        "id": "Hc6gseeqf17H",
        "outputId": "1caecca6-2974-4060-ae54-295be3babd14"
      },
      "execution_count": 813,
      "outputs": [
        {
          "output_type": "stream",
          "name": "stderr",
          "text": [
            "/usr/local/lib/python3.7/dist-packages/ipykernel_launcher.py:12: FutureWarning: In a future version of pandas all arguments of concat except for the argument 'objs' will be keyword-only\n",
            "  if sys.path[0] == '':\n"
          ]
        }
      ]
    },
    {
      "cell_type": "code",
      "source": [
        "'''\n",
        "Añado tanto para df_train como para df_test las columnas de 'Ruta' que les falta para que las variables de los dos dataframes sean las mismas.\n",
        "\n",
        "Esto me permite aplicar el modelo de regresión sobre el conjunto de test\n",
        "\n",
        "'''\n",
        "\n",
        "#valores unicos columna ruta para train\n",
        "a=np.asarray(df_test.columns)\n",
        "b=np.asarray(X_train.columns)\n",
        "\n",
        "c=np.append(a,a)\n",
        "\n",
        "d=np.append(c,b)\n",
        "\n",
        "#valores unicos columna ruta para test\n",
        "e=np.asarray(df_test.columns)\n",
        "f=np.asarray(X_train.columns)\n",
        "\n",
        "g=np.append(f,f)\n",
        "h=np.append(g,e)\n",
        "\n",
        "from collections import Counter                                                                                                                                                                                                                                                   \n",
        "\n",
        "ba = Counter(h) \n",
        "bb= Counter(d)   \n",
        "unicos_train=[i for i,j in ba.items() if j==1] #Columnas que tiene df_test poro no df_train\n",
        "unicos_test=[i for i,j in bb.items() if j==1]  #Columnas que tiene df_train poro no df_test\n",
        "\n",
        "#Añado las columnas a cada dataframe:\n",
        "df_test = df_test.reindex(columns = df_test.columns.tolist() + unicos_test)\n",
        "X_train = X_train.reindex(columns = X_train.columns.tolist() + unicos_train)\n"
      ],
      "metadata": {
        "id": "xKNM8V1MbcFA"
      },
      "execution_count": 814,
      "outputs": []
    },
    {
      "cell_type": "code",
      "source": [
        "X_train=X_train.convert_dtypes(convert_integer=True)\n",
        "df_test=df_test.convert_dtypes(convert_integer=True)"
      ],
      "metadata": {
        "id": "Kk-OPI7QPQeD"
      },
      "execution_count": 815,
      "outputs": []
    },
    {
      "cell_type": "code",
      "source": [
        "\n",
        "a=np.asarray(X_train.columns)\n",
        "n=0\n",
        "for i in a:\n",
        "  X_train[i] = pd.to_numeric(X_train[i], errors='coerce')\n",
        "  n=n+1\n",
        "  if n> len(a):\n",
        "    break\n"
      ],
      "metadata": {
        "id": "NByJRFgdb-6O"
      },
      "execution_count": 816,
      "outputs": []
    },
    {
      "cell_type": "code",
      "source": [
        "print(len(unicos_train))\n",
        "print(len(unicos_test))\n",
        "print(X_train.shape)\n",
        "print(df_test.shape)\n",
        "#los dos dataframes se quedan con el mismo número y nombre de columnas"
      ],
      "metadata": {
        "colab": {
          "base_uri": "https://localhost:8080/"
        },
        "id": "Db-OrkpkOuu2",
        "outputId": "83023074-3315-40b7-f16e-fe4b06a3bbcc"
      },
      "execution_count": 817,
      "outputs": [
        {
          "output_type": "stream",
          "name": "stdout",
          "text": [
            "46\n",
            "1085\n",
            "(26782, 2589)\n",
            "(1916, 2589)\n"
          ]
        }
      ]
    },
    {
      "cell_type": "code",
      "source": [
        "df_test=df_test.drop(['AeropuertoLlegada', 'AeropuertoSalida', 'NumeroVuelo', 'Ruta'],axis=1) \n",
        "X_train=X_train.drop(['AeropuertoLlegada', 'AeropuertoSalida', 'NumeroVuelo', 'Ruta'],axis=1)"
      ],
      "metadata": {
        "id": "Vl8ZgFdoLMmH"
      },
      "execution_count": 818,
      "outputs": []
    },
    {
      "cell_type": "code",
      "source": [
        "\n",
        "#Para evitar ---->   float() argument must be a string or a number, not 'NAType'\n",
        "\n",
        "df_test=df_test.fillna(0)\n",
        "\n",
        "X_train=X_train.fillna(0)\n",
        "Y_train=Y_train.fillna(0)\n"
      ],
      "metadata": {
        "id": "Z7P0YvF_I7_o"
      },
      "execution_count": 819,
      "outputs": []
    },
    {
      "cell_type": "code",
      "source": [
        "\n",
        "obj_escalar = StandardScaler()\n",
        "X_train = obj_escalar.fit_transform(X_train)\n",
        "df_test = obj_escalar.fit_transform(df_test)\n"
      ],
      "metadata": {
        "id": "YGKmzuI3EO8_"
      },
      "execution_count": 820,
      "outputs": []
    },
    {
      "cell_type": "code",
      "source": [
        "\n",
        "X_train_cp=X_train.copy()\n",
        "Y_train_cp=Y_train.copy()\n",
        "df_test_cp=df_test.copy()"
      ],
      "metadata": {
        "id": "H9DhJIdcjZXj"
      },
      "execution_count": 821,
      "outputs": []
    },
    {
      "cell_type": "markdown",
      "source": [
        "**Modelo de regresión con NN utilizando Tensorflow y Keras**"
      ],
      "metadata": {
        "id": "9y2b6XY9H2oD"
      }
    },
    {
      "cell_type": "code",
      "source": [
        "def constructor_modelo1():\n",
        "    # Definición del modelo\n",
        "    modelo = keras.Sequential([\n",
        "    layers.Dense(64, activation='relu', input_shape=[X_train.shape[1]]),\n",
        "    layers.Dense(32, activation='relu'),\n",
        "    layers.Dense(1)])\n",
        "    \n",
        "    # Definición del optimizador\n",
        "    optimizer = tf.keras.optimizers.RMSprop(0.001)\n",
        "    \n",
        "    # Compilación del modelo\n",
        "    modelo.compile(loss='mse',\n",
        "                optimizer=optimizer,\n",
        "                metrics=['mae', 'mse'])\n",
        "    return modelo"
      ],
      "metadata": {
        "id": "fYX8xJmCIQON"
      },
      "execution_count": 822,
      "outputs": []
    },
    {
      "cell_type": "markdown",
      "source": [
        "Se trata de un modelo secuencial..."
      ],
      "metadata": {
        "id": "wbpbeEMEJJzW"
      }
    },
    {
      "cell_type": "code",
      "source": [
        "model = constructor_modelo1()"
      ],
      "metadata": {
        "id": "eS1gMsWOPbhe"
      },
      "execution_count": 823,
      "outputs": []
    },
    {
      "cell_type": "code",
      "source": [
        "\n",
        "#ValueError: Failed to convert a NumPy array to a Tensor (Unsupported object type list)\n",
        "X_train=np.asarray(X_train).astype(np.float32)\n",
        "Y_train=np.asarray(Y_train).astype(np.float32)\n",
        "df_test=np.asarray(df_test).astype(np.float32)"
      ],
      "metadata": {
        "id": "XdWsqQvfd1bF"
      },
      "execution_count": 824,
      "outputs": []
    },
    {
      "cell_type": "code",
      "source": [
        "model.fit(X_train, Y_train)"
      ],
      "metadata": {
        "id": "hS1XeoQdPtWR",
        "colab": {
          "base_uri": "https://localhost:8080/"
        },
        "outputId": "4059b1a5-b829-4b28-c3d7-ce46ce218fc6"
      },
      "execution_count": 825,
      "outputs": [
        {
          "output_type": "stream",
          "name": "stdout",
          "text": [
            "837/837 [==============================] - 5s 6ms/step - loss: 3826222592.0000 - mae: 61318.3516 - mse: 3826222592.0000\n"
          ]
        },
        {
          "output_type": "execute_result",
          "data": {
            "text/plain": [
              "<keras.callbacks.History at 0x7f9731d40810>"
            ]
          },
          "metadata": {},
          "execution_count": 825
        }
      ]
    },
    {
      "cell_type": "code",
      "source": [
        "X_train.shape[1] #Número de variables input"
      ],
      "metadata": {
        "id": "EGpzvxIfP6wi",
        "colab": {
          "base_uri": "https://localhost:8080/"
        },
        "outputId": "ce48d98b-982b-41c6-bd93-cc2787519788"
      },
      "execution_count": 826,
      "outputs": [
        {
          "output_type": "execute_result",
          "data": {
            "text/plain": [
              "2585"
            ]
          },
          "metadata": {},
          "execution_count": 826
        }
      ]
    },
    {
      "cell_type": "code",
      "source": [
        "\n",
        "print(df_test.shape)"
      ],
      "metadata": {
        "colab": {
          "base_uri": "https://localhost:8080/"
        },
        "id": "ZVxs3-DehecL",
        "outputId": "aba19203-4269-43a9-feda-4b87f60726c3"
      },
      "execution_count": 827,
      "outputs": [
        {
          "output_type": "stream",
          "name": "stdout",
          "text": [
            "(1916, 2585)\n"
          ]
        }
      ]
    },
    {
      "cell_type": "code",
      "source": [
        "model.summary()"
      ],
      "metadata": {
        "id": "sGAPI8tuP-Ry",
        "colab": {
          "base_uri": "https://localhost:8080/"
        },
        "outputId": "1ae755e3-adbd-4310-c3f8-d3d9d93769fa"
      },
      "execution_count": 828,
      "outputs": [
        {
          "output_type": "stream",
          "name": "stdout",
          "text": [
            "Model: \"sequential_22\"\n",
            "_________________________________________________________________\n",
            " Layer (type)                Output Shape              Param #   \n",
            "=================================================================\n",
            " dense_66 (Dense)            (None, 64)                165504    \n",
            "                                                                 \n",
            " dense_67 (Dense)            (None, 32)                2080      \n",
            "                                                                 \n",
            " dense_68 (Dense)            (None, 1)                 33        \n",
            "                                                                 \n",
            "=================================================================\n",
            "Total params: 167,617\n",
            "Trainable params: 167,617\n",
            "Non-trainable params: 0\n",
            "_________________________________________________________________\n"
          ]
        }
      ]
    },
    {
      "cell_type": "code",
      "source": [
        "# Muestro un punto por cada una de las épocas completadas\n",
        "class PrintDot(keras.callbacks.Callback):\n",
        "    def on_epoch_end(self, epoch, logs):\n",
        "        if epoch % 100 == 0: print('')\n",
        "        print('.', end='')\n",
        "\n",
        "EPOCHS = 50\n",
        "historico = model.fit(X_train, Y_train, \n",
        "                    epochs=EPOCHS,\n",
        "                    validation_split = 0.2, \n",
        "                    verbose=0,\n",
        "                    callbacks=[PrintDot()])"
      ],
      "metadata": {
        "id": "HmcAEizTVR_n",
        "colab": {
          "base_uri": "https://localhost:8080/"
        },
        "outputId": "5bd34110-aa51-4f7a-a521-41b817fff50f"
      },
      "execution_count": 829,
      "outputs": [
        {
          "output_type": "stream",
          "name": "stdout",
          "text": [
            "\n",
            ".................................................."
          ]
        }
      ]
    },
    {
      "cell_type": "code",
      "source": [
        "hist = pd.DataFrame(historico.history)\n",
        "hist['epoch'] = historico.epoch\n",
        "hist.tail()"
      ],
      "metadata": {
        "id": "S2xG8GNpWej2",
        "colab": {
          "base_uri": "https://localhost:8080/",
          "height": 206
        },
        "outputId": "e7b66ef8-6135-4581-f955-50112f5169f3"
      },
      "execution_count": 830,
      "outputs": [
        {
          "output_type": "execute_result",
          "data": {
            "text/plain": [
              "           loss           mae          mse     val_loss       val_mae  \\\n",
              "45  547719936.0  11390.504883  547719936.0  509394624.0  11027.291016   \n",
              "46  488444960.0  10738.627930  488444960.0  441106432.0  10219.716797   \n",
              "47  424760928.0   9970.369141  424760928.0  383176768.0   9524.065430   \n",
              "48  374889056.0   9290.865234  374889056.0  360108320.0   9406.503906   \n",
              "49  355209920.0   8912.068359  355209920.0  370671200.0   9465.425781   \n",
              "\n",
              "        val_mse  epoch  \n",
              "45  509394624.0     45  \n",
              "46  441106432.0     46  \n",
              "47  383176768.0     47  \n",
              "48  360108320.0     48  \n",
              "49  370671200.0     49  "
            ],
            "text/html": [
              "\n",
              "  <div id=\"df-8db5fe08-6abf-4acf-a50b-ca1f939b223a\">\n",
              "    <div class=\"colab-df-container\">\n",
              "      <div>\n",
              "<style scoped>\n",
              "    .dataframe tbody tr th:only-of-type {\n",
              "        vertical-align: middle;\n",
              "    }\n",
              "\n",
              "    .dataframe tbody tr th {\n",
              "        vertical-align: top;\n",
              "    }\n",
              "\n",
              "    .dataframe thead th {\n",
              "        text-align: right;\n",
              "    }\n",
              "</style>\n",
              "<table border=\"1\" class=\"dataframe\">\n",
              "  <thead>\n",
              "    <tr style=\"text-align: right;\">\n",
              "      <th></th>\n",
              "      <th>loss</th>\n",
              "      <th>mae</th>\n",
              "      <th>mse</th>\n",
              "      <th>val_loss</th>\n",
              "      <th>val_mae</th>\n",
              "      <th>val_mse</th>\n",
              "      <th>epoch</th>\n",
              "    </tr>\n",
              "  </thead>\n",
              "  <tbody>\n",
              "    <tr>\n",
              "      <th>45</th>\n",
              "      <td>547719936.0</td>\n",
              "      <td>11390.504883</td>\n",
              "      <td>547719936.0</td>\n",
              "      <td>509394624.0</td>\n",
              "      <td>11027.291016</td>\n",
              "      <td>509394624.0</td>\n",
              "      <td>45</td>\n",
              "    </tr>\n",
              "    <tr>\n",
              "      <th>46</th>\n",
              "      <td>488444960.0</td>\n",
              "      <td>10738.627930</td>\n",
              "      <td>488444960.0</td>\n",
              "      <td>441106432.0</td>\n",
              "      <td>10219.716797</td>\n",
              "      <td>441106432.0</td>\n",
              "      <td>46</td>\n",
              "    </tr>\n",
              "    <tr>\n",
              "      <th>47</th>\n",
              "      <td>424760928.0</td>\n",
              "      <td>9970.369141</td>\n",
              "      <td>424760928.0</td>\n",
              "      <td>383176768.0</td>\n",
              "      <td>9524.065430</td>\n",
              "      <td>383176768.0</td>\n",
              "      <td>47</td>\n",
              "    </tr>\n",
              "    <tr>\n",
              "      <th>48</th>\n",
              "      <td>374889056.0</td>\n",
              "      <td>9290.865234</td>\n",
              "      <td>374889056.0</td>\n",
              "      <td>360108320.0</td>\n",
              "      <td>9406.503906</td>\n",
              "      <td>360108320.0</td>\n",
              "      <td>48</td>\n",
              "    </tr>\n",
              "    <tr>\n",
              "      <th>49</th>\n",
              "      <td>355209920.0</td>\n",
              "      <td>8912.068359</td>\n",
              "      <td>355209920.0</td>\n",
              "      <td>370671200.0</td>\n",
              "      <td>9465.425781</td>\n",
              "      <td>370671200.0</td>\n",
              "      <td>49</td>\n",
              "    </tr>\n",
              "  </tbody>\n",
              "</table>\n",
              "</div>\n",
              "      <button class=\"colab-df-convert\" onclick=\"convertToInteractive('df-8db5fe08-6abf-4acf-a50b-ca1f939b223a')\"\n",
              "              title=\"Convert this dataframe to an interactive table.\"\n",
              "              style=\"display:none;\">\n",
              "        \n",
              "  <svg xmlns=\"http://www.w3.org/2000/svg\" height=\"24px\"viewBox=\"0 0 24 24\"\n",
              "       width=\"24px\">\n",
              "    <path d=\"M0 0h24v24H0V0z\" fill=\"none\"/>\n",
              "    <path d=\"M18.56 5.44l.94 2.06.94-2.06 2.06-.94-2.06-.94-.94-2.06-.94 2.06-2.06.94zm-11 1L8.5 8.5l.94-2.06 2.06-.94-2.06-.94L8.5 2.5l-.94 2.06-2.06.94zm10 10l.94 2.06.94-2.06 2.06-.94-2.06-.94-.94-2.06-.94 2.06-2.06.94z\"/><path d=\"M17.41 7.96l-1.37-1.37c-.4-.4-.92-.59-1.43-.59-.52 0-1.04.2-1.43.59L10.3 9.45l-7.72 7.72c-.78.78-.78 2.05 0 2.83L4 21.41c.39.39.9.59 1.41.59.51 0 1.02-.2 1.41-.59l7.78-7.78 2.81-2.81c.8-.78.8-2.07 0-2.86zM5.41 20L4 18.59l7.72-7.72 1.47 1.35L5.41 20z\"/>\n",
              "  </svg>\n",
              "      </button>\n",
              "      \n",
              "  <style>\n",
              "    .colab-df-container {\n",
              "      display:flex;\n",
              "      flex-wrap:wrap;\n",
              "      gap: 12px;\n",
              "    }\n",
              "\n",
              "    .colab-df-convert {\n",
              "      background-color: #E8F0FE;\n",
              "      border: none;\n",
              "      border-radius: 50%;\n",
              "      cursor: pointer;\n",
              "      display: none;\n",
              "      fill: #1967D2;\n",
              "      height: 32px;\n",
              "      padding: 0 0 0 0;\n",
              "      width: 32px;\n",
              "    }\n",
              "\n",
              "    .colab-df-convert:hover {\n",
              "      background-color: #E2EBFA;\n",
              "      box-shadow: 0px 1px 2px rgba(60, 64, 67, 0.3), 0px 1px 3px 1px rgba(60, 64, 67, 0.15);\n",
              "      fill: #174EA6;\n",
              "    }\n",
              "\n",
              "    [theme=dark] .colab-df-convert {\n",
              "      background-color: #3B4455;\n",
              "      fill: #D2E3FC;\n",
              "    }\n",
              "\n",
              "    [theme=dark] .colab-df-convert:hover {\n",
              "      background-color: #434B5C;\n",
              "      box-shadow: 0px 1px 3px 1px rgba(0, 0, 0, 0.15);\n",
              "      filter: drop-shadow(0px 1px 2px rgba(0, 0, 0, 0.3));\n",
              "      fill: #FFFFFF;\n",
              "    }\n",
              "  </style>\n",
              "\n",
              "      <script>\n",
              "        const buttonEl =\n",
              "          document.querySelector('#df-8db5fe08-6abf-4acf-a50b-ca1f939b223a button.colab-df-convert');\n",
              "        buttonEl.style.display =\n",
              "          google.colab.kernel.accessAllowed ? 'block' : 'none';\n",
              "\n",
              "        async function convertToInteractive(key) {\n",
              "          const element = document.querySelector('#df-8db5fe08-6abf-4acf-a50b-ca1f939b223a');\n",
              "          const dataTable =\n",
              "            await google.colab.kernel.invokeFunction('convertToInteractive',\n",
              "                                                     [key], {});\n",
              "          if (!dataTable) return;\n",
              "\n",
              "          const docLinkHtml = 'Like what you see? Visit the ' +\n",
              "            '<a target=\"_blank\" href=https://colab.research.google.com/notebooks/data_table.ipynb>data table notebook</a>'\n",
              "            + ' to learn more about interactive tables.';\n",
              "          element.innerHTML = '';\n",
              "          dataTable['output_type'] = 'display_data';\n",
              "          await google.colab.output.renderOutput(dataTable, element);\n",
              "          const docLink = document.createElement('div');\n",
              "          docLink.innerHTML = docLinkHtml;\n",
              "          element.appendChild(docLink);\n",
              "        }\n",
              "      </script>\n",
              "    </div>\n",
              "  </div>\n",
              "  "
            ]
          },
          "metadata": {},
          "execution_count": 830
        }
      ]
    },
    {
      "cell_type": "code",
      "source": [
        "def represento_historico(historico):\n",
        "    hist = pd.DataFrame(historico.history)\n",
        "    hist['epoch'] = historico.epoch\n",
        "\n",
        "    plt.figure(figsize=(20,7))\n",
        "    plt.xlabel('Epoch')\n",
        "    plt.ylabel('Error absoluto medio [MAE]')\n",
        "    plt.plot(hist['epoch'], hist['mae'],\n",
        "           label='Error de entrenamiento')\n",
        "    plt.plot(hist['epoch'], hist['val_mae'],\n",
        "           label = 'Error de validación')\n",
        "    plt.title('Error MAE en entrenamiento y en test')\n",
        "    #plt.ylim([0,5])\n",
        "    plt.legend()\n",
        "\n",
        "    plt.figure(figsize=(20,7))\n",
        "    plt.xlabel('Epoch')\n",
        "    plt.ylabel('Error cuadrático medio [MSE]')\n",
        "    plt.plot(hist['epoch'], hist['mse'],\n",
        "           label='Error de entrenamiento')\n",
        "    plt.plot(hist['epoch'], hist['val_mse'],\n",
        "           label = 'Error de validación')\n",
        "    plt.title('Error MSE en entrenamiento y en test')\n",
        "    #plt.ylim([0,20])\n",
        "    plt.legend()\n",
        "    plt.show()\n",
        "\n"
      ],
      "metadata": {
        "id": "pG8yT3vNW0N3"
      },
      "execution_count": 831,
      "outputs": []
    },
    {
      "cell_type": "code",
      "source": [
        "represento_historico(historico)"
      ],
      "metadata": {
        "id": "siWWf4mzWrIw",
        "colab": {
          "base_uri": "https://localhost:8080/",
          "height": 899
        },
        "outputId": "10a92bef-d63c-4974-f22e-6d88650825a0"
      },
      "execution_count": 832,
      "outputs": [
        {
          "output_type": "display_data",
          "data": {
            "text/plain": [
              "<Figure size 1440x504 with 1 Axes>"
            ],
            "image/png": "[encoded data removed]"
          },
          "metadata": {
            "needs_background": "light"
          }
        },
        {
          "output_type": "display_data",
          "data": {
            "text/plain": [
              "<Figure size 1440x504 with 1 Axes>"
            ],
            "image/png": "[encoded data removed]"
          },
          "metadata": {
            "needs_background": "light"
          }
        }
      ]
    },
    {
      "cell_type": "markdown",
      "source": [
        "Para evitar el sobreajuste utilizo EarlyStoping.\n",
        "\n",
        "El método de detención temprana tiene como objetivo resolver el problema de que el número de épocas debe establecerse manualmente. También puede considerarse como un método de regularización que puede evitar el sobreajuste de la red"
      ],
      "metadata": {
        "id": "6NhFHO5Zf0HO"
      }
    },
    {
      "cell_type": "code",
      "source": [
        "model2 = constructor_modelo1()\n",
        "\n",
        "# En monitor es el valor a monitorizar, que en este caso puede ser uno de los siguientes:\n",
        "# [loss, mae, mse, val_loss, val_mae, val_mse]\n",
        "# Patience es el número de épocas sin mejora antes de parar el entrenamiento\n",
        "early_stop = keras.callbacks.EarlyStopping(monitor='val_mse', patience=10)\n",
        "\n",
        "history = model2.fit(X_train, Y_train, \n",
        "                    epochs=EPOCHS,\n",
        "                    validation_split = 0.2, \n",
        "                    verbose=0, \n",
        "                    callbacks=[early_stop, PrintDot()])\n",
        "\n",
        "represento_historico(history)"
      ],
      "metadata": {
        "id": "vBuOF5UXbfxj",
        "colab": {
          "base_uri": "https://localhost:8080/",
          "height": 936
        },
        "outputId": "c76fa507-f11c-4e3d-c037-f73d755d27af"
      },
      "execution_count": 833,
      "outputs": [
        {
          "output_type": "stream",
          "name": "stdout",
          "text": [
            "\n",
            ".................................................."
          ]
        },
        {
          "output_type": "display_data",
          "data": {
            "text/plain": [
              "<Figure size 1440x504 with 1 Axes>"
            ],
            "image/png": "[encoded data removed]"
          },
          "metadata": {
            "needs_background": "light"
          }
        },
        {
          "output_type": "display_data",
          "data": {
            "text/plain": [
              "<Figure size 1440x504 with 1 Axes>"
            ],
            "image/png": "[encoded data removed]"
          },
          "metadata": {
            "needs_background": "light"
          }
        }
      ]
    },
    {
      "cell_type": "code",
      "source": [
        "loss, mae, mse = model.evaluate(X_train, Y_train, verbose=2)\n",
        "loss, mae, mse = model.evaluate(X_train, Y_train, verbose=2)\n",
        "\n",
        "print(\"Testing set Mean Abs Error: {:5.2f} MPG\".format(mae))"
      ],
      "metadata": {
        "id": "YDvHWO2oHqRj",
        "colab": {
          "base_uri": "https://localhost:8080/"
        },
        "outputId": "4ca8d21c-246c-4e9f-d437-0fafbf3dcff7"
      },
      "execution_count": 834,
      "outputs": [
        {
          "output_type": "stream",
          "name": "stdout",
          "text": [
            "837/837 - 2s - loss: 350923904.0000 - mae: 9033.4678 - mse: 350923904.0000 - 2s/epoch - 2ms/step\n",
            "837/837 - 1s - loss: 350923904.0000 - mae: 9033.4678 - mse: 350923904.0000 - 1s/epoch - 2ms/step\n",
            "Testing set Mean Abs Error: 9033.47 MPG\n"
          ]
        }
      ]
    },
    {
      "cell_type": "code",
      "source": [
        "hist2 = pd.DataFrame(history.history)\n",
        "hist2.head(3)"
      ],
      "metadata": {
        "colab": {
          "base_uri": "https://localhost:8080/",
          "height": 143
        },
        "id": "SpIhgGdVmDEd",
        "outputId": "c6e09187-9210-424b-b277-74ce9e6f9a31"
      },
      "execution_count": 835,
      "outputs": [
        {
          "output_type": "execute_result",
          "data": {
            "text/plain": [
              "           loss           mae           mse      val_loss       val_mae  \\\n",
              "0  3.974402e+09  62776.277344  3.974402e+09  3.390096e+09  57452.675781   \n",
              "1  2.398451e+09  43582.332031  2.398451e+09  2.052294e+09  37842.890625   \n",
              "2  1.918429e+09  36549.261719  1.918429e+09  1.930843e+09  36113.996094   \n",
              "\n",
              "        val_mse  \n",
              "0  3.390096e+09  \n",
              "1  2.052294e+09  \n",
              "2  1.930843e+09  "
            ],
            "text/html": [
              "\n",
              "  <div id=\"df-61fc97f8-eb56-4ba2-a731-f12760080199\">\n",
              "    <div class=\"colab-df-container\">\n",
              "      <div>\n",
              "<style scoped>\n",
              "    .dataframe tbody tr th:only-of-type {\n",
              "        vertical-align: middle;\n",
              "    }\n",
              "\n",
              "    .dataframe tbody tr th {\n",
              "        vertical-align: top;\n",
              "    }\n",
              "\n",
              "    .dataframe thead th {\n",
              "        text-align: right;\n",
              "    }\n",
              "</style>\n",
              "<table border=\"1\" class=\"dataframe\">\n",
              "  <thead>\n",
              "    <tr style=\"text-align: right;\">\n",
              "      <th></th>\n",
              "      <th>loss</th>\n",
              "      <th>mae</th>\n",
              "      <th>mse</th>\n",
              "      <th>val_loss</th>\n",
              "      <th>val_mae</th>\n",
              "      <th>val_mse</th>\n",
              "    </tr>\n",
              "  </thead>\n",
              "  <tbody>\n",
              "    <tr>\n",
              "      <th>0</th>\n",
              "      <td>3.974402e+09</td>\n",
              "      <td>62776.277344</td>\n",
              "      <td>3.974402e+09</td>\n",
              "      <td>3.390096e+09</td>\n",
              "      <td>57452.675781</td>\n",
              "      <td>3.390096e+09</td>\n",
              "    </tr>\n",
              "    <tr>\n",
              "      <th>1</th>\n",
              "      <td>2.398451e+09</td>\n",
              "      <td>43582.332031</td>\n",
              "      <td>2.398451e+09</td>\n",
              "      <td>2.052294e+09</td>\n",
              "      <td>37842.890625</td>\n",
              "      <td>2.052294e+09</td>\n",
              "    </tr>\n",
              "    <tr>\n",
              "      <th>2</th>\n",
              "      <td>1.918429e+09</td>\n",
              "      <td>36549.261719</td>\n",
              "      <td>1.918429e+09</td>\n",
              "      <td>1.930843e+09</td>\n",
              "      <td>36113.996094</td>\n",
              "      <td>1.930843e+09</td>\n",
              "    </tr>\n",
              "  </tbody>\n",
              "</table>\n",
              "</div>\n",
              "      <button class=\"colab-df-convert\" onclick=\"convertToInteractive('df-61fc97f8-eb56-4ba2-a731-f12760080199')\"\n",
              "              title=\"Convert this dataframe to an interactive table.\"\n",
              "              style=\"display:none;\">\n",
              "        \n",
              "  <svg xmlns=\"http://www.w3.org/2000/svg\" height=\"24px\"viewBox=\"0 0 24 24\"\n",
              "       width=\"24px\">\n",
              "    <path d=\"M0 0h24v24H0V0z\" fill=\"none\"/>\n",
              "    <path d=\"M18.56 5.44l.94 2.06.94-2.06 2.06-.94-2.06-.94-.94-2.06-.94 2.06-2.06.94zm-11 1L8.5 8.5l.94-2.06 2.06-.94-2.06-.94L8.5 2.5l-.94 2.06-2.06.94zm10 10l.94 2.06.94-2.06 2.06-.94-2.06-.94-.94-2.06-.94 2.06-2.06.94z\"/><path d=\"M17.41 7.96l-1.37-1.37c-.4-.4-.92-.59-1.43-.59-.52 0-1.04.2-1.43.59L10.3 9.45l-7.72 7.72c-.78.78-.78 2.05 0 2.83L4 21.41c.39.39.9.59 1.41.59.51 0 1.02-.2 1.41-.59l7.78-7.78 2.81-2.81c.8-.78.8-2.07 0-2.86zM5.41 20L4 18.59l7.72-7.72 1.47 1.35L5.41 20z\"/>\n",
              "  </svg>\n",
              "      </button>\n",
              "      \n",
              "  <style>\n",
              "    .colab-df-container {\n",
              "      display:flex;\n",
              "      flex-wrap:wrap;\n",
              "      gap: 12px;\n",
              "    }\n",
              "\n",
              "    .colab-df-convert {\n",
              "      background-color: #E8F0FE;\n",
              "      border: none;\n",
              "      border-radius: 50%;\n",
              "      cursor: pointer;\n",
              "      display: none;\n",
              "      fill: #1967D2;\n",
              "      height: 32px;\n",
              "      padding: 0 0 0 0;\n",
              "      width: 32px;\n",
              "    }\n",
              "\n",
              "    .colab-df-convert:hover {\n",
              "      background-color: #E2EBFA;\n",
              "      box-shadow: 0px 1px 2px rgba(60, 64, 67, 0.3), 0px 1px 3px 1px rgba(60, 64, 67, 0.15);\n",
              "      fill: #174EA6;\n",
              "    }\n",
              "\n",
              "    [theme=dark] .colab-df-convert {\n",
              "      background-color: #3B4455;\n",
              "      fill: #D2E3FC;\n",
              "    }\n",
              "\n",
              "    [theme=dark] .colab-df-convert:hover {\n",
              "      background-color: #434B5C;\n",
              "      box-shadow: 0px 1px 3px 1px rgba(0, 0, 0, 0.15);\n",
              "      filter: drop-shadow(0px 1px 2px rgba(0, 0, 0, 0.3));\n",
              "      fill: #FFFFFF;\n",
              "    }\n",
              "  </style>\n",
              "\n",
              "      <script>\n",
              "        const buttonEl =\n",
              "          document.querySelector('#df-61fc97f8-eb56-4ba2-a731-f12760080199 button.colab-df-convert');\n",
              "        buttonEl.style.display =\n",
              "          google.colab.kernel.accessAllowed ? 'block' : 'none';\n",
              "\n",
              "        async function convertToInteractive(key) {\n",
              "          const element = document.querySelector('#df-61fc97f8-eb56-4ba2-a731-f12760080199');\n",
              "          const dataTable =\n",
              "            await google.colab.kernel.invokeFunction('convertToInteractive',\n",
              "                                                     [key], {});\n",
              "          if (!dataTable) return;\n",
              "\n",
              "          const docLinkHtml = 'Like what you see? Visit the ' +\n",
              "            '<a target=\"_blank\" href=https://colab.research.google.com/notebooks/data_table.ipynb>data table notebook</a>'\n",
              "            + ' to learn more about interactive tables.';\n",
              "          element.innerHTML = '';\n",
              "          dataTable['output_type'] = 'display_data';\n",
              "          await google.colab.output.renderOutput(dataTable, element);\n",
              "          const docLink = document.createElement('div');\n",
              "          docLink.innerHTML = docLinkHtml;\n",
              "          element.appendChild(docLink);\n",
              "        }\n",
              "      </script>\n",
              "    </div>\n",
              "  </div>\n",
              "  "
            ]
          },
          "metadata": {},
          "execution_count": 835
        }
      ]
    },
    {
      "cell_type": "markdown",
      "source": [
        "**Predecir con test**"
      ],
      "metadata": {
        "id": "DLXG_3Tjb8PB"
      }
    },
    {
      "cell_type": "code",
      "source": [
        "df_test=np.asarray(df_test).astype(np.float32)"
      ],
      "metadata": {
        "id": "S3qRlk_CKszn"
      },
      "execution_count": 836,
      "outputs": []
    },
    {
      "cell_type": "code",
      "source": [
        "#prediccion primeros 10 registros para test\n",
        "pred_Sequential = pd.DataFrame(model.predict(df_test),columns=['pred_Sequential'])\n",
        "pred_Sequential.head(10)"
      ],
      "metadata": {
        "id": "7yHnTKQZb_zr",
        "colab": {
          "base_uri": "https://localhost:8080/",
          "height": 363
        },
        "outputId": "34e38520-84dd-4188-8e99-8dc9a3960860"
      },
      "execution_count": 837,
      "outputs": [
        {
          "output_type": "execute_result",
          "data": {
            "text/plain": [
              "   pred_Sequential\n",
              "0     17031.787109\n",
              "1     85163.031250\n",
              "2     85221.320312\n",
              "3     17625.365234\n",
              "4     17625.365234\n",
              "5     63943.144531\n",
              "6     95826.656250\n",
              "7     35019.988281\n",
              "8     27938.132812\n",
              "9     38371.953125"
            ],
            "text/html": [
              "\n",
              "  <div id=\"df-bd1d47ee-d7a0-471e-85f5-ce47bca5a1bd\">\n",
              "    <div class=\"colab-df-container\">\n",
              "      <div>\n",
              "<style scoped>\n",
              "    .dataframe tbody tr th:only-of-type {\n",
              "        vertical-align: middle;\n",
              "    }\n",
              "\n",
              "    .dataframe tbody tr th {\n",
              "        vertical-align: top;\n",
              "    }\n",
              "\n",
              "    .dataframe thead th {\n",
              "        text-align: right;\n",
              "    }\n",
              "</style>\n",
              "<table border=\"1\" class=\"dataframe\">\n",
              "  <thead>\n",
              "    <tr style=\"text-align: right;\">\n",
              "      <th></th>\n",
              "      <th>pred_Sequential</th>\n",
              "    </tr>\n",
              "  </thead>\n",
              "  <tbody>\n",
              "    <tr>\n",
              "      <th>0</th>\n",
              "      <td>17031.787109</td>\n",
              "    </tr>\n",
              "    <tr>\n",
              "      <th>1</th>\n",
              "      <td>85163.031250</td>\n",
              "    </tr>\n",
              "    <tr>\n",
              "      <th>2</th>\n",
              "      <td>85221.320312</td>\n",
              "    </tr>\n",
              "    <tr>\n",
              "      <th>3</th>\n",
              "      <td>17625.365234</td>\n",
              "    </tr>\n",
              "    <tr>\n",
              "      <th>4</th>\n",
              "      <td>17625.365234</td>\n",
              "    </tr>\n",
              "    <tr>\n",
              "      <th>5</th>\n",
              "      <td>63943.144531</td>\n",
              "    </tr>\n",
              "    <tr>\n",
              "      <th>6</th>\n",
              "      <td>95826.656250</td>\n",
              "    </tr>\n",
              "    <tr>\n",
              "      <th>7</th>\n",
              "      <td>35019.988281</td>\n",
              "    </tr>\n",
              "    <tr>\n",
              "      <th>8</th>\n",
              "      <td>27938.132812</td>\n",
              "    </tr>\n",
              "    <tr>\n",
              "      <th>9</th>\n",
              "      <td>38371.953125</td>\n",
              "    </tr>\n",
              "  </tbody>\n",
              "</table>\n",
              "</div>\n",
              "      <button class=\"colab-df-convert\" onclick=\"convertToInteractive('df-bd1d47ee-d7a0-471e-85f5-ce47bca5a1bd')\"\n",
              "              title=\"Convert this dataframe to an interactive table.\"\n",
              "              style=\"display:none;\">\n",
              "        \n",
              "  <svg xmlns=\"http://www.w3.org/2000/svg\" height=\"24px\"viewBox=\"0 0 24 24\"\n",
              "       width=\"24px\">\n",
              "    <path d=\"M0 0h24v24H0V0z\" fill=\"none\"/>\n",
              "    <path d=\"M18.56 5.44l.94 2.06.94-2.06 2.06-.94-2.06-.94-.94-2.06-.94 2.06-2.06.94zm-11 1L8.5 8.5l.94-2.06 2.06-.94-2.06-.94L8.5 2.5l-.94 2.06-2.06.94zm10 10l.94 2.06.94-2.06 2.06-.94-2.06-.94-.94-2.06-.94 2.06-2.06.94z\"/><path d=\"M17.41 7.96l-1.37-1.37c-.4-.4-.92-.59-1.43-.59-.52 0-1.04.2-1.43.59L10.3 9.45l-7.72 7.72c-.78.78-.78 2.05 0 2.83L4 21.41c.39.39.9.59 1.41.59.51 0 1.02-.2 1.41-.59l7.78-7.78 2.81-2.81c.8-.78.8-2.07 0-2.86zM5.41 20L4 18.59l7.72-7.72 1.47 1.35L5.41 20z\"/>\n",
              "  </svg>\n",
              "      </button>\n",
              "      \n",
              "  <style>\n",
              "    .colab-df-container {\n",
              "      display:flex;\n",
              "      flex-wrap:wrap;\n",
              "      gap: 12px;\n",
              "    }\n",
              "\n",
              "    .colab-df-convert {\n",
              "      background-color: #E8F0FE;\n",
              "      border: none;\n",
              "      border-radius: 50%;\n",
              "      cursor: pointer;\n",
              "      display: none;\n",
              "      fill: #1967D2;\n",
              "      height: 32px;\n",
              "      padding: 0 0 0 0;\n",
              "      width: 32px;\n",
              "    }\n",
              "\n",
              "    .colab-df-convert:hover {\n",
              "      background-color: #E2EBFA;\n",
              "      box-shadow: 0px 1px 2px rgba(60, 64, 67, 0.3), 0px 1px 3px 1px rgba(60, 64, 67, 0.15);\n",
              "      fill: #174EA6;\n",
              "    }\n",
              "\n",
              "    [theme=dark] .colab-df-convert {\n",
              "      background-color: #3B4455;\n",
              "      fill: #D2E3FC;\n",
              "    }\n",
              "\n",
              "    [theme=dark] .colab-df-convert:hover {\n",
              "      background-color: #434B5C;\n",
              "      box-shadow: 0px 1px 3px 1px rgba(0, 0, 0, 0.15);\n",
              "      filter: drop-shadow(0px 1px 2px rgba(0, 0, 0, 0.3));\n",
              "      fill: #FFFFFF;\n",
              "    }\n",
              "  </style>\n",
              "\n",
              "      <script>\n",
              "        const buttonEl =\n",
              "          document.querySelector('#df-bd1d47ee-d7a0-471e-85f5-ce47bca5a1bd button.colab-df-convert');\n",
              "        buttonEl.style.display =\n",
              "          google.colab.kernel.accessAllowed ? 'block' : 'none';\n",
              "\n",
              "        async function convertToInteractive(key) {\n",
              "          const element = document.querySelector('#df-bd1d47ee-d7a0-471e-85f5-ce47bca5a1bd');\n",
              "          const dataTable =\n",
              "            await google.colab.kernel.invokeFunction('convertToInteractive',\n",
              "                                                     [key], {});\n",
              "          if (!dataTable) return;\n",
              "\n",
              "          const docLinkHtml = 'Like what you see? Visit the ' +\n",
              "            '<a target=\"_blank\" href=https://colab.research.google.com/notebooks/data_table.ipynb>data table notebook</a>'\n",
              "            + ' to learn more about interactive tables.';\n",
              "          element.innerHTML = '';\n",
              "          dataTable['output_type'] = 'display_data';\n",
              "          await google.colab.output.renderOutput(dataTable, element);\n",
              "          const docLink = document.createElement('div');\n",
              "          docLink.innerHTML = docLinkHtml;\n",
              "          element.appendChild(docLink);\n",
              "        }\n",
              "      </script>\n",
              "    </div>\n",
              "  </div>\n",
              "  "
            ]
          },
          "metadata": {},
          "execution_count": 837
        }
      ]
    },
    {
      "cell_type": "code",
      "source": [
        "#prediccion primeros 10 registros para test\n",
        "\n",
        "pred_EarlyStopping = pd.DataFrame(model2.predict(df_test),columns=['pred_EarlyStopping'])\n",
        "pred_EarlyStopping.head(10)"
      ],
      "metadata": {
        "colab": {
          "base_uri": "https://localhost:8080/",
          "height": 363
        },
        "id": "tS9kRi0BB67_",
        "outputId": "31ef0bc5-9c53-4322-b7cf-861d36fff33d"
      },
      "execution_count": 838,
      "outputs": [
        {
          "output_type": "execute_result",
          "data": {
            "text/plain": [
              "   pred_EarlyStopping\n",
              "0        18301.962891\n",
              "1        97168.976562\n",
              "2        97343.523438\n",
              "3        18301.962891\n",
              "4        18301.962891\n",
              "5        79423.390625\n",
              "6       116622.421875\n",
              "7        39577.937500\n",
              "8        46107.464844\n",
              "9        39164.187500"
            ],
            "text/html": [
              "\n",
              "  <div id=\"df-cf5908c9-74f7-469a-90ef-4ad4a51a5edc\">\n",
              "    <div class=\"colab-df-container\">\n",
              "      <div>\n",
              "<style scoped>\n",
              "    .dataframe tbody tr th:only-of-type {\n",
              "        vertical-align: middle;\n",
              "    }\n",
              "\n",
              "    .dataframe tbody tr th {\n",
              "        vertical-align: top;\n",
              "    }\n",
              "\n",
              "    .dataframe thead th {\n",
              "        text-align: right;\n",
              "    }\n",
              "</style>\n",
              "<table border=\"1\" class=\"dataframe\">\n",
              "  <thead>\n",
              "    <tr style=\"text-align: right;\">\n",
              "      <th></th>\n",
              "      <th>pred_EarlyStopping</th>\n",
              "    </tr>\n",
              "  </thead>\n",
              "  <tbody>\n",
              "    <tr>\n",
              "      <th>0</th>\n",
              "      <td>18301.962891</td>\n",
              "    </tr>\n",
              "    <tr>\n",
              "      <th>1</th>\n",
              "      <td>97168.976562</td>\n",
              "    </tr>\n",
              "    <tr>\n",
              "      <th>2</th>\n",
              "      <td>97343.523438</td>\n",
              "    </tr>\n",
              "    <tr>\n",
              "      <th>3</th>\n",
              "      <td>18301.962891</td>\n",
              "    </tr>\n",
              "    <tr>\n",
              "      <th>4</th>\n",
              "      <td>18301.962891</td>\n",
              "    </tr>\n",
              "    <tr>\n",
              "      <th>5</th>\n",
              "      <td>79423.390625</td>\n",
              "    </tr>\n",
              "    <tr>\n",
              "      <th>6</th>\n",
              "      <td>116622.421875</td>\n",
              "    </tr>\n",
              "    <tr>\n",
              "      <th>7</th>\n",
              "      <td>39577.937500</td>\n",
              "    </tr>\n",
              "    <tr>\n",
              "      <th>8</th>\n",
              "      <td>46107.464844</td>\n",
              "    </tr>\n",
              "    <tr>\n",
              "      <th>9</th>\n",
              "      <td>39164.187500</td>\n",
              "    </tr>\n",
              "  </tbody>\n",
              "</table>\n",
              "</div>\n",
              "      <button class=\"colab-df-convert\" onclick=\"convertToInteractive('df-cf5908c9-74f7-469a-90ef-4ad4a51a5edc')\"\n",
              "              title=\"Convert this dataframe to an interactive table.\"\n",
              "              style=\"display:none;\">\n",
              "        \n",
              "  <svg xmlns=\"http://www.w3.org/2000/svg\" height=\"24px\"viewBox=\"0 0 24 24\"\n",
              "       width=\"24px\">\n",
              "    <path d=\"M0 0h24v24H0V0z\" fill=\"none\"/>\n",
              "    <path d=\"M18.56 5.44l.94 2.06.94-2.06 2.06-.94-2.06-.94-.94-2.06-.94 2.06-2.06.94zm-11 1L8.5 8.5l.94-2.06 2.06-.94-2.06-.94L8.5 2.5l-.94 2.06-2.06.94zm10 10l.94 2.06.94-2.06 2.06-.94-2.06-.94-.94-2.06-.94 2.06-2.06.94z\"/><path d=\"M17.41 7.96l-1.37-1.37c-.4-.4-.92-.59-1.43-.59-.52 0-1.04.2-1.43.59L10.3 9.45l-7.72 7.72c-.78.78-.78 2.05 0 2.83L4 21.41c.39.39.9.59 1.41.59.51 0 1.02-.2 1.41-.59l7.78-7.78 2.81-2.81c.8-.78.8-2.07 0-2.86zM5.41 20L4 18.59l7.72-7.72 1.47 1.35L5.41 20z\"/>\n",
              "  </svg>\n",
              "      </button>\n",
              "      \n",
              "  <style>\n",
              "    .colab-df-container {\n",
              "      display:flex;\n",
              "      flex-wrap:wrap;\n",
              "      gap: 12px;\n",
              "    }\n",
              "\n",
              "    .colab-df-convert {\n",
              "      background-color: #E8F0FE;\n",
              "      border: none;\n",
              "      border-radius: 50%;\n",
              "      cursor: pointer;\n",
              "      display: none;\n",
              "      fill: #1967D2;\n",
              "      height: 32px;\n",
              "      padding: 0 0 0 0;\n",
              "      width: 32px;\n",
              "    }\n",
              "\n",
              "    .colab-df-convert:hover {\n",
              "      background-color: #E2EBFA;\n",
              "      box-shadow: 0px 1px 2px rgba(60, 64, 67, 0.3), 0px 1px 3px 1px rgba(60, 64, 67, 0.15);\n",
              "      fill: #174EA6;\n",
              "    }\n",
              "\n",
              "    [theme=dark] .colab-df-convert {\n",
              "      background-color: #3B4455;\n",
              "      fill: #D2E3FC;\n",
              "    }\n",
              "\n",
              "    [theme=dark] .colab-df-convert:hover {\n",
              "      background-color: #434B5C;\n",
              "      box-shadow: 0px 1px 3px 1px rgba(0, 0, 0, 0.15);\n",
              "      filter: drop-shadow(0px 1px 2px rgba(0, 0, 0, 0.3));\n",
              "      fill: #FFFFFF;\n",
              "    }\n",
              "  </style>\n",
              "\n",
              "      <script>\n",
              "        const buttonEl =\n",
              "          document.querySelector('#df-cf5908c9-74f7-469a-90ef-4ad4a51a5edc button.colab-df-convert');\n",
              "        buttonEl.style.display =\n",
              "          google.colab.kernel.accessAllowed ? 'block' : 'none';\n",
              "\n",
              "        async function convertToInteractive(key) {\n",
              "          const element = document.querySelector('#df-cf5908c9-74f7-469a-90ef-4ad4a51a5edc');\n",
              "          const dataTable =\n",
              "            await google.colab.kernel.invokeFunction('convertToInteractive',\n",
              "                                                     [key], {});\n",
              "          if (!dataTable) return;\n",
              "\n",
              "          const docLinkHtml = 'Like what you see? Visit the ' +\n",
              "            '<a target=\"_blank\" href=https://colab.research.google.com/notebooks/data_table.ipynb>data table notebook</a>'\n",
              "            + ' to learn more about interactive tables.';\n",
              "          element.innerHTML = '';\n",
              "          dataTable['output_type'] = 'display_data';\n",
              "          await google.colab.output.renderOutput(dataTable, element);\n",
              "          const docLink = document.createElement('div');\n",
              "          docLink.innerHTML = docLinkHtml;\n",
              "          element.appendChild(docLink);\n",
              "        }\n",
              "      </script>\n",
              "    </div>\n",
              "  </div>\n",
              "  "
            ]
          },
          "metadata": {},
          "execution_count": 838
        }
      ]
    },
    {
      "cell_type": "markdown",
      "source": [
        "**Modelo de regresión no lineal. RandomForest**"
      ],
      "metadata": {
        "id": "rGbU_6V9suxO"
      }
    },
    {
      "cell_type": "code",
      "source": [
        "X_train, X_test, Y_train, Y_test = train_test_split(X_train_cp, Y_train_cp, test_size=0.2, random_state=0)"
      ],
      "metadata": {
        "id": "_kFUD36Du-vW"
      },
      "execution_count": 839,
      "outputs": []
    },
    {
      "cell_type": "markdown",
      "source": [
        "Optimizando max_depth y n_estimators con GridSearch"
      ],
      "metadata": {
        "id": "YmZiIc5itDDO"
      }
    },
    {
      "cell_type": "code",
      "source": [
        "#modelo = RandomForestRegressor()\n",
        "#parametros = {\"n_estimators\": [10,50], \"max_depth\":range(1,20)}\n",
        "\n",
        "regressor=RandomForestRegressor(n_estimators = 500, random_state = 40)\n",
        "regressor.fit(X_train, Y_train)"
      ],
      "metadata": {
        "colab": {
          "base_uri": "https://localhost:8080/"
        },
        "id": "V1i62vpztIZt",
        "outputId": "2b1ac93b-2d38-4af5-9709-57c6a18efaa0"
      },
      "execution_count": 840,
      "outputs": [
        {
          "output_type": "stream",
          "name": "stderr",
          "text": [
            "/usr/local/lib/python3.7/dist-packages/ipykernel_launcher.py:5: DataConversionWarning: A column-vector y was passed when a 1d array was expected. Please change the shape of y to (n_samples,), for example using ravel().\n",
            "  \"\"\"\n"
          ]
        },
        {
          "output_type": "execute_result",
          "data": {
            "text/plain": [
              "RandomForestRegressor(n_estimators=500, random_state=40)"
            ]
          },
          "metadata": {},
          "execution_count": 840
        }
      ]
    },
    {
      "cell_type": "code",
      "source": [
        "\n",
        "Y_pred = regressor.predict(X_test)\n",
        "print('Mean Absolute Error:', metrics.mean_absolute_error(Y_test, Y_pred))\n",
        "print('Mean Squared Error:', metrics.mean_squared_error(Y_test, Y_pred))\n",
        "#print('Root Mean Squared Error:', np.sqrt(metrics.mean_squared_error(Y_test, Y_pred)))\n",
        "gg=print('mean_squared_error modelo RandomForest:', np.sqrt(metrics.mean_squared_error(Y_test, Y_pred)))"
      ],
      "metadata": {
        "colab": {
          "base_uri": "https://localhost:8080/"
        },
        "id": "znztialj3jT_",
        "outputId": "882d4665-bc26-4423-c68a-d16d9fbdc37a"
      },
      "execution_count": 849,
      "outputs": [
        {
          "output_type": "stream",
          "name": "stdout",
          "text": [
            "Mean Absolute Error: 0.39881314168368637\n",
            "Mean Squared Error: 12.798987710285653\n",
            "mean_squared_error modelo RandomForest: 3.577567289414086\n"
          ]
        }
      ]
    },
    {
      "cell_type": "code",
      "source": [
        "import seaborn as sns\n",
        "plt.figure(figsize=(5, 7))\n",
        "\n",
        "\n",
        "ax = sns.distplot(Y_train, hist=False, color=\"r\", label=\"Actual Value\")\n",
        "sns.distplot(Y_pred, hist=False, color=\"b\", label=\"Fitted Values\" , ax=ax)\n",
        "\n",
        "\n",
        "plt.title('Valor real vs predicción')\n",
        "\n",
        "\n",
        "plt.show()\n",
        "plt.close()"
      ],
      "metadata": {
        "colab": {
          "base_uri": "https://localhost:8080/",
          "height": 538
        },
        "id": "FmitEyt26vCz",
        "outputId": "b9303a9b-be5c-42ef-fdd9-4be6ba374cf9"
      },
      "execution_count": 842,
      "outputs": [
        {
          "output_type": "stream",
          "name": "stderr",
          "text": [
            "/usr/local/lib/python3.7/dist-packages/seaborn/distributions.py:2619: FutureWarning: `distplot` is a deprecated function and will be removed in a future version. Please adapt your code to use either `displot` (a figure-level function with similar flexibility) or `kdeplot` (an axes-level function for kernel density plots).\n",
            "  warnings.warn(msg, FutureWarning)\n",
            "/usr/local/lib/python3.7/dist-packages/seaborn/distributions.py:2619: FutureWarning: `distplot` is a deprecated function and will be removed in a future version. Please adapt your code to use either `displot` (a figure-level function with similar flexibility) or `kdeplot` (an axes-level function for kernel density plots).\n",
            "  warnings.warn(msg, FutureWarning)\n"
          ]
        },
        {
          "output_type": "display_data",
          "data": {
            "text/plain": [
              "<Figure size 360x504 with 1 Axes>"
            ],
            "image/png": "[encoded data removed]"
          },
          "metadata": {
            "needs_background": "light"
          }
        }
      ]
    },
    {
      "cell_type": "markdown",
      "source": [
        "**Predecir sobre test con RandomForest**"
      ],
      "metadata": {
        "id": "PF3jeAvJwD_z"
      }
    },
    {
      "cell_type": "code",
      "source": [
        "Y_pred = regressor.predict(df_test)\n",
        "pred_RandomForest=pd.DataFrame({'pred_RandomForest':Y_pred})\n",
        "pred_RandomForest.head(10)"
      ],
      "metadata": {
        "colab": {
          "base_uri": "https://localhost:8080/",
          "height": 363
        },
        "id": "0upbItue8Sn-",
        "outputId": "0632ec3c-d736-4b43-9c94-9af87a8d6587"
      },
      "execution_count": 843,
      "outputs": [
        {
          "output_type": "execute_result",
          "data": {
            "text/plain": [
              "   pred_RandomForest\n",
              "0            65013.0\n",
              "1            65013.0\n",
              "2            65013.0\n",
              "3            65013.0\n",
              "4            65013.0\n",
              "5            65013.0\n",
              "6            65013.0\n",
              "7            65013.0\n",
              "8            65013.0\n",
              "9            65013.0"
            ],
            "text/html": [
              "\n",
              "  <div id=\"df-4968acd3-7abb-4952-9080-c13a51e030b5\">\n",
              "    <div class=\"colab-df-container\">\n",
              "      <div>\n",
              "<style scoped>\n",
              "    .dataframe tbody tr th:only-of-type {\n",
              "        vertical-align: middle;\n",
              "    }\n",
              "\n",
              "    .dataframe tbody tr th {\n",
              "        vertical-align: top;\n",
              "    }\n",
              "\n",
              "    .dataframe thead th {\n",
              "        text-align: right;\n",
              "    }\n",
              "</style>\n",
              "<table border=\"1\" class=\"dataframe\">\n",
              "  <thead>\n",
              "    <tr style=\"text-align: right;\">\n",
              "      <th></th>\n",
              "      <th>pred_RandomForest</th>\n",
              "    </tr>\n",
              "  </thead>\n",
              "  <tbody>\n",
              "    <tr>\n",
              "      <th>0</th>\n",
              "      <td>65013.0</td>\n",
              "    </tr>\n",
              "    <tr>\n",
              "      <th>1</th>\n",
              "      <td>65013.0</td>\n",
              "    </tr>\n",
              "    <tr>\n",
              "      <th>2</th>\n",
              "      <td>65013.0</td>\n",
              "    </tr>\n",
              "    <tr>\n",
              "      <th>3</th>\n",
              "      <td>65013.0</td>\n",
              "    </tr>\n",
              "    <tr>\n",
              "      <th>4</th>\n",
              "      <td>65013.0</td>\n",
              "    </tr>\n",
              "    <tr>\n",
              "      <th>5</th>\n",
              "      <td>65013.0</td>\n",
              "    </tr>\n",
              "    <tr>\n",
              "      <th>6</th>\n",
              "      <td>65013.0</td>\n",
              "    </tr>\n",
              "    <tr>\n",
              "      <th>7</th>\n",
              "      <td>65013.0</td>\n",
              "    </tr>\n",
              "    <tr>\n",
              "      <th>8</th>\n",
              "      <td>65013.0</td>\n",
              "    </tr>\n",
              "    <tr>\n",
              "      <th>9</th>\n",
              "      <td>65013.0</td>\n",
              "    </tr>\n",
              "  </tbody>\n",
              "</table>\n",
              "</div>\n",
              "      <button class=\"colab-df-convert\" onclick=\"convertToInteractive('df-4968acd3-7abb-4952-9080-c13a51e030b5')\"\n",
              "              title=\"Convert this dataframe to an interactive table.\"\n",
              "              style=\"display:none;\">\n",
              "        \n",
              "  <svg xmlns=\"http://www.w3.org/2000/svg\" height=\"24px\"viewBox=\"0 0 24 24\"\n",
              "       width=\"24px\">\n",
              "    <path d=\"M0 0h24v24H0V0z\" fill=\"none\"/>\n",
              "    <path d=\"M18.56 5.44l.94 2.06.94-2.06 2.06-.94-2.06-.94-.94-2.06-.94 2.06-2.06.94zm-11 1L8.5 8.5l.94-2.06 2.06-.94-2.06-.94L8.5 2.5l-.94 2.06-2.06.94zm10 10l.94 2.06.94-2.06 2.06-.94-2.06-.94-.94-2.06-.94 2.06-2.06.94z\"/><path d=\"M17.41 7.96l-1.37-1.37c-.4-.4-.92-.59-1.43-.59-.52 0-1.04.2-1.43.59L10.3 9.45l-7.72 7.72c-.78.78-.78 2.05 0 2.83L4 21.41c.39.39.9.59 1.41.59.51 0 1.02-.2 1.41-.59l7.78-7.78 2.81-2.81c.8-.78.8-2.07 0-2.86zM5.41 20L4 18.59l7.72-7.72 1.47 1.35L5.41 20z\"/>\n",
              "  </svg>\n",
              "      </button>\n",
              "      \n",
              "  <style>\n",
              "    .colab-df-container {\n",
              "      display:flex;\n",
              "      flex-wrap:wrap;\n",
              "      gap: 12px;\n",
              "    }\n",
              "\n",
              "    .colab-df-convert {\n",
              "      background-color: #E8F0FE;\n",
              "      border: none;\n",
              "      border-radius: 50%;\n",
              "      cursor: pointer;\n",
              "      display: none;\n",
              "      fill: #1967D2;\n",
              "      height: 32px;\n",
              "      padding: 0 0 0 0;\n",
              "      width: 32px;\n",
              "    }\n",
              "\n",
              "    .colab-df-convert:hover {\n",
              "      background-color: #E2EBFA;\n",
              "      box-shadow: 0px 1px 2px rgba(60, 64, 67, 0.3), 0px 1px 3px 1px rgba(60, 64, 67, 0.15);\n",
              "      fill: #174EA6;\n",
              "    }\n",
              "\n",
              "    [theme=dark] .colab-df-convert {\n",
              "      background-color: #3B4455;\n",
              "      fill: #D2E3FC;\n",
              "    }\n",
              "\n",
              "    [theme=dark] .colab-df-convert:hover {\n",
              "      background-color: #434B5C;\n",
              "      box-shadow: 0px 1px 3px 1px rgba(0, 0, 0, 0.15);\n",
              "      filter: drop-shadow(0px 1px 2px rgba(0, 0, 0, 0.3));\n",
              "      fill: #FFFFFF;\n",
              "    }\n",
              "  </style>\n",
              "\n",
              "      <script>\n",
              "        const buttonEl =\n",
              "          document.querySelector('#df-4968acd3-7abb-4952-9080-c13a51e030b5 button.colab-df-convert');\n",
              "        buttonEl.style.display =\n",
              "          google.colab.kernel.accessAllowed ? 'block' : 'none';\n",
              "\n",
              "        async function convertToInteractive(key) {\n",
              "          const element = document.querySelector('#df-4968acd3-7abb-4952-9080-c13a51e030b5');\n",
              "          const dataTable =\n",
              "            await google.colab.kernel.invokeFunction('convertToInteractive',\n",
              "                                                     [key], {});\n",
              "          if (!dataTable) return;\n",
              "\n",
              "          const docLinkHtml = 'Like what you see? Visit the ' +\n",
              "            '<a target=\"_blank\" href=https://colab.research.google.com/notebooks/data_table.ipynb>data table notebook</a>'\n",
              "            + ' to learn more about interactive tables.';\n",
              "          element.innerHTML = '';\n",
              "          dataTable['output_type'] = 'display_data';\n",
              "          await google.colab.output.renderOutput(dataTable, element);\n",
              "          const docLink = document.createElement('div');\n",
              "          docLink.innerHTML = docLinkHtml;\n",
              "          element.appendChild(docLink);\n",
              "        }\n",
              "      </script>\n",
              "    </div>\n",
              "  </div>\n",
              "  "
            ]
          },
          "metadata": {},
          "execution_count": 843
        }
      ]
    },
    {
      "cell_type": "markdown",
      "source": [
        "Teniendo en cuenta que la media de pesos totales es 65000 las predicciones parecen ajustarse bien."
      ],
      "metadata": {
        "id": "V1Fxgxj0-Z-N"
      }
    },
    {
      "cell_type": "markdown",
      "source": [
        "**Conclusiones**"
      ],
      "metadata": {
        "id": "6HxQIVETzDRK"
      }
    },
    {
      "cell_type": "code",
      "source": [
        "predicciones=pd.concat([pred_Sequential,pred_EarlyStopping, pred_RandomForest], axis=1)\n",
        "predicciones.describe()\n"
      ],
      "metadata": {
        "colab": {
          "base_uri": "https://localhost:8080/",
          "height": 300
        },
        "id": "ZxkIqZr7AolY",
        "outputId": "7f234418-6538-4de4-f086-5edd7aa2732c"
      },
      "execution_count": 844,
      "outputs": [
        {
          "output_type": "execute_result",
          "data": {
            "text/plain": [
              "       pred_Sequential  pred_EarlyStopping  pred_RandomForest\n",
              "count      1916.000000         1916.000000        1916.000000\n",
              "mean      42820.312500        40666.785156       65017.837938\n",
              "std       22332.957031        28417.847656         211.766904\n",
              "min        3080.592285           32.140831       65013.000000\n",
              "25%       20044.261719        18301.962891       65013.000000\n",
              "50%       42254.167969        37677.935547       65013.000000\n",
              "75%       58519.606445        60298.621094       65013.000000\n",
              "max      284500.437500       331699.156250       74282.490000"
            ],
            "text/html": [
              "\n",
              "  <div id=\"df-b263c22f-0fca-4845-9a11-c3b9786ff50b\">\n",
              "    <div class=\"colab-df-container\">\n",
              "      <div>\n",
              "<style scoped>\n",
              "    .dataframe tbody tr th:only-of-type {\n",
              "        vertical-align: middle;\n",
              "    }\n",
              "\n",
              "    .dataframe tbody tr th {\n",
              "        vertical-align: top;\n",
              "    }\n",
              "\n",
              "    .dataframe thead th {\n",
              "        text-align: right;\n",
              "    }\n",
              "</style>\n",
              "<table border=\"1\" class=\"dataframe\">\n",
              "  <thead>\n",
              "    <tr style=\"text-align: right;\">\n",
              "      <th></th>\n",
              "      <th>pred_Sequential</th>\n",
              "      <th>pred_EarlyStopping</th>\n",
              "      <th>pred_RandomForest</th>\n",
              "    </tr>\n",
              "  </thead>\n",
              "  <tbody>\n",
              "    <tr>\n",
              "      <th>count</th>\n",
              "      <td>1916.000000</td>\n",
              "      <td>1916.000000</td>\n",
              "      <td>1916.000000</td>\n",
              "    </tr>\n",
              "    <tr>\n",
              "      <th>mean</th>\n",
              "      <td>42820.312500</td>\n",
              "      <td>40666.785156</td>\n",
              "      <td>65017.837938</td>\n",
              "    </tr>\n",
              "    <tr>\n",
              "      <th>std</th>\n",
              "      <td>22332.957031</td>\n",
              "      <td>28417.847656</td>\n",
              "      <td>211.766904</td>\n",
              "    </tr>\n",
              "    <tr>\n",
              "      <th>min</th>\n",
              "      <td>3080.592285</td>\n",
              "      <td>32.140831</td>\n",
              "      <td>65013.000000</td>\n",
              "    </tr>\n",
              "    <tr>\n",
              "      <th>25%</th>\n",
              "      <td>20044.261719</td>\n",
              "      <td>18301.962891</td>\n",
              "      <td>65013.000000</td>\n",
              "    </tr>\n",
              "    <tr>\n",
              "      <th>50%</th>\n",
              "      <td>42254.167969</td>\n",
              "      <td>37677.935547</td>\n",
              "      <td>65013.000000</td>\n",
              "    </tr>\n",
              "    <tr>\n",
              "      <th>75%</th>\n",
              "      <td>58519.606445</td>\n",
              "      <td>60298.621094</td>\n",
              "      <td>65013.000000</td>\n",
              "    </tr>\n",
              "    <tr>\n",
              "      <th>max</th>\n",
              "      <td>284500.437500</td>\n",
              "      <td>331699.156250</td>\n",
              "      <td>74282.490000</td>\n",
              "    </tr>\n",
              "  </tbody>\n",
              "</table>\n",
              "</div>\n",
              "      <button class=\"colab-df-convert\" onclick=\"convertToInteractive('df-b263c22f-0fca-4845-9a11-c3b9786ff50b')\"\n",
              "              title=\"Convert this dataframe to an interactive table.\"\n",
              "              style=\"display:none;\">\n",
              "        \n",
              "  <svg xmlns=\"http://www.w3.org/2000/svg\" height=\"24px\"viewBox=\"0 0 24 24\"\n",
              "       width=\"24px\">\n",
              "    <path d=\"M0 0h24v24H0V0z\" fill=\"none\"/>\n",
              "    <path d=\"M18.56 5.44l.94 2.06.94-2.06 2.06-.94-2.06-.94-.94-2.06-.94 2.06-2.06.94zm-11 1L8.5 8.5l.94-2.06 2.06-.94-2.06-.94L8.5 2.5l-.94 2.06-2.06.94zm10 10l.94 2.06.94-2.06 2.06-.94-2.06-.94-.94-2.06-.94 2.06-2.06.94z\"/><path d=\"M17.41 7.96l-1.37-1.37c-.4-.4-.92-.59-1.43-.59-.52 0-1.04.2-1.43.59L10.3 9.45l-7.72 7.72c-.78.78-.78 2.05 0 2.83L4 21.41c.39.39.9.59 1.41.59.51 0 1.02-.2 1.41-.59l7.78-7.78 2.81-2.81c.8-.78.8-2.07 0-2.86zM5.41 20L4 18.59l7.72-7.72 1.47 1.35L5.41 20z\"/>\n",
              "  </svg>\n",
              "      </button>\n",
              "      \n",
              "  <style>\n",
              "    .colab-df-container {\n",
              "      display:flex;\n",
              "      flex-wrap:wrap;\n",
              "      gap: 12px;\n",
              "    }\n",
              "\n",
              "    .colab-df-convert {\n",
              "      background-color: #E8F0FE;\n",
              "      border: none;\n",
              "      border-radius: 50%;\n",
              "      cursor: pointer;\n",
              "      display: none;\n",
              "      fill: #1967D2;\n",
              "      height: 32px;\n",
              "      padding: 0 0 0 0;\n",
              "      width: 32px;\n",
              "    }\n",
              "\n",
              "    .colab-df-convert:hover {\n",
              "      background-color: #E2EBFA;\n",
              "      box-shadow: 0px 1px 2px rgba(60, 64, 67, 0.3), 0px 1px 3px 1px rgba(60, 64, 67, 0.15);\n",
              "      fill: #174EA6;\n",
              "    }\n",
              "\n",
              "    [theme=dark] .colab-df-convert {\n",
              "      background-color: #3B4455;\n",
              "      fill: #D2E3FC;\n",
              "    }\n",
              "\n",
              "    [theme=dark] .colab-df-convert:hover {\n",
              "      background-color: #434B5C;\n",
              "      box-shadow: 0px 1px 3px 1px rgba(0, 0, 0, 0.15);\n",
              "      filter: drop-shadow(0px 1px 2px rgba(0, 0, 0, 0.3));\n",
              "      fill: #FFFFFF;\n",
              "    }\n",
              "  </style>\n",
              "\n",
              "      <script>\n",
              "        const buttonEl =\n",
              "          document.querySelector('#df-b263c22f-0fca-4845-9a11-c3b9786ff50b button.colab-df-convert');\n",
              "        buttonEl.style.display =\n",
              "          google.colab.kernel.accessAllowed ? 'block' : 'none';\n",
              "\n",
              "        async function convertToInteractive(key) {\n",
              "          const element = document.querySelector('#df-b263c22f-0fca-4845-9a11-c3b9786ff50b');\n",
              "          const dataTable =\n",
              "            await google.colab.kernel.invokeFunction('convertToInteractive',\n",
              "                                                     [key], {});\n",
              "          if (!dataTable) return;\n",
              "\n",
              "          const docLinkHtml = 'Like what you see? Visit the ' +\n",
              "            '<a target=\"_blank\" href=https://colab.research.google.com/notebooks/data_table.ipynb>data table notebook</a>'\n",
              "            + ' to learn more about interactive tables.';\n",
              "          element.innerHTML = '';\n",
              "          dataTable['output_type'] = 'display_data';\n",
              "          await google.colab.output.renderOutput(dataTable, element);\n",
              "          const docLink = document.createElement('div');\n",
              "          docLink.innerHTML = docLinkHtml;\n",
              "          element.appendChild(docLink);\n",
              "        }\n",
              "      </script>\n",
              "    </div>\n",
              "  </div>\n",
              "  "
            ]
          },
          "metadata": {},
          "execution_count": 844
        }
      ]
    },
    {
      "cell_type": "code",
      "source": [
        "#RMSE_forest=metrics.mean_squared_error(Y_test, Y_pred)\n",
        "\n",
        "print('mean_squared_error modelo secuencial: ',hist['mse'].mean())\n",
        "print('mean_squared_error modelo EarlyStopping: ',hist2['mse'].mean())\n",
        "print('mean_squared_error modelo RandomForest:', np.sqrt(metrics.mean_squared_error(Y_test, Y_pred)))\n"
      ],
      "metadata": {
        "colab": {
          "base_uri": "https://localhost:8080/"
        },
        "id": "2AbRaK6niwAU",
        "outputId": "872fd03a-c250-4fa6-a2a2-e3d4b7eeeceb"
      },
      "execution_count": 856,
      "outputs": [
        {
          "output_type": "stream",
          "name": "stdout",
          "text": [
            "mean_squared_error modelo secuencial:  1029666547.84\n",
            "mean_squared_error modelo EarlyStopping:  1155090880.0\n",
            "mean_squared_error modelo RandomForest: 3.577567289414086\n"
          ]
        }
      ]
    },
    {
      "cell_type": "markdown",
      "source": [
        "El mejor modelo sería el realizado con RandomForest"
      ],
      "metadata": {
        "id": "EI3_0Pe9v8Um"
      }
    }
  ]
}